{
 "cells": [
  {
   "cell_type": "markdown",
   "metadata": {
    "id": "dF83K5Q625HI"
   },
   "source": [
    "# **Neural Network: Predicting Chances of Admission**\n",
    "## Author: **Gabriel Egbenya**"
   ]
  },
  {
   "cell_type": "markdown",
   "metadata": {
    "id": "aaMUKdYfFNhF"
   },
   "source": [
    "--------------------\n",
    "## **Context**\n",
    "--------------------\n",
    "\n",
    "The world is developing rapidly and continuously looking for the best knowledge and experience among people. This motivates people all around the world to stand out in their jobs and look for higher degrees that can help them in improving their skills and knowledge. As a result, the number of students applying for Master's programs has increased substantially.\n",
    "\n",
    "The current admission dataset was created for the prediction of admissions into the University of California, Los Angeles (UCLA). It was built to help students in shortlisting universities based on their profiles. The predicted output gives them a fair idea about their chances of getting accepted.\n",
    "\n",
    "----------------------\n",
    "## **Objective**\n",
    "----------------------\n",
    "\n",
    "We need to build a classification model using neural networks to predict a student's chances of admission into UCLA.\n",
    "\n",
    "------------------------------\n",
    "## **Data Dictionary**\n",
    "------------------------------\n",
    "\n",
    "The dataset contains several features which are considered important during the application for Masters Programs.\n",
    "The features included are:\n",
    "\n",
    "- **GRE Scores:** (out of 340)\n",
    "\n",
    "- **TOEFL Scores:** (out of 120)\n",
    "\n",
    "- **University Rating:**  It indicates the Bachelor University ranking (out of 5)\n",
    "\n",
    "- **Statement of Purpose Strength:** (out of 5)\n",
    "\n",
    "- **Letter of Recommendation Strength:** (out of 5)\n",
    "\n",
    "- **Undergraduate GPA:** (out of 10)\n",
    "\n",
    "- **Research Experience:** (either 0 or 1)\n",
    "\n",
    "- **Chance of Admit:** (ranging from 0 to 1)"
   ]
  },
  {
   "cell_type": "markdown",
   "metadata": {
    "id": "K-_rnOme21kx"
   },
   "source": []
  },
  {
   "cell_type": "code",
   "execution_count": 9,
   "metadata": {
    "id": "qaS_ndYUFeap"
   },
   "outputs": [],
   "source": [
    "import os\n",
    "import numpy as np\n",
    "import pandas as pd\n",
    "import matplotlib.pyplot as plt\n",
    "import seaborn as sns\n",
    "\n",
    "from sklearn.model_selection import train_test_split\n",
    "from sklearn.preprocessing import MinMaxScaler\n",
    "\n",
    "\n",
    "#Imports functions for evaluating the performance of machine learning models\n",
    "from sklearn.metrics import confusion_matrix, f1_score,accuracy_score, recall_score, precision_score, classification_report\n",
    "\n",
    "\n",
    "import tensorflow as tf\n",
    "from tensorflow.keras.models import Sequential\n",
    "from tensorflow.keras.layers import Dense, Dropout, Activation"
   ]
  },
  {
   "cell_type": "code",
   "execution_count": 10,
   "metadata": {
    "id": "l9GeGOUBGA5_"
   },
   "outputs": [],
   "source": [
    "import os"
   ]
  },
  {
   "cell_type": "code",
   "execution_count": 11,
   "metadata": {
    "colab": {
     "base_uri": "https://localhost:8080/"
    },
    "id": "muWVkSFRGB-T",
    "outputId": "ff0861b9-21e1-4642-d99f-27db91f99bf5"
   },
   "outputs": [],
   "source": [
    "# from google.colab import drive\n",
    "# drive.mount('/content/drive')"
   ]
  },
  {
   "cell_type": "code",
   "execution_count": 12,
   "metadata": {
    "colab": {
     "base_uri": "https://localhost:8080/",
     "height": 206
    },
    "id": "KpNZ_xZ8Fedb",
    "outputId": "2bd304db-a45f-4b5d-ac69-51efe1cbc0cf"
   },
   "outputs": [
    {
     "data": {
      "text/html": [
       "<div>\n",
       "<style scoped>\n",
       "    .dataframe tbody tr th:only-of-type {\n",
       "        vertical-align: middle;\n",
       "    }\n",
       "\n",
       "    .dataframe tbody tr th {\n",
       "        vertical-align: top;\n",
       "    }\n",
       "\n",
       "    .dataframe thead th {\n",
       "        text-align: right;\n",
       "    }\n",
       "</style>\n",
       "<table border=\"1\" class=\"dataframe\">\n",
       "  <thead>\n",
       "    <tr style=\"text-align: right;\">\n",
       "      <th></th>\n",
       "      <th>Serial No.</th>\n",
       "      <th>GRE Score</th>\n",
       "      <th>TOEFL Score</th>\n",
       "      <th>University Rating</th>\n",
       "      <th>SOP</th>\n",
       "      <th>LOR</th>\n",
       "      <th>CGPA</th>\n",
       "      <th>Research</th>\n",
       "      <th>Chance of Admit</th>\n",
       "    </tr>\n",
       "  </thead>\n",
       "  <tbody>\n",
       "    <tr>\n",
       "      <th>0</th>\n",
       "      <td>1</td>\n",
       "      <td>337</td>\n",
       "      <td>118</td>\n",
       "      <td>4</td>\n",
       "      <td>4.5</td>\n",
       "      <td>4.5</td>\n",
       "      <td>9.65</td>\n",
       "      <td>1</td>\n",
       "      <td>0.92</td>\n",
       "    </tr>\n",
       "    <tr>\n",
       "      <th>1</th>\n",
       "      <td>2</td>\n",
       "      <td>324</td>\n",
       "      <td>107</td>\n",
       "      <td>4</td>\n",
       "      <td>4.0</td>\n",
       "      <td>4.5</td>\n",
       "      <td>8.87</td>\n",
       "      <td>1</td>\n",
       "      <td>0.76</td>\n",
       "    </tr>\n",
       "    <tr>\n",
       "      <th>2</th>\n",
       "      <td>3</td>\n",
       "      <td>316</td>\n",
       "      <td>104</td>\n",
       "      <td>3</td>\n",
       "      <td>3.0</td>\n",
       "      <td>3.5</td>\n",
       "      <td>8.00</td>\n",
       "      <td>1</td>\n",
       "      <td>0.72</td>\n",
       "    </tr>\n",
       "    <tr>\n",
       "      <th>3</th>\n",
       "      <td>4</td>\n",
       "      <td>322</td>\n",
       "      <td>110</td>\n",
       "      <td>3</td>\n",
       "      <td>3.5</td>\n",
       "      <td>2.5</td>\n",
       "      <td>8.67</td>\n",
       "      <td>1</td>\n",
       "      <td>0.80</td>\n",
       "    </tr>\n",
       "    <tr>\n",
       "      <th>4</th>\n",
       "      <td>5</td>\n",
       "      <td>314</td>\n",
       "      <td>103</td>\n",
       "      <td>2</td>\n",
       "      <td>2.0</td>\n",
       "      <td>3.0</td>\n",
       "      <td>8.21</td>\n",
       "      <td>0</td>\n",
       "      <td>0.65</td>\n",
       "    </tr>\n",
       "  </tbody>\n",
       "</table>\n",
       "</div>"
      ],
      "text/plain": [
       "   Serial No.  GRE Score  TOEFL Score  University Rating  SOP  LOR   CGPA  \\\n",
       "0           1        337          118                  4  4.5   4.5  9.65   \n",
       "1           2        324          107                  4  4.0   4.5  8.87   \n",
       "2           3        316          104                  3  3.0   3.5  8.00   \n",
       "3           4        322          110                  3  3.5   2.5  8.67   \n",
       "4           5        314          103                  2  2.0   3.0  8.21   \n",
       "\n",
       "   Research  Chance of Admit   \n",
       "0         1              0.92  \n",
       "1         1              0.76  \n",
       "2         1              0.72  \n",
       "3         1              0.80  \n",
       "4         0              0.65  "
      ]
     },
     "execution_count": 12,
     "metadata": {},
     "output_type": "execute_result"
    }
   ],
   "source": [
    "# loading the dataset\n",
    "Admission_Predict = pd.read_csv('Admission_Predict.csv')\n",
    "\n",
    "# Check the top five records of the data\n",
    "Admission_Predict.head()"
   ]
  },
  {
   "cell_type": "code",
   "execution_count": 13,
   "metadata": {
    "colab": {
     "base_uri": "https://localhost:8080/",
     "height": 206
    },
    "id": "G7YR3m0-Fegu",
    "outputId": "532b7046-63b3-4e44-ef24-2efe46b97feb"
   },
   "outputs": [],
   "source": [
    "data = Admission_Predict.copy()"
   ]
  },
  {
   "cell_type": "code",
   "execution_count": 14,
   "metadata": {
    "colab": {
     "base_uri": "https://localhost:8080/"
    },
    "id": "b1mrD3eAFejX",
    "outputId": "c69125b3-55ba-471c-da3c-544b51443166"
   },
   "outputs": [
    {
     "data": {
      "text/plain": [
       "(500, 9)"
      ]
     },
     "execution_count": 14,
     "metadata": {},
     "output_type": "execute_result"
    }
   ],
   "source": [
    "data.shape"
   ]
  },
  {
   "cell_type": "code",
   "execution_count": 15,
   "metadata": {
    "colab": {
     "base_uri": "https://localhost:8080/"
    },
    "id": "6edpYU8HFel9",
    "outputId": "3134611e-4c4c-4b65-b037-d8107a2d32c0"
   },
   "outputs": [
    {
     "name": "stdout",
     "output_type": "stream",
     "text": [
      "<class 'pandas.core.frame.DataFrame'>\n",
      "RangeIndex: 500 entries, 0 to 499\n",
      "Data columns (total 9 columns):\n",
      " #   Column             Non-Null Count  Dtype  \n",
      "---  ------             --------------  -----  \n",
      " 0   Serial No.         500 non-null    int64  \n",
      " 1   GRE Score          500 non-null    int64  \n",
      " 2   TOEFL Score        500 non-null    int64  \n",
      " 3   University Rating  500 non-null    int64  \n",
      " 4   SOP                500 non-null    float64\n",
      " 5   LOR                500 non-null    float64\n",
      " 6   CGPA               500 non-null    float64\n",
      " 7   Research           500 non-null    int64  \n",
      " 8   Chance of Admit    500 non-null    float64\n",
      "dtypes: float64(4), int64(5)\n",
      "memory usage: 35.3 KB\n"
     ]
    }
   ],
   "source": [
    "data.info()"
   ]
  },
  {
   "cell_type": "code",
   "execution_count": 16,
   "metadata": {
    "colab": {
     "base_uri": "https://localhost:8080/",
     "height": 367
    },
    "id": "BpNr3TMDFeoj",
    "outputId": "69ea836a-bd91-4fb1-8e61-bad357c90cf0"
   },
   "outputs": [
    {
     "data": {
      "text/plain": [
       "Serial No.           0\n",
       "GRE Score            0\n",
       "TOEFL Score          0\n",
       "University Rating    0\n",
       "SOP                  0\n",
       "LOR                  0\n",
       "CGPA                 0\n",
       "Research             0\n",
       "Chance of Admit      0\n",
       "dtype: int64"
      ]
     },
     "execution_count": 16,
     "metadata": {},
     "output_type": "execute_result"
    }
   ],
   "source": [
    "data.isnull().sum()"
   ]
  },
  {
   "cell_type": "code",
   "execution_count": 17,
   "metadata": {
    "colab": {
     "base_uri": "https://localhost:8080/",
     "height": 332
    },
    "id": "MJ05egS8Feq7",
    "outputId": "7d920208-e4ea-4789-c31b-fdac8d1c7b8b"
   },
   "outputs": [
    {
     "data": {
      "text/html": [
       "<div>\n",
       "<style scoped>\n",
       "    .dataframe tbody tr th:only-of-type {\n",
       "        vertical-align: middle;\n",
       "    }\n",
       "\n",
       "    .dataframe tbody tr th {\n",
       "        vertical-align: top;\n",
       "    }\n",
       "\n",
       "    .dataframe thead th {\n",
       "        text-align: right;\n",
       "    }\n",
       "</style>\n",
       "<table border=\"1\" class=\"dataframe\">\n",
       "  <thead>\n",
       "    <tr style=\"text-align: right;\">\n",
       "      <th></th>\n",
       "      <th>count</th>\n",
       "      <th>mean</th>\n",
       "      <th>std</th>\n",
       "      <th>min</th>\n",
       "      <th>25%</th>\n",
       "      <th>50%</th>\n",
       "      <th>75%</th>\n",
       "      <th>max</th>\n",
       "    </tr>\n",
       "  </thead>\n",
       "  <tbody>\n",
       "    <tr>\n",
       "      <th>Serial No.</th>\n",
       "      <td>500.0</td>\n",
       "      <td>250.50000</td>\n",
       "      <td>144.481833</td>\n",
       "      <td>1.00</td>\n",
       "      <td>125.7500</td>\n",
       "      <td>250.50</td>\n",
       "      <td>375.25</td>\n",
       "      <td>500.00</td>\n",
       "    </tr>\n",
       "    <tr>\n",
       "      <th>GRE Score</th>\n",
       "      <td>500.0</td>\n",
       "      <td>316.47200</td>\n",
       "      <td>11.295148</td>\n",
       "      <td>290.00</td>\n",
       "      <td>308.0000</td>\n",
       "      <td>317.00</td>\n",
       "      <td>325.00</td>\n",
       "      <td>340.00</td>\n",
       "    </tr>\n",
       "    <tr>\n",
       "      <th>TOEFL Score</th>\n",
       "      <td>500.0</td>\n",
       "      <td>107.19200</td>\n",
       "      <td>6.081868</td>\n",
       "      <td>92.00</td>\n",
       "      <td>103.0000</td>\n",
       "      <td>107.00</td>\n",
       "      <td>112.00</td>\n",
       "      <td>120.00</td>\n",
       "    </tr>\n",
       "    <tr>\n",
       "      <th>University Rating</th>\n",
       "      <td>500.0</td>\n",
       "      <td>3.11400</td>\n",
       "      <td>1.143512</td>\n",
       "      <td>1.00</td>\n",
       "      <td>2.0000</td>\n",
       "      <td>3.00</td>\n",
       "      <td>4.00</td>\n",
       "      <td>5.00</td>\n",
       "    </tr>\n",
       "    <tr>\n",
       "      <th>SOP</th>\n",
       "      <td>500.0</td>\n",
       "      <td>3.37400</td>\n",
       "      <td>0.991004</td>\n",
       "      <td>1.00</td>\n",
       "      <td>2.5000</td>\n",
       "      <td>3.50</td>\n",
       "      <td>4.00</td>\n",
       "      <td>5.00</td>\n",
       "    </tr>\n",
       "    <tr>\n",
       "      <th>LOR</th>\n",
       "      <td>500.0</td>\n",
       "      <td>3.48400</td>\n",
       "      <td>0.925450</td>\n",
       "      <td>1.00</td>\n",
       "      <td>3.0000</td>\n",
       "      <td>3.50</td>\n",
       "      <td>4.00</td>\n",
       "      <td>5.00</td>\n",
       "    </tr>\n",
       "    <tr>\n",
       "      <th>CGPA</th>\n",
       "      <td>500.0</td>\n",
       "      <td>8.57644</td>\n",
       "      <td>0.604813</td>\n",
       "      <td>6.80</td>\n",
       "      <td>8.1275</td>\n",
       "      <td>8.56</td>\n",
       "      <td>9.04</td>\n",
       "      <td>9.92</td>\n",
       "    </tr>\n",
       "    <tr>\n",
       "      <th>Research</th>\n",
       "      <td>500.0</td>\n",
       "      <td>0.56000</td>\n",
       "      <td>0.496884</td>\n",
       "      <td>0.00</td>\n",
       "      <td>0.0000</td>\n",
       "      <td>1.00</td>\n",
       "      <td>1.00</td>\n",
       "      <td>1.00</td>\n",
       "    </tr>\n",
       "    <tr>\n",
       "      <th>Chance of Admit</th>\n",
       "      <td>500.0</td>\n",
       "      <td>0.72174</td>\n",
       "      <td>0.141140</td>\n",
       "      <td>0.34</td>\n",
       "      <td>0.6300</td>\n",
       "      <td>0.72</td>\n",
       "      <td>0.82</td>\n",
       "      <td>0.97</td>\n",
       "    </tr>\n",
       "  </tbody>\n",
       "</table>\n",
       "</div>"
      ],
      "text/plain": [
       "                   count       mean         std     min       25%     50%  \\\n",
       "Serial No.         500.0  250.50000  144.481833    1.00  125.7500  250.50   \n",
       "GRE Score          500.0  316.47200   11.295148  290.00  308.0000  317.00   \n",
       "TOEFL Score        500.0  107.19200    6.081868   92.00  103.0000  107.00   \n",
       "University Rating  500.0    3.11400    1.143512    1.00    2.0000    3.00   \n",
       "SOP                500.0    3.37400    0.991004    1.00    2.5000    3.50   \n",
       "LOR                500.0    3.48400    0.925450    1.00    3.0000    3.50   \n",
       "CGPA               500.0    8.57644    0.604813    6.80    8.1275    8.56   \n",
       "Research           500.0    0.56000    0.496884    0.00    0.0000    1.00   \n",
       "Chance of Admit    500.0    0.72174    0.141140    0.34    0.6300    0.72   \n",
       "\n",
       "                      75%     max  \n",
       "Serial No.         375.25  500.00  \n",
       "GRE Score          325.00  340.00  \n",
       "TOEFL Score        112.00  120.00  \n",
       "University Rating    4.00    5.00  \n",
       "SOP                  4.00    5.00  \n",
       "LOR                  4.00    5.00  \n",
       "CGPA                 9.04    9.92  \n",
       "Research             1.00    1.00  \n",
       "Chance of Admit      0.82    0.97  "
      ]
     },
     "execution_count": 17,
     "metadata": {},
     "output_type": "execute_result"
    }
   ],
   "source": [
    "data.describe().T"
   ]
  },
  {
   "cell_type": "code",
   "execution_count": 18,
   "metadata": {
    "colab": {
     "base_uri": "https://localhost:8080/"
    },
    "id": "di0kWd3GFetO",
    "outputId": "63557440-e1f0-48ff-b7de-556367afd754"
   },
   "outputs": [
    {
     "data": {
      "text/plain": [
       "Index(['Serial No.', 'GRE Score', 'TOEFL Score', 'University Rating', 'SOP',\n",
       "       'LOR ', 'CGPA', 'Research', 'Chance of Admit '],\n",
       "      dtype='object')"
      ]
     },
     "execution_count": 18,
     "metadata": {},
     "output_type": "execute_result"
    }
   ],
   "source": [
    "data.columns"
   ]
  },
  {
   "cell_type": "code",
   "execution_count": 19,
   "metadata": {
    "colab": {
     "base_uri": "https://localhost:8080/",
     "height": 367
    },
    "id": "p6D4gWuYFO2V",
    "outputId": "37266565-adb5-469d-a3e5-3f8a9b02bf27"
   },
   "outputs": [
    {
     "data": {
      "text/plain": [
       "Serial No.           500\n",
       "GRE Score             49\n",
       "TOEFL Score           29\n",
       "University Rating      5\n",
       "SOP                    9\n",
       "LOR                    9\n",
       "CGPA                 184\n",
       "Research               2\n",
       "Chance of Admit       61\n",
       "dtype: int64"
      ]
     },
     "execution_count": 19,
     "metadata": {},
     "output_type": "execute_result"
    }
   ],
   "source": [
    "data.nunique()"
   ]
  },
  {
   "cell_type": "markdown",
   "metadata": {
    "id": "ZLkInvL3LJjx"
   },
   "source": [
    "### Observation\n",
    "\n",
    "* Serial No has unique values, we will be dropping this field\n",
    "* Chance of Admit is the target variable with multiple unique values, we will label encode this to 0 and 1. if the chance of admit value is above 80%, then 1 else 0."
   ]
  },
  {
   "cell_type": "code",
   "execution_count": 20,
   "metadata": {
    "id": "nlu_A9IELqUH"
   },
   "outputs": [],
   "source": [
    "data['Admit'] = data['Chance of Admit '].apply(lambda x: 1 if x > 0.8 else 0)"
   ]
  },
  {
   "cell_type": "code",
   "execution_count": 21,
   "metadata": {
    "colab": {
     "base_uri": "https://localhost:8080/",
     "height": 224
    },
    "id": "BRAhnwsSMJmv",
    "outputId": "05347945-7318-4ae8-90f1-06c3fecab154"
   },
   "outputs": [
    {
     "name": "stdout",
     "output_type": "stream",
     "text": [
      "(500, 8)\n"
     ]
    },
    {
     "data": {
      "text/html": [
       "<div>\n",
       "<style scoped>\n",
       "    .dataframe tbody tr th:only-of-type {\n",
       "        vertical-align: middle;\n",
       "    }\n",
       "\n",
       "    .dataframe tbody tr th {\n",
       "        vertical-align: top;\n",
       "    }\n",
       "\n",
       "    .dataframe thead th {\n",
       "        text-align: right;\n",
       "    }\n",
       "</style>\n",
       "<table border=\"1\" class=\"dataframe\">\n",
       "  <thead>\n",
       "    <tr style=\"text-align: right;\">\n",
       "      <th></th>\n",
       "      <th>GRE Score</th>\n",
       "      <th>TOEFL Score</th>\n",
       "      <th>University Rating</th>\n",
       "      <th>SOP</th>\n",
       "      <th>LOR</th>\n",
       "      <th>CGPA</th>\n",
       "      <th>Research</th>\n",
       "      <th>Admit</th>\n",
       "    </tr>\n",
       "  </thead>\n",
       "  <tbody>\n",
       "    <tr>\n",
       "      <th>0</th>\n",
       "      <td>337</td>\n",
       "      <td>118</td>\n",
       "      <td>4</td>\n",
       "      <td>4.5</td>\n",
       "      <td>4.5</td>\n",
       "      <td>9.65</td>\n",
       "      <td>1</td>\n",
       "      <td>1</td>\n",
       "    </tr>\n",
       "    <tr>\n",
       "      <th>1</th>\n",
       "      <td>324</td>\n",
       "      <td>107</td>\n",
       "      <td>4</td>\n",
       "      <td>4.0</td>\n",
       "      <td>4.5</td>\n",
       "      <td>8.87</td>\n",
       "      <td>1</td>\n",
       "      <td>0</td>\n",
       "    </tr>\n",
       "    <tr>\n",
       "      <th>2</th>\n",
       "      <td>316</td>\n",
       "      <td>104</td>\n",
       "      <td>3</td>\n",
       "      <td>3.0</td>\n",
       "      <td>3.5</td>\n",
       "      <td>8.00</td>\n",
       "      <td>1</td>\n",
       "      <td>0</td>\n",
       "    </tr>\n",
       "    <tr>\n",
       "      <th>3</th>\n",
       "      <td>322</td>\n",
       "      <td>110</td>\n",
       "      <td>3</td>\n",
       "      <td>3.5</td>\n",
       "      <td>2.5</td>\n",
       "      <td>8.67</td>\n",
       "      <td>1</td>\n",
       "      <td>0</td>\n",
       "    </tr>\n",
       "    <tr>\n",
       "      <th>4</th>\n",
       "      <td>314</td>\n",
       "      <td>103</td>\n",
       "      <td>2</td>\n",
       "      <td>2.0</td>\n",
       "      <td>3.0</td>\n",
       "      <td>8.21</td>\n",
       "      <td>0</td>\n",
       "      <td>0</td>\n",
       "    </tr>\n",
       "  </tbody>\n",
       "</table>\n",
       "</div>"
      ],
      "text/plain": [
       "   GRE Score  TOEFL Score  University Rating  SOP  LOR   CGPA  Research  Admit\n",
       "0        337          118                  4  4.5   4.5  9.65         1      1\n",
       "1        324          107                  4  4.0   4.5  8.87         1      0\n",
       "2        316          104                  3  3.0   3.5  8.00         1      0\n",
       "3        322          110                  3  3.5   2.5  8.67         1      0\n",
       "4        314          103                  2  2.0   3.0  8.21         0      0"
      ]
     },
     "execution_count": 21,
     "metadata": {},
     "output_type": "execute_result"
    }
   ],
   "source": [
    "# Dropping the serial no and Chance of Admit field\n",
    "data.drop(['Serial No.', 'Chance of Admit '], axis=1, inplace=True)\n",
    "print(data.shape)\n",
    "data.head()"
   ]
  },
  {
   "cell_type": "markdown",
   "metadata": {
    "id": "JqMpgbQtKlDn"
   },
   "source": [
    "## Let's do a little EDA"
   ]
  },
  {
   "cell_type": "code",
   "execution_count": 22,
   "metadata": {
    "colab": {
     "base_uri": "https://localhost:8080/",
     "height": 696
    },
    "id": "TKfkTLdtH6Ey",
    "outputId": "fd5cee16-3fdb-4905-a048-a66579577312"
   },
   "outputs": [
    {
     "data": {
      "image/png": "[encoded data removed]",
      "text/plain": [
       "<Figure size 1500x800 with 1 Axes>"
      ]
     },
     "metadata": {},
     "output_type": "display_data"
    }
   ],
   "source": [
    "plt.figure(figsize=(15,8))\n",
    "sns.scatterplot(data=data,\n",
    "           x='GRE Score',\n",
    "           y='TOEFL Score',\n",
    "           hue='Admit',\n",
    "           size='SOP');"
   ]
  },
  {
   "cell_type": "code",
   "execution_count": 23,
   "metadata": {
    "colab": {
     "base_uri": "https://localhost:8080/",
     "height": 641
    },
    "id": "pQVJrwAxN50B",
    "outputId": "474d6e99-beca-431d-ad40-bce1c8db1f73"
   },
   "outputs": [
    {
     "data": {
      "image/png": "[encoded data removed]",
      "text/plain": [
       "<Figure size 1000x700 with 1 Axes>"
      ]
     },
     "metadata": {},
     "output_type": "display_data"
    }
   ],
   "source": [
    "plt.figure(figsize=(10,7))\n",
    "sns.boxplot(data=data,\n",
    "             x='University Rating',\n",
    "             y='CGPA',\n",
    "             hue='Admit')\n",
    "plt.title('Relationship between different University Rating and CGPA')\n",
    "plt.show()"
   ]
  },
  {
   "cell_type": "markdown",
   "metadata": {
    "id": "0HZHjpMzOhOx"
   },
   "source": [
    "## Data Preprocessing"
   ]
  },
  {
   "cell_type": "code",
   "execution_count": 24,
   "metadata": {
    "colab": {
     "base_uri": "https://localhost:8080/",
     "height": 206
    },
    "id": "J08vXOkfN54w",
    "outputId": "7f80f930-6b34-4296-dcc5-7b96b6cae018"
   },
   "outputs": [
    {
     "data": {
      "text/html": [
       "<div>\n",
       "<style scoped>\n",
       "    .dataframe tbody tr th:only-of-type {\n",
       "        vertical-align: middle;\n",
       "    }\n",
       "\n",
       "    .dataframe tbody tr th {\n",
       "        vertical-align: top;\n",
       "    }\n",
       "\n",
       "    .dataframe thead th {\n",
       "        text-align: right;\n",
       "    }\n",
       "</style>\n",
       "<table border=\"1\" class=\"dataframe\">\n",
       "  <thead>\n",
       "    <tr style=\"text-align: right;\">\n",
       "      <th></th>\n",
       "      <th>GRE Score</th>\n",
       "      <th>TOEFL Score</th>\n",
       "      <th>University Rating</th>\n",
       "      <th>SOP</th>\n",
       "      <th>LOR</th>\n",
       "      <th>CGPA</th>\n",
       "      <th>Research</th>\n",
       "      <th>Admit</th>\n",
       "    </tr>\n",
       "  </thead>\n",
       "  <tbody>\n",
       "    <tr>\n",
       "      <th>0</th>\n",
       "      <td>337</td>\n",
       "      <td>118</td>\n",
       "      <td>4</td>\n",
       "      <td>4.5</td>\n",
       "      <td>4.5</td>\n",
       "      <td>9.65</td>\n",
       "      <td>1</td>\n",
       "      <td>1</td>\n",
       "    </tr>\n",
       "    <tr>\n",
       "      <th>1</th>\n",
       "      <td>324</td>\n",
       "      <td>107</td>\n",
       "      <td>4</td>\n",
       "      <td>4.0</td>\n",
       "      <td>4.5</td>\n",
       "      <td>8.87</td>\n",
       "      <td>1</td>\n",
       "      <td>0</td>\n",
       "    </tr>\n",
       "    <tr>\n",
       "      <th>2</th>\n",
       "      <td>316</td>\n",
       "      <td>104</td>\n",
       "      <td>3</td>\n",
       "      <td>3.0</td>\n",
       "      <td>3.5</td>\n",
       "      <td>8.00</td>\n",
       "      <td>1</td>\n",
       "      <td>0</td>\n",
       "    </tr>\n",
       "    <tr>\n",
       "      <th>3</th>\n",
       "      <td>322</td>\n",
       "      <td>110</td>\n",
       "      <td>3</td>\n",
       "      <td>3.5</td>\n",
       "      <td>2.5</td>\n",
       "      <td>8.67</td>\n",
       "      <td>1</td>\n",
       "      <td>0</td>\n",
       "    </tr>\n",
       "    <tr>\n",
       "      <th>4</th>\n",
       "      <td>314</td>\n",
       "      <td>103</td>\n",
       "      <td>2</td>\n",
       "      <td>2.0</td>\n",
       "      <td>3.0</td>\n",
       "      <td>8.21</td>\n",
       "      <td>0</td>\n",
       "      <td>0</td>\n",
       "    </tr>\n",
       "  </tbody>\n",
       "</table>\n",
       "</div>"
      ],
      "text/plain": [
       "   GRE Score  TOEFL Score  University Rating  SOP  LOR   CGPA  Research  Admit\n",
       "0        337          118                  4  4.5   4.5  9.65         1      1\n",
       "1        324          107                  4  4.0   4.5  8.87         1      0\n",
       "2        316          104                  3  3.0   3.5  8.00         1      0\n",
       "3        322          110                  3  3.5   2.5  8.67         1      0\n",
       "4        314          103                  2  2.0   3.0  8.21         0      0"
      ]
     },
     "execution_count": 24,
     "metadata": {},
     "output_type": "execute_result"
    }
   ],
   "source": [
    "data.head()"
   ]
  },
  {
   "cell_type": "code",
   "execution_count": 25,
   "metadata": {
    "id": "Gt-MCIVXN571"
   },
   "outputs": [],
   "source": [
    "X = data.drop('Admit', axis=1)\n",
    "y = data['Admit']"
   ]
  },
  {
   "cell_type": "code",
   "execution_count": 26,
   "metadata": {
    "colab": {
     "base_uri": "https://localhost:8080/",
     "height": 178
    },
    "id": "mwFeykA0S_zl",
    "outputId": "666e9753-37cf-41a3-eaa5-b282e25c5e55"
   },
   "outputs": [
    {
     "data": {
      "text/plain": [
       "Admit\n",
       "0    358\n",
       "1    142\n",
       "Name: count, dtype: int64"
      ]
     },
     "execution_count": 26,
     "metadata": {},
     "output_type": "execute_result"
    }
   ],
   "source": [
    "# Checking to see the target value distribution (inbalanced or balanced data?)\n",
    "y.value_counts()"
   ]
  },
  {
   "cell_type": "code",
   "execution_count": 27,
   "metadata": {
    "id": "7CKxLlGvN5-u"
   },
   "outputs": [],
   "source": [
    "X_train, X_test, y_train, y_test = train_test_split(X, y, test_size=0.2, random_state=42, stratify=y) #added stratify due to data inbalance"
   ]
  },
  {
   "cell_type": "code",
   "execution_count": 28,
   "metadata": {
    "id": "mpZtj4YJN6Bd"
   },
   "outputs": [],
   "source": [
    "scaler = MinMaxScaler()\n",
    "\n",
    "# scaling the data on training set\n",
    "X_train_norm = scaler.fit_transform(X_train)\n",
    "\n",
    "# transforming the logic to test set\n",
    "X_test_norm = scaler.transform(X_test)"
   ]
  },
  {
   "cell_type": "code",
   "execution_count": 29,
   "metadata": {
    "colab": {
     "base_uri": "https://localhost:8080/"
    },
    "id": "PJY7_yf4N6EO",
    "outputId": "f3ebc470-94e4-4d97-d580-6721b0d705e9"
   },
   "outputs": [
    {
     "data": {
      "text/plain": [
       "((400, 7), (100, 7))"
      ]
     },
     "execution_count": 29,
     "metadata": {},
     "output_type": "execute_result"
    }
   ],
   "source": [
    "X_train_norm.shape, X_test_norm.shape"
   ]
  },
  {
   "cell_type": "code",
   "execution_count": 30,
   "metadata": {
    "colab": {
     "base_uri": "https://localhost:8080/"
    },
    "id": "Ewvp_nP5N6HV",
    "outputId": "58bcebdd-bf80-4b56-e580-b3233a5fa5db"
   },
   "outputs": [
    {
     "data": {
      "text/plain": [
       "array([[0.65957447, 0.67857143, 0.75      , ..., 0.5       , 0.71986971,\n",
       "        1.        ],\n",
       "       [0.70212766, 0.71428571, 0.5       , ..., 0.5       , 0.73289902,\n",
       "        1.        ],\n",
       "       [0.29787234, 0.46428571, 0.25      , ..., 0.5       , 0.27687296,\n",
       "        0.        ],\n",
       "       ...,\n",
       "       [0.5106383 , 0.46428571, 0.5       , ..., 0.5       , 0.5732899 ,\n",
       "        0.        ],\n",
       "       [0.82978723, 0.85714286, 1.        , ..., 1.        , 0.80781759,\n",
       "        1.        ],\n",
       "       [0.55319149, 0.5       , 0.5       , ..., 0.375     , 0.49837134,\n",
       "        1.        ]])"
      ]
     },
     "execution_count": 30,
     "metadata": {},
     "output_type": "execute_result"
    }
   ],
   "source": [
    "X_train_norm"
   ]
  },
  {
   "cell_type": "markdown",
   "metadata": {
    "id": "6962y98ienPb"
   },
   "source": [
    "## Utility Function"
   ]
  },
  {
   "cell_type": "code",
   "execution_count": 31,
   "metadata": {
    "id": "CCWdscKFenWf"
   },
   "outputs": [],
   "source": [
    "def plot(history, name):\n",
    "    \"\"\"\n",
    "    Function to plot loss/accuracy\n",
    "\n",
    "    history: an object which stores the metrics and losses.\n",
    "    name: can be one of Loss or Accuracy\n",
    "    \"\"\"\n",
    "    fig, ax = plt.subplots() #Creating a subplot with figure and axes.\n",
    "    plt.plot(history.history[name]) #Plotting the train accuracy or train loss\n",
    "    plt.plot(history.history['val_'+name]) #Plotting the validation accuracy or validation loss\n",
    "\n",
    "    plt.title('Model ' + name.capitalize()) #Defining the title of the plot.\n",
    "    plt.ylabel(name.capitalize()) #Capitalizing the first letter.\n",
    "    plt.xlabel('Epoch') #Defining the label for the x-axis.\n",
    "    fig.legend(['Train', 'Validation'], loc=\"outside right upper\") #Defining the legend, loc controls the position of the legend."
   ]
  },
  {
   "cell_type": "code",
   "execution_count": 32,
   "metadata": {
    "id": "hXH8hjEyeymL"
   },
   "outputs": [],
   "source": [
    "# defining a function to compute different metrics to check performance of a classification model built using statsmodels\n",
    "def model_performance_classification(\n",
    "    model, predictors, target, threshold=0.5\n",
    "):\n",
    "    \"\"\"\n",
    "    Function to compute different metrics to check classification model performance\n",
    "\n",
    "    model: classifier\n",
    "    predictors: independent variables\n",
    "    target: dependent variable\n",
    "    threshold: threshold for classifying the observation as class 1\n",
    "    \"\"\"\n",
    "\n",
    "    # checking which probabilities are greater than threshold\n",
    "    pred = model.predict(predictors) > threshold\n",
    "    # pred_temp = model.predict(predictors) > threshold\n",
    "    # # rounding off the above values to get classes\n",
    "    # pred = np.round(pred_temp)\n",
    "\n",
    "    acc = accuracy_score(target, pred)  # to compute Accuracy\n",
    "    recall = recall_score(target, pred, average='weighted')  # to compute Recall\n",
    "    precision = precision_score(target, pred, average='weighted')  # to compute Precision\n",
    "    f1 = f1_score(target, pred, average='weighted')  # to compute F1-score\n",
    "\n",
    "    # creating a dataframe of metrics\n",
    "    df_perf = pd.DataFrame(\n",
    "        {\"Accuracy\": acc, \"Recall\": recall, \"Precision\": precision, \"F1 Score\": f1,},\n",
    "        index=[0],\n",
    "    )\n",
    "\n",
    "    return df_perf"
   ]
  },
  {
   "cell_type": "markdown",
   "metadata": {
    "id": "im12Ce-2Ubh6"
   },
   "source": [
    "# Model Building"
   ]
  },
  {
   "cell_type": "code",
   "execution_count": 33,
   "metadata": {
    "id": "ncX831v1N6Jy"
   },
   "outputs": [],
   "source": [
    "# fixing seed for result reproductability\n",
    "np.random.seed(42)\n",
    "\n",
    "import random\n",
    "random.seed(42)\n",
    "\n",
    "tf.random.set_seed(42)"
   ]
  },
  {
   "cell_type": "code",
   "execution_count": 34,
   "metadata": {
    "id": "TOnSxV17N6MG"
   },
   "outputs": [
    {
     "name": "stdout",
     "output_type": "stream",
     "text": [
      "WARNING:tensorflow:From C:\\Users\\gbegb\\AppData\\Roaming\\Python\\Python312\\site-packages\\keras\\src\\backend\\common\\global_state.py:82: The name tf.reset_default_graph is deprecated. Please use tf.compat.v1.reset_default_graph instead.\n",
      "\n"
     ]
    }
   ],
   "source": [
    "# clears the current Keras session, resetting all layers and models previously created, freeing up memory and resources.\n",
    "tf.keras.backend.clear_session()"
   ]
  },
  {
   "cell_type": "markdown",
   "metadata": {
    "id": "EaYJqnFeXyaD"
   },
   "source": [
    "## Feed forward Neural Network with two hidden layers and an output layer"
   ]
  },
  {
   "cell_type": "markdown",
   "metadata": {
    "id": "TQNAadw8gsEP"
   },
   "source": [
    "# Default Model (Adamax Optimizer)"
   ]
  },
  {
   "cell_type": "code",
   "execution_count": 35,
   "metadata": {
    "colab": {
     "base_uri": "https://localhost:8080/",
     "height": 242
    },
    "id": "4aqggEwSUfeX",
    "outputId": "2700176f-107b-4149-9bd0-75e06fc0839c"
   },
   "outputs": [
    {
     "name": "stderr",
     "output_type": "stream",
     "text": [
      "C:\\Users\\gbegb\\AppData\\Roaming\\Python\\Python312\\site-packages\\keras\\src\\layers\\core\\dense.py:87: UserWarning: Do not pass an `input_shape`/`input_dim` argument to a layer. When using Sequential models, prefer using an `Input(shape)` object as the first layer in the model instead.\n",
      "  super().__init__(activity_regularizer=activity_regularizer, **kwargs)\n"
     ]
    },
    {
     "data": {
      "text/html": [
       "<pre style=\"white-space:pre;overflow-x:auto;line-height:normal;font-family:Menlo,'DejaVu Sans Mono',consolas,'Courier New',monospace\"><span style=\"font-weight: bold\">Model: \"sequential\"</span>\n",
       "</pre>\n"
      ],
      "text/plain": [
       "\u001b[1mModel: \"sequential\"\u001b[0m\n"
      ]
     },
     "metadata": {},
     "output_type": "display_data"
    },
    {
     "data": {
      "text/html": [
       "<pre style=\"white-space:pre;overflow-x:auto;line-height:normal;font-family:Menlo,'DejaVu Sans Mono',consolas,'Courier New',monospace\">┏━━━━━━━━━━━━━━━━━━━━━━━━━━━━━━━━━━━━━━┳━━━━━━━━━━━━━━━━━━━━━━━━━━━━━┳━━━━━━━━━━━━━━━━━┓\n",
       "┃<span style=\"font-weight: bold\"> Layer (type)                         </span>┃<span style=\"font-weight: bold\"> Output Shape                </span>┃<span style=\"font-weight: bold\">         Param # </span>┃\n",
       "┡━━━━━━━━━━━━━━━━━━━━━━━━━━━━━━━━━━━━━━╇━━━━━━━━━━━━━━━━━━━━━━━━━━━━━╇━━━━━━━━━━━━━━━━━┩\n",
       "│ dense (<span style=\"color: #0087ff; text-decoration-color: #0087ff\">Dense</span>)                        │ (<span style=\"color: #00d7ff; text-decoration-color: #00d7ff\">None</span>, <span style=\"color: #00af00; text-decoration-color: #00af00\">14</span>)                  │             <span style=\"color: #00af00; text-decoration-color: #00af00\">112</span> │\n",
       "├──────────────────────────────────────┼─────────────────────────────┼─────────────────┤\n",
       "│ dense_1 (<span style=\"color: #0087ff; text-decoration-color: #0087ff\">Dense</span>)                      │ (<span style=\"color: #00d7ff; text-decoration-color: #00d7ff\">None</span>, <span style=\"color: #00af00; text-decoration-color: #00af00\">7</span>)                   │             <span style=\"color: #00af00; text-decoration-color: #00af00\">105</span> │\n",
       "├──────────────────────────────────────┼─────────────────────────────┼─────────────────┤\n",
       "│ dense_2 (<span style=\"color: #0087ff; text-decoration-color: #0087ff\">Dense</span>)                      │ (<span style=\"color: #00d7ff; text-decoration-color: #00d7ff\">None</span>, <span style=\"color: #00af00; text-decoration-color: #00af00\">1</span>)                   │               <span style=\"color: #00af00; text-decoration-color: #00af00\">8</span> │\n",
       "└──────────────────────────────────────┴─────────────────────────────┴─────────────────┘\n",
       "</pre>\n"
      ],
      "text/plain": [
       "┏━━━━━━━━━━━━━━━━━━━━━━━━━━━━━━━━━━━━━━┳━━━━━━━━━━━━━━━━━━━━━━━━━━━━━┳━━━━━━━━━━━━━━━━━┓\n",
       "┃\u001b[1m \u001b[0m\u001b[1mLayer (type)                        \u001b[0m\u001b[1m \u001b[0m┃\u001b[1m \u001b[0m\u001b[1mOutput Shape               \u001b[0m\u001b[1m \u001b[0m┃\u001b[1m \u001b[0m\u001b[1m        Param #\u001b[0m\u001b[1m \u001b[0m┃\n",
       "┡━━━━━━━━━━━━━━━━━━━━━━━━━━━━━━━━━━━━━━╇━━━━━━━━━━━━━━━━━━━━━━━━━━━━━╇━━━━━━━━━━━━━━━━━┩\n",
       "│ dense (\u001b[38;5;33mDense\u001b[0m)                        │ (\u001b[38;5;45mNone\u001b[0m, \u001b[38;5;34m14\u001b[0m)                  │             \u001b[38;5;34m112\u001b[0m │\n",
       "├──────────────────────────────────────┼─────────────────────────────┼─────────────────┤\n",
       "│ dense_1 (\u001b[38;5;33mDense\u001b[0m)                      │ (\u001b[38;5;45mNone\u001b[0m, \u001b[38;5;34m7\u001b[0m)                   │             \u001b[38;5;34m105\u001b[0m │\n",
       "├──────────────────────────────────────┼─────────────────────────────┼─────────────────┤\n",
       "│ dense_2 (\u001b[38;5;33mDense\u001b[0m)                      │ (\u001b[38;5;45mNone\u001b[0m, \u001b[38;5;34m1\u001b[0m)                   │               \u001b[38;5;34m8\u001b[0m │\n",
       "└──────────────────────────────────────┴─────────────────────────────┴─────────────────┘\n"
      ]
     },
     "metadata": {},
     "output_type": "display_data"
    },
    {
     "data": {
      "text/html": [
       "<pre style=\"white-space:pre;overflow-x:auto;line-height:normal;font-family:Menlo,'DejaVu Sans Mono',consolas,'Courier New',monospace\"><span style=\"font-weight: bold\"> Total params: </span><span style=\"color: #00af00; text-decoration-color: #00af00\">225</span> (900.00 B)\n",
       "</pre>\n"
      ],
      "text/plain": [
       "\u001b[1m Total params: \u001b[0m\u001b[38;5;34m225\u001b[0m (900.00 B)\n"
      ]
     },
     "metadata": {},
     "output_type": "display_data"
    },
    {
     "data": {
      "text/html": [
       "<pre style=\"white-space:pre;overflow-x:auto;line-height:normal;font-family:Menlo,'DejaVu Sans Mono',consolas,'Courier New',monospace\"><span style=\"font-weight: bold\"> Trainable params: </span><span style=\"color: #00af00; text-decoration-color: #00af00\">225</span> (900.00 B)\n",
       "</pre>\n"
      ],
      "text/plain": [
       "\u001b[1m Trainable params: \u001b[0m\u001b[38;5;34m225\u001b[0m (900.00 B)\n"
      ]
     },
     "metadata": {},
     "output_type": "display_data"
    },
    {
     "data": {
      "text/html": [
       "<pre style=\"white-space:pre;overflow-x:auto;line-height:normal;font-family:Menlo,'DejaVu Sans Mono',consolas,'Courier New',monospace\"><span style=\"font-weight: bold\"> Non-trainable params: </span><span style=\"color: #00af00; text-decoration-color: #00af00\">0</span> (0.00 B)\n",
       "</pre>\n"
      ],
      "text/plain": [
       "\u001b[1m Non-trainable params: \u001b[0m\u001b[38;5;34m0\u001b[0m (0.00 B)\n"
      ]
     },
     "metadata": {},
     "output_type": "display_data"
    }
   ],
   "source": [
    "# We will be adding layers sequentially\n",
    "model = Sequential()\n",
    "\n",
    "# First hidden layer with 14 neurons and relu activation and input shape denotes number of independent variable\n",
    "model.add(Dense(14, activation='relu', input_dim=X_train_norm.shape[1]))\n",
    "\n",
    "\n",
    "# Second hidden layer with 7 neurons and relu activation\n",
    "model.add(Dense(7, activation='relu'))\n",
    "\n",
    "\n",
    "# Output layer with 1 neuron and sigmoid activation\n",
    "model.add(Dense(1, activation='sigmoid'))\n",
    "\n",
    "opt = tf.keras.optimizers.Adamax()\n",
    "\n",
    "# Compiling the model\n",
    "model.compile(optimizer=opt, loss='binary_crossentropy', metrics=['accuracy'])\n",
    "\n",
    "model.summary()"
   ]
  },
  {
   "cell_type": "code",
   "execution_count": 36,
   "metadata": {
    "colab": {
     "base_uri": "https://localhost:8080/"
    },
    "id": "0v_M2mi0UfhL",
    "outputId": "a245a456-d096-4b53-f0c8-9f3261fd12f2"
   },
   "outputs": [
    {
     "name": "stdout",
     "output_type": "stream",
     "text": [
      "Epoch 1/150\n",
      "12/12 - 3s - 214ms/step - accuracy: 0.4944 - loss: 0.6935 - val_accuracy: 0.7000 - val_loss: 0.6817\n",
      "Epoch 2/150\n",
      "12/12 - 0s - 11ms/step - accuracy: 0.6944 - loss: 0.6788 - val_accuracy: 0.7000 - val_loss: 0.6702\n",
      "Epoch 3/150\n",
      "12/12 - 0s - 10ms/step - accuracy: 0.6944 - loss: 0.6671 - val_accuracy: 0.7250 - val_loss: 0.6597\n",
      "Epoch 4/150\n",
      "12/12 - 0s - 10ms/step - accuracy: 0.7111 - loss: 0.6574 - val_accuracy: 0.7250 - val_loss: 0.6502\n",
      "Epoch 5/150\n",
      "12/12 - 0s - 16ms/step - accuracy: 0.7139 - loss: 0.6489 - val_accuracy: 0.7250 - val_loss: 0.6417\n",
      "Epoch 6/150\n",
      "12/12 - 0s - 8ms/step - accuracy: 0.7139 - loss: 0.6407 - val_accuracy: 0.7250 - val_loss: 0.6325\n",
      "Epoch 7/150\n",
      "12/12 - 0s - 10ms/step - accuracy: 0.7139 - loss: 0.6318 - val_accuracy: 0.7250 - val_loss: 0.6222\n",
      "Epoch 8/150\n",
      "12/12 - 0s - 14ms/step - accuracy: 0.7139 - loss: 0.6223 - val_accuracy: 0.7250 - val_loss: 0.6113\n",
      "Epoch 9/150\n",
      "12/12 - 0s - 14ms/step - accuracy: 0.7139 - loss: 0.6131 - val_accuracy: 0.7250 - val_loss: 0.6010\n",
      "Epoch 10/150\n",
      "12/12 - 0s - 11ms/step - accuracy: 0.7139 - loss: 0.6050 - val_accuracy: 0.7250 - val_loss: 0.5921\n",
      "Epoch 11/150\n",
      "12/12 - 0s - 12ms/step - accuracy: 0.7139 - loss: 0.5991 - val_accuracy: 0.7250 - val_loss: 0.5860\n",
      "Epoch 12/150\n",
      "12/12 - 0s - 14ms/step - accuracy: 0.7139 - loss: 0.5940 - val_accuracy: 0.7250 - val_loss: 0.5798\n",
      "Epoch 13/150\n",
      "12/12 - 0s - 13ms/step - accuracy: 0.7139 - loss: 0.5888 - val_accuracy: 0.7250 - val_loss: 0.5737\n",
      "Epoch 14/150\n",
      "12/12 - 0s - 12ms/step - accuracy: 0.7139 - loss: 0.5836 - val_accuracy: 0.7250 - val_loss: 0.5674\n",
      "Epoch 15/150\n",
      "12/12 - 0s - 9ms/step - accuracy: 0.7139 - loss: 0.5784 - val_accuracy: 0.7250 - val_loss: 0.5610\n",
      "Epoch 16/150\n",
      "12/12 - 0s - 10ms/step - accuracy: 0.7139 - loss: 0.5731 - val_accuracy: 0.7250 - val_loss: 0.5547\n",
      "Epoch 17/150\n",
      "12/12 - 0s - 11ms/step - accuracy: 0.7139 - loss: 0.5679 - val_accuracy: 0.7250 - val_loss: 0.5482\n",
      "Epoch 18/150\n",
      "12/12 - 0s - 8ms/step - accuracy: 0.7139 - loss: 0.5625 - val_accuracy: 0.7250 - val_loss: 0.5417\n",
      "Epoch 19/150\n",
      "12/12 - 0s - 10ms/step - accuracy: 0.7139 - loss: 0.5571 - val_accuracy: 0.7250 - val_loss: 0.5352\n",
      "Epoch 20/150\n",
      "12/12 - 0s - 14ms/step - accuracy: 0.7139 - loss: 0.5517 - val_accuracy: 0.7250 - val_loss: 0.5287\n",
      "Epoch 21/150\n",
      "12/12 - 0s - 9ms/step - accuracy: 0.7139 - loss: 0.5462 - val_accuracy: 0.7250 - val_loss: 0.5221\n",
      "Epoch 22/150\n",
      "12/12 - 0s - 9ms/step - accuracy: 0.7139 - loss: 0.5407 - val_accuracy: 0.7250 - val_loss: 0.5155\n",
      "Epoch 23/150\n",
      "12/12 - 0s - 9ms/step - accuracy: 0.7139 - loss: 0.5352 - val_accuracy: 0.7250 - val_loss: 0.5088\n",
      "Epoch 24/150\n",
      "12/12 - 0s - 9ms/step - accuracy: 0.7139 - loss: 0.5297 - val_accuracy: 0.7250 - val_loss: 0.5020\n",
      "Epoch 25/150\n",
      "12/12 - 0s - 11ms/step - accuracy: 0.7139 - loss: 0.5242 - val_accuracy: 0.7250 - val_loss: 0.4955\n",
      "Epoch 26/150\n",
      "12/12 - 0s - 11ms/step - accuracy: 0.7139 - loss: 0.5186 - val_accuracy: 0.7250 - val_loss: 0.4889\n",
      "Epoch 27/150\n",
      "12/12 - 0s - 9ms/step - accuracy: 0.7139 - loss: 0.5131 - val_accuracy: 0.7250 - val_loss: 0.4821\n",
      "Epoch 28/150\n",
      "12/12 - 0s - 10ms/step - accuracy: 0.7139 - loss: 0.5075 - val_accuracy: 0.7250 - val_loss: 0.4754\n",
      "Epoch 29/150\n",
      "12/12 - 0s - 14ms/step - accuracy: 0.7139 - loss: 0.5019 - val_accuracy: 0.7250 - val_loss: 0.4688\n",
      "Epoch 30/150\n",
      "12/12 - 0s - 9ms/step - accuracy: 0.7139 - loss: 0.4964 - val_accuracy: 0.7250 - val_loss: 0.4622\n",
      "Epoch 31/150\n",
      "12/12 - 0s - 8ms/step - accuracy: 0.7139 - loss: 0.4909 - val_accuracy: 0.7250 - val_loss: 0.4557\n",
      "Epoch 32/150\n",
      "12/12 - 0s - 9ms/step - accuracy: 0.7194 - loss: 0.4854 - val_accuracy: 0.7250 - val_loss: 0.4492\n",
      "Epoch 33/150\n",
      "12/12 - 0s - 10ms/step - accuracy: 0.7222 - loss: 0.4800 - val_accuracy: 0.7500 - val_loss: 0.4428\n",
      "Epoch 34/150\n",
      "12/12 - 0s - 9ms/step - accuracy: 0.7417 - loss: 0.4747 - val_accuracy: 0.7500 - val_loss: 0.4364\n",
      "Epoch 35/150\n",
      "12/12 - 0s - 11ms/step - accuracy: 0.7639 - loss: 0.4693 - val_accuracy: 0.7750 - val_loss: 0.4301\n",
      "Epoch 36/150\n",
      "12/12 - 0s - 10ms/step - accuracy: 0.7833 - loss: 0.4640 - val_accuracy: 0.8000 - val_loss: 0.4240\n",
      "Epoch 37/150\n",
      "12/12 - 0s - 10ms/step - accuracy: 0.7917 - loss: 0.4588 - val_accuracy: 0.8250 - val_loss: 0.4179\n",
      "Epoch 38/150\n",
      "12/12 - 0s - 9ms/step - accuracy: 0.8083 - loss: 0.4536 - val_accuracy: 0.8500 - val_loss: 0.4118\n",
      "Epoch 39/150\n",
      "12/12 - 0s - 9ms/step - accuracy: 0.8056 - loss: 0.4486 - val_accuracy: 0.8500 - val_loss: 0.4056\n",
      "Epoch 40/150\n",
      "12/12 - 0s - 13ms/step - accuracy: 0.8111 - loss: 0.4435 - val_accuracy: 0.8500 - val_loss: 0.3995\n",
      "Epoch 41/150\n",
      "12/12 - 0s - 13ms/step - accuracy: 0.8194 - loss: 0.4385 - val_accuracy: 0.8500 - val_loss: 0.3936\n",
      "Epoch 42/150\n",
      "12/12 - 0s - 9ms/step - accuracy: 0.8278 - loss: 0.4336 - val_accuracy: 0.8750 - val_loss: 0.3877\n",
      "Epoch 43/150\n",
      "12/12 - 0s - 10ms/step - accuracy: 0.8417 - loss: 0.4288 - val_accuracy: 0.8750 - val_loss: 0.3818\n",
      "Epoch 44/150\n",
      "12/12 - 0s - 9ms/step - accuracy: 0.8667 - loss: 0.4241 - val_accuracy: 0.8750 - val_loss: 0.3760\n",
      "Epoch 45/150\n",
      "12/12 - 0s - 11ms/step - accuracy: 0.8667 - loss: 0.4194 - val_accuracy: 0.8750 - val_loss: 0.3704\n",
      "Epoch 46/150\n",
      "12/12 - 0s - 10ms/step - accuracy: 0.8694 - loss: 0.4149 - val_accuracy: 0.8750 - val_loss: 0.3648\n",
      "Epoch 47/150\n",
      "12/12 - 0s - 11ms/step - accuracy: 0.8694 - loss: 0.4105 - val_accuracy: 0.8750 - val_loss: 0.3594\n",
      "Epoch 48/150\n",
      "12/12 - 0s - 12ms/step - accuracy: 0.8750 - loss: 0.4061 - val_accuracy: 0.9000 - val_loss: 0.3543\n",
      "Epoch 49/150\n",
      "12/12 - 0s - 9ms/step - accuracy: 0.8778 - loss: 0.4018 - val_accuracy: 0.8750 - val_loss: 0.3490\n",
      "Epoch 50/150\n",
      "12/12 - 0s - 14ms/step - accuracy: 0.8861 - loss: 0.3975 - val_accuracy: 0.9000 - val_loss: 0.3439\n",
      "Epoch 51/150\n",
      "12/12 - 0s - 9ms/step - accuracy: 0.8861 - loss: 0.3933 - val_accuracy: 0.9000 - val_loss: 0.3389\n",
      "Epoch 52/150\n",
      "12/12 - 0s - 9ms/step - accuracy: 0.8889 - loss: 0.3893 - val_accuracy: 0.9000 - val_loss: 0.3340\n",
      "Epoch 53/150\n",
      "12/12 - 0s - 12ms/step - accuracy: 0.8917 - loss: 0.3853 - val_accuracy: 0.9000 - val_loss: 0.3293\n",
      "Epoch 54/150\n",
      "12/12 - 0s - 9ms/step - accuracy: 0.8917 - loss: 0.3815 - val_accuracy: 0.9000 - val_loss: 0.3245\n",
      "Epoch 55/150\n",
      "12/12 - 0s - 10ms/step - accuracy: 0.8917 - loss: 0.3776 - val_accuracy: 0.9000 - val_loss: 0.3197\n",
      "Epoch 56/150\n",
      "12/12 - 0s - 14ms/step - accuracy: 0.8944 - loss: 0.3738 - val_accuracy: 0.9000 - val_loss: 0.3151\n",
      "Epoch 57/150\n",
      "12/12 - 0s - 13ms/step - accuracy: 0.8972 - loss: 0.3702 - val_accuracy: 0.9000 - val_loss: 0.3104\n",
      "Epoch 58/150\n",
      "12/12 - 0s - 14ms/step - accuracy: 0.8944 - loss: 0.3665 - val_accuracy: 0.9000 - val_loss: 0.3060\n",
      "Epoch 59/150\n",
      "12/12 - 0s - 17ms/step - accuracy: 0.8944 - loss: 0.3629 - val_accuracy: 0.9000 - val_loss: 0.3015\n",
      "Epoch 60/150\n",
      "12/12 - 0s - 11ms/step - accuracy: 0.8944 - loss: 0.3593 - val_accuracy: 0.9000 - val_loss: 0.2974\n",
      "Epoch 61/150\n",
      "12/12 - 0s - 9ms/step - accuracy: 0.8944 - loss: 0.3558 - val_accuracy: 0.9250 - val_loss: 0.2930\n",
      "Epoch 62/150\n",
      "12/12 - 0s - 10ms/step - accuracy: 0.8917 - loss: 0.3524 - val_accuracy: 0.9250 - val_loss: 0.2886\n",
      "Epoch 63/150\n",
      "12/12 - 0s - 14ms/step - accuracy: 0.8944 - loss: 0.3489 - val_accuracy: 0.9250 - val_loss: 0.2843\n",
      "Epoch 64/150\n",
      "12/12 - 0s - 10ms/step - accuracy: 0.8944 - loss: 0.3455 - val_accuracy: 0.9250 - val_loss: 0.2800\n",
      "Epoch 65/150\n",
      "12/12 - 0s - 13ms/step - accuracy: 0.8944 - loss: 0.3422 - val_accuracy: 0.9250 - val_loss: 0.2756\n",
      "Epoch 66/150\n",
      "12/12 - 0s - 10ms/step - accuracy: 0.8917 - loss: 0.3389 - val_accuracy: 0.9250 - val_loss: 0.2714\n",
      "Epoch 67/150\n",
      "12/12 - 0s - 12ms/step - accuracy: 0.8917 - loss: 0.3357 - val_accuracy: 0.9250 - val_loss: 0.2675\n",
      "Epoch 68/150\n",
      "12/12 - 0s - 10ms/step - accuracy: 0.8917 - loss: 0.3326 - val_accuracy: 0.9250 - val_loss: 0.2636\n",
      "Epoch 69/150\n",
      "12/12 - 0s - 10ms/step - accuracy: 0.8944 - loss: 0.3295 - val_accuracy: 0.9500 - val_loss: 0.2597\n",
      "Epoch 70/150\n",
      "12/12 - 0s - 8ms/step - accuracy: 0.8972 - loss: 0.3265 - val_accuracy: 0.9500 - val_loss: 0.2559\n",
      "Epoch 71/150\n",
      "12/12 - 0s - 13ms/step - accuracy: 0.8972 - loss: 0.3236 - val_accuracy: 0.9500 - val_loss: 0.2522\n",
      "Epoch 72/150\n",
      "12/12 - 0s - 8ms/step - accuracy: 0.8972 - loss: 0.3206 - val_accuracy: 0.9500 - val_loss: 0.2486\n",
      "Epoch 73/150\n",
      "12/12 - 0s - 14ms/step - accuracy: 0.8972 - loss: 0.3178 - val_accuracy: 0.9500 - val_loss: 0.2450\n",
      "Epoch 74/150\n",
      "12/12 - 0s - 13ms/step - accuracy: 0.8972 - loss: 0.3150 - val_accuracy: 0.9500 - val_loss: 0.2413\n",
      "Epoch 75/150\n",
      "12/12 - 0s - 8ms/step - accuracy: 0.8972 - loss: 0.3121 - val_accuracy: 0.9500 - val_loss: 0.2379\n",
      "Epoch 76/150\n",
      "12/12 - 0s - 9ms/step - accuracy: 0.9000 - loss: 0.3094 - val_accuracy: 0.9500 - val_loss: 0.2343\n",
      "Epoch 77/150\n",
      "12/12 - 0s - 14ms/step - accuracy: 0.9000 - loss: 0.3067 - val_accuracy: 0.9500 - val_loss: 0.2309\n",
      "Epoch 78/150\n",
      "12/12 - 0s - 9ms/step - accuracy: 0.9000 - loss: 0.3040 - val_accuracy: 0.9500 - val_loss: 0.2274\n",
      "Epoch 79/150\n",
      "12/12 - 0s - 9ms/step - accuracy: 0.9000 - loss: 0.3014 - val_accuracy: 0.9500 - val_loss: 0.2240\n",
      "Epoch 80/150\n",
      "12/12 - 0s - 13ms/step - accuracy: 0.9000 - loss: 0.2989 - val_accuracy: 0.9500 - val_loss: 0.2207\n",
      "Epoch 81/150\n",
      "12/12 - 0s - 9ms/step - accuracy: 0.9000 - loss: 0.2964 - val_accuracy: 0.9500 - val_loss: 0.2174\n",
      "Epoch 82/150\n",
      "12/12 - 0s - 9ms/step - accuracy: 0.9000 - loss: 0.2940 - val_accuracy: 0.9500 - val_loss: 0.2142\n",
      "Epoch 83/150\n",
      "12/12 - 0s - 9ms/step - accuracy: 0.9000 - loss: 0.2916 - val_accuracy: 0.9500 - val_loss: 0.2110\n",
      "Epoch 84/150\n",
      "12/12 - 0s - 11ms/step - accuracy: 0.9000 - loss: 0.2893 - val_accuracy: 0.9500 - val_loss: 0.2079\n",
      "Epoch 85/150\n",
      "12/12 - 0s - 9ms/step - accuracy: 0.9000 - loss: 0.2870 - val_accuracy: 0.9500 - val_loss: 0.2048\n",
      "Epoch 86/150\n",
      "12/12 - 0s - 11ms/step - accuracy: 0.9000 - loss: 0.2847 - val_accuracy: 0.9500 - val_loss: 0.2018\n",
      "Epoch 87/150\n",
      "12/12 - 0s - 13ms/step - accuracy: 0.9028 - loss: 0.2826 - val_accuracy: 0.9500 - val_loss: 0.1989\n",
      "Epoch 88/150\n",
      "12/12 - 0s - 9ms/step - accuracy: 0.9028 - loss: 0.2804 - val_accuracy: 0.9750 - val_loss: 0.1960\n",
      "Epoch 89/150\n",
      "12/12 - 0s - 14ms/step - accuracy: 0.9028 - loss: 0.2783 - val_accuracy: 0.9750 - val_loss: 0.1933\n",
      "Epoch 90/150\n",
      "12/12 - 0s - 12ms/step - accuracy: 0.9028 - loss: 0.2763 - val_accuracy: 0.9750 - val_loss: 0.1906\n",
      "Epoch 91/150\n",
      "12/12 - 0s - 9ms/step - accuracy: 0.9028 - loss: 0.2743 - val_accuracy: 0.9750 - val_loss: 0.1879\n",
      "Epoch 92/150\n",
      "12/12 - 0s - 9ms/step - accuracy: 0.9028 - loss: 0.2723 - val_accuracy: 0.9750 - val_loss: 0.1852\n",
      "Epoch 93/150\n",
      "12/12 - 0s - 13ms/step - accuracy: 0.9056 - loss: 0.2704 - val_accuracy: 0.9750 - val_loss: 0.1825\n",
      "Epoch 94/150\n",
      "12/12 - 0s - 10ms/step - accuracy: 0.9056 - loss: 0.2686 - val_accuracy: 0.9750 - val_loss: 0.1799\n",
      "Epoch 95/150\n",
      "12/12 - 0s - 8ms/step - accuracy: 0.9056 - loss: 0.2668 - val_accuracy: 0.9750 - val_loss: 0.1773\n",
      "Epoch 96/150\n",
      "12/12 - 0s - 9ms/step - accuracy: 0.9056 - loss: 0.2650 - val_accuracy: 0.9750 - val_loss: 0.1748\n",
      "Epoch 97/150\n",
      "12/12 - 0s - 14ms/step - accuracy: 0.9056 - loss: 0.2633 - val_accuracy: 0.9750 - val_loss: 0.1724\n",
      "Epoch 98/150\n",
      "12/12 - 0s - 9ms/step - accuracy: 0.9056 - loss: 0.2616 - val_accuracy: 0.9750 - val_loss: 0.1701\n",
      "Epoch 99/150\n",
      "12/12 - 0s - 9ms/step - accuracy: 0.9056 - loss: 0.2600 - val_accuracy: 0.9750 - val_loss: 0.1678\n",
      "Epoch 100/150\n",
      "12/12 - 0s - 11ms/step - accuracy: 0.9056 - loss: 0.2584 - val_accuracy: 0.9750 - val_loss: 0.1655\n",
      "Epoch 101/150\n",
      "12/12 - 0s - 14ms/step - accuracy: 0.9056 - loss: 0.2568 - val_accuracy: 0.9750 - val_loss: 0.1633\n",
      "Epoch 102/150\n",
      "12/12 - 0s - 8ms/step - accuracy: 0.9056 - loss: 0.2553 - val_accuracy: 0.9750 - val_loss: 0.1611\n",
      "Epoch 103/150\n",
      "12/12 - 0s - 9ms/step - accuracy: 0.9056 - loss: 0.2538 - val_accuracy: 1.0000 - val_loss: 0.1590\n",
      "Epoch 104/150\n",
      "12/12 - 0s - 9ms/step - accuracy: 0.9056 - loss: 0.2524 - val_accuracy: 1.0000 - val_loss: 0.1569\n",
      "Epoch 105/150\n",
      "12/12 - 0s - 13ms/step - accuracy: 0.9056 - loss: 0.2510 - val_accuracy: 1.0000 - val_loss: 0.1549\n",
      "Epoch 106/150\n",
      "12/12 - 0s - 13ms/step - accuracy: 0.9056 - loss: 0.2496 - val_accuracy: 1.0000 - val_loss: 0.1529\n",
      "Epoch 107/150\n",
      "12/12 - 0s - 9ms/step - accuracy: 0.9056 - loss: 0.2483 - val_accuracy: 1.0000 - val_loss: 0.1510\n",
      "Epoch 108/150\n",
      "12/12 - 0s - 9ms/step - accuracy: 0.9056 - loss: 0.2470 - val_accuracy: 1.0000 - val_loss: 0.1492\n",
      "Epoch 109/150\n",
      "12/12 - 0s - 8ms/step - accuracy: 0.9056 - loss: 0.2458 - val_accuracy: 1.0000 - val_loss: 0.1474\n",
      "Epoch 110/150\n",
      "12/12 - 0s - 9ms/step - accuracy: 0.9056 - loss: 0.2445 - val_accuracy: 1.0000 - val_loss: 0.1456\n",
      "Epoch 111/150\n",
      "12/12 - 0s - 13ms/step - accuracy: 0.9056 - loss: 0.2433 - val_accuracy: 1.0000 - val_loss: 0.1440\n",
      "Epoch 112/150\n",
      "12/12 - 0s - 14ms/step - accuracy: 0.9056 - loss: 0.2422 - val_accuracy: 1.0000 - val_loss: 0.1423\n",
      "Epoch 113/150\n",
      "12/12 - 0s - 13ms/step - accuracy: 0.9056 - loss: 0.2410 - val_accuracy: 1.0000 - val_loss: 0.1407\n",
      "Epoch 114/150\n",
      "12/12 - 0s - 13ms/step - accuracy: 0.9056 - loss: 0.2399 - val_accuracy: 1.0000 - val_loss: 0.1391\n",
      "Epoch 115/150\n",
      "12/12 - 0s - 13ms/step - accuracy: 0.9056 - loss: 0.2389 - val_accuracy: 1.0000 - val_loss: 0.1375\n",
      "Epoch 116/150\n",
      "12/12 - 0s - 9ms/step - accuracy: 0.9083 - loss: 0.2378 - val_accuracy: 1.0000 - val_loss: 0.1360\n",
      "Epoch 117/150\n",
      "12/12 - 0s - 9ms/step - accuracy: 0.9083 - loss: 0.2368 - val_accuracy: 1.0000 - val_loss: 0.1346\n",
      "Epoch 118/150\n",
      "12/12 - 0s - 9ms/step - accuracy: 0.9083 - loss: 0.2358 - val_accuracy: 1.0000 - val_loss: 0.1332\n",
      "Epoch 119/150\n",
      "12/12 - 0s - 9ms/step - accuracy: 0.9083 - loss: 0.2348 - val_accuracy: 1.0000 - val_loss: 0.1318\n",
      "Epoch 120/150\n",
      "12/12 - 0s - 13ms/step - accuracy: 0.9083 - loss: 0.2339 - val_accuracy: 1.0000 - val_loss: 0.1305\n",
      "Epoch 121/150\n",
      "12/12 - 0s - 14ms/step - accuracy: 0.9083 - loss: 0.2329 - val_accuracy: 1.0000 - val_loss: 0.1292\n",
      "Epoch 122/150\n",
      "12/12 - 0s - 14ms/step - accuracy: 0.9083 - loss: 0.2320 - val_accuracy: 1.0000 - val_loss: 0.1279\n",
      "Epoch 123/150\n",
      "12/12 - 0s - 13ms/step - accuracy: 0.9083 - loss: 0.2312 - val_accuracy: 1.0000 - val_loss: 0.1267\n",
      "Epoch 124/150\n",
      "12/12 - 0s - 9ms/step - accuracy: 0.9083 - loss: 0.2303 - val_accuracy: 1.0000 - val_loss: 0.1256\n",
      "Epoch 125/150\n",
      "12/12 - 0s - 14ms/step - accuracy: 0.9083 - loss: 0.2294 - val_accuracy: 1.0000 - val_loss: 0.1246\n",
      "Epoch 126/150\n",
      "12/12 - 0s - 12ms/step - accuracy: 0.9083 - loss: 0.2285 - val_accuracy: 1.0000 - val_loss: 0.1235\n",
      "Epoch 127/150\n",
      "12/12 - 0s - 15ms/step - accuracy: 0.9083 - loss: 0.2277 - val_accuracy: 1.0000 - val_loss: 0.1225\n",
      "Epoch 128/150\n",
      "12/12 - 0s - 13ms/step - accuracy: 0.9083 - loss: 0.2269 - val_accuracy: 1.0000 - val_loss: 0.1215\n",
      "Epoch 129/150\n",
      "12/12 - 0s - 13ms/step - accuracy: 0.9083 - loss: 0.2260 - val_accuracy: 1.0000 - val_loss: 0.1204\n",
      "Epoch 130/150\n",
      "12/12 - 0s - 16ms/step - accuracy: 0.9083 - loss: 0.2253 - val_accuracy: 1.0000 - val_loss: 0.1194\n",
      "Epoch 131/150\n",
      "12/12 - 0s - 9ms/step - accuracy: 0.9083 - loss: 0.2246 - val_accuracy: 1.0000 - val_loss: 0.1183\n",
      "Epoch 132/150\n",
      "12/12 - 0s - 14ms/step - accuracy: 0.9111 - loss: 0.2238 - val_accuracy: 1.0000 - val_loss: 0.1173\n",
      "Epoch 133/150\n",
      "12/12 - 0s - 8ms/step - accuracy: 0.9111 - loss: 0.2231 - val_accuracy: 1.0000 - val_loss: 0.1164\n",
      "Epoch 134/150\n",
      "12/12 - 0s - 9ms/step - accuracy: 0.9111 - loss: 0.2224 - val_accuracy: 1.0000 - val_loss: 0.1154\n",
      "Epoch 135/150\n",
      "12/12 - 0s - 8ms/step - accuracy: 0.9111 - loss: 0.2218 - val_accuracy: 1.0000 - val_loss: 0.1144\n",
      "Epoch 136/150\n",
      "12/12 - 0s - 10ms/step - accuracy: 0.9111 - loss: 0.2211 - val_accuracy: 1.0000 - val_loss: 0.1135\n",
      "Epoch 137/150\n",
      "12/12 - 0s - 10ms/step - accuracy: 0.9111 - loss: 0.2205 - val_accuracy: 1.0000 - val_loss: 0.1126\n",
      "Epoch 138/150\n",
      "12/12 - 0s - 8ms/step - accuracy: 0.9111 - loss: 0.2198 - val_accuracy: 1.0000 - val_loss: 0.1117\n",
      "Epoch 139/150\n",
      "12/12 - 0s - 8ms/step - accuracy: 0.9111 - loss: 0.2192 - val_accuracy: 1.0000 - val_loss: 0.1108\n",
      "Epoch 140/150\n",
      "12/12 - 0s - 8ms/step - accuracy: 0.9111 - loss: 0.2186 - val_accuracy: 1.0000 - val_loss: 0.1100\n",
      "Epoch 141/150\n",
      "12/12 - 0s - 8ms/step - accuracy: 0.9111 - loss: 0.2180 - val_accuracy: 1.0000 - val_loss: 0.1092\n",
      "Epoch 142/150\n",
      "12/12 - 0s - 8ms/step - accuracy: 0.9111 - loss: 0.2174 - val_accuracy: 1.0000 - val_loss: 0.1083\n",
      "Epoch 143/150\n",
      "12/12 - 0s - 9ms/step - accuracy: 0.9111 - loss: 0.2169 - val_accuracy: 1.0000 - val_loss: 0.1076\n",
      "Epoch 144/150\n",
      "12/12 - 0s - 8ms/step - accuracy: 0.9111 - loss: 0.2163 - val_accuracy: 1.0000 - val_loss: 0.1068\n",
      "Epoch 145/150\n",
      "12/12 - 0s - 8ms/step - accuracy: 0.9111 - loss: 0.2158 - val_accuracy: 1.0000 - val_loss: 0.1060\n",
      "Epoch 146/150\n",
      "12/12 - 0s - 14ms/step - accuracy: 0.9111 - loss: 0.2152 - val_accuracy: 1.0000 - val_loss: 0.1053\n",
      "Epoch 147/150\n",
      "12/12 - 0s - 9ms/step - accuracy: 0.9111 - loss: 0.2147 - val_accuracy: 1.0000 - val_loss: 0.1045\n",
      "Epoch 148/150\n",
      "12/12 - 0s - 15ms/step - accuracy: 0.9111 - loss: 0.2142 - val_accuracy: 1.0000 - val_loss: 0.1038\n",
      "Epoch 149/150\n",
      "12/12 - 0s - 10ms/step - accuracy: 0.9111 - loss: 0.2137 - val_accuracy: 1.0000 - val_loss: 0.1031\n",
      "Epoch 150/150\n",
      "12/12 - 0s - 13ms/step - accuracy: 0.9111 - loss: 0.2132 - val_accuracy: 1.0000 - val_loss: 0.1024\n"
     ]
    }
   ],
   "source": [
    "history = model.fit(X_train_norm, y_train, epochs=150, batch_size=32, validation_split=0.1, verbose=2)"
   ]
  },
  {
   "cell_type": "markdown",
   "metadata": {
    "id": "-LkTHn-sabHn"
   },
   "source": []
  },
  {
   "cell_type": "code",
   "execution_count": 37,
   "metadata": {
    "colab": {
     "base_uri": "https://localhost:8080/",
     "height": 472
    },
    "id": "PkPpKURMUfkt",
    "outputId": "a13fae95-bf61-4ca1-fe0f-b34ed8a076dd"
   },
   "outputs": [
    {
     "data": {
      "image/png": "[encoded data removed]",
      "text/plain": [
       "<Figure size 640x480 with 1 Axes>"
      ]
     },
     "metadata": {},
     "output_type": "display_data"
    }
   ],
   "source": [
    "plt.plot(history.history['accuracy'])\n",
    "plt.plot(history.history['val_accuracy'])\n",
    "plt.title('Accuracy vs Epochs')\n",
    "plt.ylabel('Accuracy')\n",
    "plt.xlabel('Epoch')\n",
    "plt.legend(['Train', 'Validation'], loc='lower right')\n",
    "plt.show()"
   ]
  },
  {
   "cell_type": "code",
   "execution_count": 38,
   "metadata": {
    "colab": {
     "base_uri": "https://localhost:8080/",
     "height": 500
    },
    "id": "WXbbqICneaE7",
    "outputId": "0f0b19c3-1ac4-4922-dc54-617b827cbf86"
   },
   "outputs": [
    {
     "data": {
      "image/png": "[encoded data removed]",
      "text/plain": [
       "<Figure size 640x480 with 1 Axes>"
      ]
     },
     "metadata": {},
     "output_type": "display_data"
    }
   ],
   "source": [
    "plot(history,'loss')"
   ]
  },
  {
   "cell_type": "code",
   "execution_count": 39,
   "metadata": {
    "colab": {
     "base_uri": "https://localhost:8080/",
     "height": 106
    },
    "id": "fYvD94MCnPS1",
    "outputId": "d39be784-692a-4b6b-cad5-afd276b1e735"
   },
   "outputs": [
    {
     "name": "stdout",
     "output_type": "stream",
     "text": [
      "\u001b[1m13/13\u001b[0m \u001b[32m━━━━━━━━━━━━━━━━━━━━\u001b[0m\u001b[37m\u001b[0m \u001b[1m0s\u001b[0m 7ms/step\n"
     ]
    },
    {
     "data": {
      "text/html": [
       "<div>\n",
       "<style scoped>\n",
       "    .dataframe tbody tr th:only-of-type {\n",
       "        vertical-align: middle;\n",
       "    }\n",
       "\n",
       "    .dataframe tbody tr th {\n",
       "        vertical-align: top;\n",
       "    }\n",
       "\n",
       "    .dataframe thead th {\n",
       "        text-align: right;\n",
       "    }\n",
       "</style>\n",
       "<table border=\"1\" class=\"dataframe\">\n",
       "  <thead>\n",
       "    <tr style=\"text-align: right;\">\n",
       "      <th></th>\n",
       "      <th>Accuracy</th>\n",
       "      <th>Recall</th>\n",
       "      <th>Precision</th>\n",
       "      <th>F1 Score</th>\n",
       "    </tr>\n",
       "  </thead>\n",
       "  <tbody>\n",
       "    <tr>\n",
       "      <th>0</th>\n",
       "      <td>0.925</td>\n",
       "      <td>0.925</td>\n",
       "      <td>0.924285</td>\n",
       "      <td>0.923924</td>\n",
       "    </tr>\n",
       "  </tbody>\n",
       "</table>\n",
       "</div>"
      ],
      "text/plain": [
       "   Accuracy  Recall  Precision  F1 Score\n",
       "0     0.925   0.925   0.924285  0.923924"
      ]
     },
     "execution_count": 39,
     "metadata": {},
     "output_type": "execute_result"
    }
   ],
   "source": [
    "model_train_perf = model_performance_classification(model, X_train_norm, y_train)\n",
    "model_train_perf"
   ]
  },
  {
   "cell_type": "markdown",
   "metadata": {
    "id": "uCql2Xcsgwme"
   },
   "source": [
    "#  Model 2 (Adam Optimizer + Dropout)"
   ]
  },
  {
   "cell_type": "code",
   "execution_count": 40,
   "metadata": {
    "id": "I84QkE2basuS"
   },
   "outputs": [],
   "source": [
    "# clears the current Keras session, resetting all layers and models previously created, freeing up memory and resources.\n",
    "tf.keras.backend.clear_session()"
   ]
  },
  {
   "cell_type": "code",
   "execution_count": 41,
   "metadata": {
    "colab": {
     "base_uri": "https://localhost:8080/",
     "height": 346
    },
    "id": "FA5bQ4d8asyf",
    "outputId": "0818bf2d-8db4-4b0e-d60a-5182ca4b4a89"
   },
   "outputs": [
    {
     "name": "stderr",
     "output_type": "stream",
     "text": [
      "C:\\Users\\gbegb\\AppData\\Roaming\\Python\\Python312\\site-packages\\keras\\src\\layers\\core\\dense.py:87: UserWarning: Do not pass an `input_shape`/`input_dim` argument to a layer. When using Sequential models, prefer using an `Input(shape)` object as the first layer in the model instead.\n",
      "  super().__init__(activity_regularizer=activity_regularizer, **kwargs)\n"
     ]
    },
    {
     "data": {
      "text/html": [
       "<pre style=\"white-space:pre;overflow-x:auto;line-height:normal;font-family:Menlo,'DejaVu Sans Mono',consolas,'Courier New',monospace\"><span style=\"font-weight: bold\">Model: \"sequential\"</span>\n",
       "</pre>\n"
      ],
      "text/plain": [
       "\u001b[1mModel: \"sequential\"\u001b[0m\n"
      ]
     },
     "metadata": {},
     "output_type": "display_data"
    },
    {
     "data": {
      "text/html": [
       "<pre style=\"white-space:pre;overflow-x:auto;line-height:normal;font-family:Menlo,'DejaVu Sans Mono',consolas,'Courier New',monospace\">┏━━━━━━━━━━━━━━━━━━━━━━━━━━━━━━━━━━━━━━┳━━━━━━━━━━━━━━━━━━━━━━━━━━━━━┳━━━━━━━━━━━━━━━━━┓\n",
       "┃<span style=\"font-weight: bold\"> Layer (type)                         </span>┃<span style=\"font-weight: bold\"> Output Shape                </span>┃<span style=\"font-weight: bold\">         Param # </span>┃\n",
       "┡━━━━━━━━━━━━━━━━━━━━━━━━━━━━━━━━━━━━━━╇━━━━━━━━━━━━━━━━━━━━━━━━━━━━━╇━━━━━━━━━━━━━━━━━┩\n",
       "│ dense (<span style=\"color: #0087ff; text-decoration-color: #0087ff\">Dense</span>)                        │ (<span style=\"color: #00d7ff; text-decoration-color: #00d7ff\">None</span>, <span style=\"color: #00af00; text-decoration-color: #00af00\">128</span>)                 │           <span style=\"color: #00af00; text-decoration-color: #00af00\">1,024</span> │\n",
       "├──────────────────────────────────────┼─────────────────────────────┼─────────────────┤\n",
       "│ dropout (<span style=\"color: #0087ff; text-decoration-color: #0087ff\">Dropout</span>)                    │ (<span style=\"color: #00d7ff; text-decoration-color: #00d7ff\">None</span>, <span style=\"color: #00af00; text-decoration-color: #00af00\">128</span>)                 │               <span style=\"color: #00af00; text-decoration-color: #00af00\">0</span> │\n",
       "├──────────────────────────────────────┼─────────────────────────────┼─────────────────┤\n",
       "│ dense_1 (<span style=\"color: #0087ff; text-decoration-color: #0087ff\">Dense</span>)                      │ (<span style=\"color: #00d7ff; text-decoration-color: #00d7ff\">None</span>, <span style=\"color: #00af00; text-decoration-color: #00af00\">64</span>)                  │           <span style=\"color: #00af00; text-decoration-color: #00af00\">8,256</span> │\n",
       "├──────────────────────────────────────┼─────────────────────────────┼─────────────────┤\n",
       "│ dropout_1 (<span style=\"color: #0087ff; text-decoration-color: #0087ff\">Dropout</span>)                  │ (<span style=\"color: #00d7ff; text-decoration-color: #00d7ff\">None</span>, <span style=\"color: #00af00; text-decoration-color: #00af00\">64</span>)                  │               <span style=\"color: #00af00; text-decoration-color: #00af00\">0</span> │\n",
       "├──────────────────────────────────────┼─────────────────────────────┼─────────────────┤\n",
       "│ dense_2 (<span style=\"color: #0087ff; text-decoration-color: #0087ff\">Dense</span>)                      │ (<span style=\"color: #00d7ff; text-decoration-color: #00d7ff\">None</span>, <span style=\"color: #00af00; text-decoration-color: #00af00\">1</span>)                   │              <span style=\"color: #00af00; text-decoration-color: #00af00\">65</span> │\n",
       "└──────────────────────────────────────┴─────────────────────────────┴─────────────────┘\n",
       "</pre>\n"
      ],
      "text/plain": [
       "┏━━━━━━━━━━━━━━━━━━━━━━━━━━━━━━━━━━━━━━┳━━━━━━━━━━━━━━━━━━━━━━━━━━━━━┳━━━━━━━━━━━━━━━━━┓\n",
       "┃\u001b[1m \u001b[0m\u001b[1mLayer (type)                        \u001b[0m\u001b[1m \u001b[0m┃\u001b[1m \u001b[0m\u001b[1mOutput Shape               \u001b[0m\u001b[1m \u001b[0m┃\u001b[1m \u001b[0m\u001b[1m        Param #\u001b[0m\u001b[1m \u001b[0m┃\n",
       "┡━━━━━━━━━━━━━━━━━━━━━━━━━━━━━━━━━━━━━━╇━━━━━━━━━━━━━━━━━━━━━━━━━━━━━╇━━━━━━━━━━━━━━━━━┩\n",
       "│ dense (\u001b[38;5;33mDense\u001b[0m)                        │ (\u001b[38;5;45mNone\u001b[0m, \u001b[38;5;34m128\u001b[0m)                 │           \u001b[38;5;34m1,024\u001b[0m │\n",
       "├──────────────────────────────────────┼─────────────────────────────┼─────────────────┤\n",
       "│ dropout (\u001b[38;5;33mDropout\u001b[0m)                    │ (\u001b[38;5;45mNone\u001b[0m, \u001b[38;5;34m128\u001b[0m)                 │               \u001b[38;5;34m0\u001b[0m │\n",
       "├──────────────────────────────────────┼─────────────────────────────┼─────────────────┤\n",
       "│ dense_1 (\u001b[38;5;33mDense\u001b[0m)                      │ (\u001b[38;5;45mNone\u001b[0m, \u001b[38;5;34m64\u001b[0m)                  │           \u001b[38;5;34m8,256\u001b[0m │\n",
       "├──────────────────────────────────────┼─────────────────────────────┼─────────────────┤\n",
       "│ dropout_1 (\u001b[38;5;33mDropout\u001b[0m)                  │ (\u001b[38;5;45mNone\u001b[0m, \u001b[38;5;34m64\u001b[0m)                  │               \u001b[38;5;34m0\u001b[0m │\n",
       "├──────────────────────────────────────┼─────────────────────────────┼─────────────────┤\n",
       "│ dense_2 (\u001b[38;5;33mDense\u001b[0m)                      │ (\u001b[38;5;45mNone\u001b[0m, \u001b[38;5;34m1\u001b[0m)                   │              \u001b[38;5;34m65\u001b[0m │\n",
       "└──────────────────────────────────────┴─────────────────────────────┴─────────────────┘\n"
      ]
     },
     "metadata": {},
     "output_type": "display_data"
    },
    {
     "data": {
      "text/html": [
       "<pre style=\"white-space:pre;overflow-x:auto;line-height:normal;font-family:Menlo,'DejaVu Sans Mono',consolas,'Courier New',monospace\"><span style=\"font-weight: bold\"> Total params: </span><span style=\"color: #00af00; text-decoration-color: #00af00\">9,345</span> (36.50 KB)\n",
       "</pre>\n"
      ],
      "text/plain": [
       "\u001b[1m Total params: \u001b[0m\u001b[38;5;34m9,345\u001b[0m (36.50 KB)\n"
      ]
     },
     "metadata": {},
     "output_type": "display_data"
    },
    {
     "data": {
      "text/html": [
       "<pre style=\"white-space:pre;overflow-x:auto;line-height:normal;font-family:Menlo,'DejaVu Sans Mono',consolas,'Courier New',monospace\"><span style=\"font-weight: bold\"> Trainable params: </span><span style=\"color: #00af00; text-decoration-color: #00af00\">9,345</span> (36.50 KB)\n",
       "</pre>\n"
      ],
      "text/plain": [
       "\u001b[1m Trainable params: \u001b[0m\u001b[38;5;34m9,345\u001b[0m (36.50 KB)\n"
      ]
     },
     "metadata": {},
     "output_type": "display_data"
    },
    {
     "data": {
      "text/html": [
       "<pre style=\"white-space:pre;overflow-x:auto;line-height:normal;font-family:Menlo,'DejaVu Sans Mono',consolas,'Courier New',monospace\"><span style=\"font-weight: bold\"> Non-trainable params: </span><span style=\"color: #00af00; text-decoration-color: #00af00\">0</span> (0.00 B)\n",
       "</pre>\n"
      ],
      "text/plain": [
       "\u001b[1m Non-trainable params: \u001b[0m\u001b[38;5;34m0\u001b[0m (0.00 B)\n"
      ]
     },
     "metadata": {},
     "output_type": "display_data"
    }
   ],
   "source": [
    "# We will be adding layers sequentially\n",
    "model2 = Sequential()\n",
    "\n",
    "# First hidden layer with 14 neurons and relu activation and input shape denotes number of independent variable\n",
    "model2.add(Dense(128, activation='relu', input_shape=(X_train_norm.shape[1], )))\n",
    "\n",
    "#Adding  Dropout to switch off 20% neurons randomly to avoid overfitting.\n",
    "model2.add(Dropout(0.2))\n",
    "\n",
    "# Second hidden layer with 7 neurons and relu activation\n",
    "model2.add(Dense(64, activation='relu'))\n",
    "\n",
    "#Adding  Dropout to switch off 10% neurons randomly to avoid overfitting.\n",
    "model2.add(Dropout(0.1))\n",
    "\n",
    "# Output layer with 1 neuron and sigmoid activation\n",
    "model2.add(Dense(1, activation='sigmoid'))\n",
    "\n",
    "opt = tf.keras.optimizers.Adam(learning_rate=0.001)\n",
    "\n",
    "# Compiling the model2\n",
    "model2.compile(optimizer=opt, loss='binary_crossentropy', metrics=['accuracy'])\n",
    "\n",
    "model2.summary()"
   ]
  },
  {
   "cell_type": "code",
   "execution_count": 42,
   "metadata": {
    "colab": {
     "base_uri": "https://localhost:8080/"
    },
    "id": "O3G9uVL0as2_",
    "outputId": "6de65ece-42cc-4e54-ffa4-93bcb76c1e7c"
   },
   "outputs": [
    {
     "name": "stdout",
     "output_type": "stream",
     "text": [
      "Epoch 1/150\n",
      "12/12 - 3s - 239ms/step - accuracy: 0.6000 - loss: 0.6767 - val_accuracy: 0.7250 - val_loss: 0.6523\n",
      "Epoch 2/150\n",
      "12/12 - 0s - 12ms/step - accuracy: 0.7139 - loss: 0.6452 - val_accuracy: 0.7250 - val_loss: 0.6117\n",
      "Epoch 3/150\n",
      "12/12 - 0s - 11ms/step - accuracy: 0.7194 - loss: 0.6016 - val_accuracy: 0.7250 - val_loss: 0.5531\n",
      "Epoch 4/150\n",
      "12/12 - 0s - 12ms/step - accuracy: 0.7556 - loss: 0.5562 - val_accuracy: 0.7250 - val_loss: 0.4990\n",
      "Epoch 5/150\n",
      "12/12 - 0s - 9ms/step - accuracy: 0.7889 - loss: 0.4956 - val_accuracy: 0.9000 - val_loss: 0.4425\n",
      "Epoch 6/150\n",
      "12/12 - 0s - 14ms/step - accuracy: 0.8306 - loss: 0.4447 - val_accuracy: 0.9500 - val_loss: 0.3904\n",
      "Epoch 7/150\n",
      "12/12 - 0s - 13ms/step - accuracy: 0.8583 - loss: 0.3986 - val_accuracy: 0.9500 - val_loss: 0.3466\n",
      "Epoch 8/150\n",
      "12/12 - 0s - 8ms/step - accuracy: 0.8889 - loss: 0.3569 - val_accuracy: 0.9250 - val_loss: 0.3052\n",
      "Epoch 9/150\n",
      "12/12 - 0s - 11ms/step - accuracy: 0.8861 - loss: 0.3366 - val_accuracy: 0.9500 - val_loss: 0.2784\n",
      "Epoch 10/150\n",
      "12/12 - 0s - 10ms/step - accuracy: 0.9028 - loss: 0.3120 - val_accuracy: 0.9500 - val_loss: 0.2413\n",
      "Epoch 11/150\n",
      "12/12 - 0s - 14ms/step - accuracy: 0.9028 - loss: 0.2751 - val_accuracy: 0.9500 - val_loss: 0.2198\n",
      "Epoch 12/150\n",
      "12/12 - 0s - 10ms/step - accuracy: 0.8972 - loss: 0.2607 - val_accuracy: 0.9500 - val_loss: 0.2000\n",
      "Epoch 13/150\n",
      "12/12 - 0s - 14ms/step - accuracy: 0.9111 - loss: 0.2581 - val_accuracy: 0.9500 - val_loss: 0.1786\n",
      "Epoch 14/150\n",
      "12/12 - 0s - 9ms/step - accuracy: 0.8889 - loss: 0.2506 - val_accuracy: 0.9500 - val_loss: 0.1690\n",
      "Epoch 15/150\n",
      "12/12 - 0s - 14ms/step - accuracy: 0.8972 - loss: 0.2444 - val_accuracy: 0.9500 - val_loss: 0.1622\n",
      "Epoch 16/150\n",
      "12/12 - 0s - 10ms/step - accuracy: 0.8972 - loss: 0.2371 - val_accuracy: 0.9500 - val_loss: 0.1422\n",
      "Epoch 17/150\n",
      "12/12 - 0s - 11ms/step - accuracy: 0.9222 - loss: 0.2277 - val_accuracy: 0.9500 - val_loss: 0.1384\n",
      "Epoch 18/150\n",
      "12/12 - 0s - 8ms/step - accuracy: 0.9250 - loss: 0.2093 - val_accuracy: 0.9500 - val_loss: 0.1324\n",
      "Epoch 19/150\n",
      "12/12 - 0s - 10ms/step - accuracy: 0.9250 - loss: 0.2264 - val_accuracy: 0.9750 - val_loss: 0.1164\n",
      "Epoch 20/150\n",
      "12/12 - 0s - 12ms/step - accuracy: 0.9083 - loss: 0.2185 - val_accuracy: 0.9500 - val_loss: 0.1252\n",
      "Epoch 21/150\n",
      "12/12 - 0s - 13ms/step - accuracy: 0.9111 - loss: 0.2102 - val_accuracy: 0.9500 - val_loss: 0.1113\n",
      "Epoch 22/150\n",
      "12/12 - 0s - 17ms/step - accuracy: 0.9139 - loss: 0.2047 - val_accuracy: 0.9750 - val_loss: 0.1060\n",
      "Epoch 23/150\n",
      "12/12 - 0s - 11ms/step - accuracy: 0.9222 - loss: 0.2033 - val_accuracy: 0.9750 - val_loss: 0.0997\n",
      "Epoch 24/150\n",
      "12/12 - 0s - 10ms/step - accuracy: 0.9194 - loss: 0.2166 - val_accuracy: 0.9750 - val_loss: 0.0952\n",
      "Epoch 25/150\n",
      "12/12 - 0s - 9ms/step - accuracy: 0.9194 - loss: 0.1859 - val_accuracy: 0.9750 - val_loss: 0.0996\n",
      "Epoch 26/150\n",
      "12/12 - 0s - 10ms/step - accuracy: 0.9167 - loss: 0.2179 - val_accuracy: 0.9750 - val_loss: 0.0889\n",
      "Epoch 27/150\n",
      "12/12 - 0s - 9ms/step - accuracy: 0.9278 - loss: 0.1906 - val_accuracy: 1.0000 - val_loss: 0.0861\n",
      "Epoch 28/150\n",
      "12/12 - 0s - 9ms/step - accuracy: 0.9222 - loss: 0.1892 - val_accuracy: 1.0000 - val_loss: 0.0842\n",
      "Epoch 29/150\n",
      "12/12 - 0s - 9ms/step - accuracy: 0.9278 - loss: 0.1933 - val_accuracy: 0.9750 - val_loss: 0.0885\n",
      "Epoch 30/150\n",
      "12/12 - 0s - 10ms/step - accuracy: 0.9139 - loss: 0.2055 - val_accuracy: 1.0000 - val_loss: 0.0792\n",
      "Epoch 31/150\n",
      "12/12 - 0s - 14ms/step - accuracy: 0.9194 - loss: 0.1920 - val_accuracy: 0.9750 - val_loss: 0.0836\n",
      "Epoch 32/150\n",
      "12/12 - 0s - 10ms/step - accuracy: 0.9194 - loss: 0.2044 - val_accuracy: 0.9750 - val_loss: 0.0830\n",
      "Epoch 33/150\n",
      "12/12 - 0s - 10ms/step - accuracy: 0.9167 - loss: 0.1964 - val_accuracy: 0.9750 - val_loss: 0.0847\n",
      "Epoch 34/150\n",
      "12/12 - 0s - 9ms/step - accuracy: 0.9250 - loss: 0.1887 - val_accuracy: 1.0000 - val_loss: 0.0761\n",
      "Epoch 35/150\n",
      "12/12 - 0s - 10ms/step - accuracy: 0.9222 - loss: 0.1921 - val_accuracy: 1.0000 - val_loss: 0.0807\n",
      "Epoch 36/150\n",
      "12/12 - 0s - 13ms/step - accuracy: 0.9139 - loss: 0.2005 - val_accuracy: 1.0000 - val_loss: 0.0754\n",
      "Epoch 37/150\n",
      "12/12 - 0s - 11ms/step - accuracy: 0.9278 - loss: 0.1852 - val_accuracy: 0.9750 - val_loss: 0.0776\n",
      "Epoch 38/150\n",
      "12/12 - 0s - 9ms/step - accuracy: 0.9306 - loss: 0.1736 - val_accuracy: 1.0000 - val_loss: 0.0735\n",
      "Epoch 39/150\n",
      "12/12 - 0s - 9ms/step - accuracy: 0.9250 - loss: 0.1897 - val_accuracy: 1.0000 - val_loss: 0.0714\n",
      "Epoch 40/150\n",
      "12/12 - 0s - 9ms/step - accuracy: 0.9111 - loss: 0.1994 - val_accuracy: 1.0000 - val_loss: 0.0703\n",
      "Epoch 41/150\n",
      "12/12 - 0s - 14ms/step - accuracy: 0.9333 - loss: 0.1756 - val_accuracy: 1.0000 - val_loss: 0.0714\n",
      "Epoch 42/150\n",
      "12/12 - 0s - 12ms/step - accuracy: 0.9167 - loss: 0.1850 - val_accuracy: 1.0000 - val_loss: 0.0682\n",
      "Epoch 43/150\n",
      "12/12 - 0s - 10ms/step - accuracy: 0.9389 - loss: 0.1800 - val_accuracy: 1.0000 - val_loss: 0.0685\n",
      "Epoch 44/150\n",
      "12/12 - 0s - 13ms/step - accuracy: 0.9278 - loss: 0.1817 - val_accuracy: 1.0000 - val_loss: 0.0656\n",
      "Epoch 45/150\n",
      "12/12 - 0s - 10ms/step - accuracy: 0.9250 - loss: 0.1731 - val_accuracy: 1.0000 - val_loss: 0.0693\n",
      "Epoch 46/150\n",
      "12/12 - 0s - 11ms/step - accuracy: 0.9278 - loss: 0.1755 - val_accuracy: 0.9750 - val_loss: 0.0715\n",
      "Epoch 47/150\n",
      "12/12 - 0s - 14ms/step - accuracy: 0.9278 - loss: 0.1857 - val_accuracy: 1.0000 - val_loss: 0.0633\n",
      "Epoch 48/150\n",
      "12/12 - 0s - 13ms/step - accuracy: 0.9306 - loss: 0.1709 - val_accuracy: 1.0000 - val_loss: 0.0673\n",
      "Epoch 49/150\n",
      "12/12 - 0s - 9ms/step - accuracy: 0.9306 - loss: 0.1867 - val_accuracy: 1.0000 - val_loss: 0.0632\n",
      "Epoch 50/150\n",
      "12/12 - 0s - 13ms/step - accuracy: 0.9278 - loss: 0.1663 - val_accuracy: 1.0000 - val_loss: 0.0675\n",
      "Epoch 51/150\n",
      "12/12 - 0s - 9ms/step - accuracy: 0.9333 - loss: 0.1801 - val_accuracy: 1.0000 - val_loss: 0.0653\n",
      "Epoch 52/150\n",
      "12/12 - 0s - 10ms/step - accuracy: 0.9333 - loss: 0.1790 - val_accuracy: 1.0000 - val_loss: 0.0612\n",
      "Epoch 53/150\n",
      "12/12 - 0s - 10ms/step - accuracy: 0.9250 - loss: 0.1964 - val_accuracy: 1.0000 - val_loss: 0.0655\n",
      "Epoch 54/150\n",
      "12/12 - 0s - 9ms/step - accuracy: 0.9250 - loss: 0.1933 - val_accuracy: 1.0000 - val_loss: 0.0618\n",
      "Epoch 55/150\n",
      "12/12 - 0s - 12ms/step - accuracy: 0.9250 - loss: 0.1868 - val_accuracy: 1.0000 - val_loss: 0.0631\n",
      "Epoch 56/150\n",
      "12/12 - 0s - 13ms/step - accuracy: 0.9139 - loss: 0.1774 - val_accuracy: 1.0000 - val_loss: 0.0595\n",
      "Epoch 57/150\n",
      "12/12 - 0s - 10ms/step - accuracy: 0.9306 - loss: 0.1729 - val_accuracy: 1.0000 - val_loss: 0.0636\n",
      "Epoch 58/150\n",
      "12/12 - 0s - 9ms/step - accuracy: 0.9250 - loss: 0.1780 - val_accuracy: 1.0000 - val_loss: 0.0579\n",
      "Epoch 59/150\n",
      "12/12 - 0s - 13ms/step - accuracy: 0.9389 - loss: 0.1623 - val_accuracy: 1.0000 - val_loss: 0.0597\n",
      "Epoch 60/150\n",
      "12/12 - 0s - 9ms/step - accuracy: 0.9361 - loss: 0.1674 - val_accuracy: 1.0000 - val_loss: 0.0559\n",
      "Epoch 61/150\n",
      "12/12 - 0s - 15ms/step - accuracy: 0.9250 - loss: 0.1761 - val_accuracy: 1.0000 - val_loss: 0.0554\n",
      "Epoch 62/150\n",
      "12/12 - 0s - 12ms/step - accuracy: 0.9167 - loss: 0.1836 - val_accuracy: 1.0000 - val_loss: 0.0543\n",
      "Epoch 63/150\n",
      "12/12 - 0s - 16ms/step - accuracy: 0.9306 - loss: 0.1702 - val_accuracy: 1.0000 - val_loss: 0.0556\n",
      "Epoch 64/150\n",
      "12/12 - 0s - 10ms/step - accuracy: 0.9306 - loss: 0.1647 - val_accuracy: 1.0000 - val_loss: 0.0517\n",
      "Epoch 65/150\n",
      "12/12 - 0s - 10ms/step - accuracy: 0.9250 - loss: 0.1643 - val_accuracy: 1.0000 - val_loss: 0.0547\n",
      "Epoch 66/150\n",
      "12/12 - 0s - 9ms/step - accuracy: 0.9417 - loss: 0.1609 - val_accuracy: 1.0000 - val_loss: 0.0499\n",
      "Epoch 67/150\n",
      "12/12 - 0s - 8ms/step - accuracy: 0.9250 - loss: 0.1725 - val_accuracy: 1.0000 - val_loss: 0.0493\n",
      "Epoch 68/150\n",
      "12/12 - 0s - 8ms/step - accuracy: 0.9306 - loss: 0.1682 - val_accuracy: 1.0000 - val_loss: 0.0515\n",
      "Epoch 69/150\n",
      "12/12 - 0s - 14ms/step - accuracy: 0.9222 - loss: 0.1763 - val_accuracy: 1.0000 - val_loss: 0.0561\n",
      "Epoch 70/150\n",
      "12/12 - 0s - 9ms/step - accuracy: 0.9389 - loss: 0.1583 - val_accuracy: 1.0000 - val_loss: 0.0523\n",
      "Epoch 71/150\n",
      "12/12 - 0s - 12ms/step - accuracy: 0.9139 - loss: 0.1875 - val_accuracy: 1.0000 - val_loss: 0.0498\n",
      "Epoch 72/150\n",
      "12/12 - 0s - 9ms/step - accuracy: 0.9417 - loss: 0.1614 - val_accuracy: 1.0000 - val_loss: 0.0537\n",
      "Epoch 73/150\n",
      "12/12 - 0s - 9ms/step - accuracy: 0.9444 - loss: 0.1582 - val_accuracy: 1.0000 - val_loss: 0.0526\n",
      "Epoch 74/150\n",
      "12/12 - 0s - 14ms/step - accuracy: 0.9222 - loss: 0.1596 - val_accuracy: 1.0000 - val_loss: 0.0503\n",
      "Epoch 75/150\n",
      "12/12 - 0s - 13ms/step - accuracy: 0.9250 - loss: 0.1589 - val_accuracy: 1.0000 - val_loss: 0.0505\n",
      "Epoch 76/150\n",
      "12/12 - 0s - 13ms/step - accuracy: 0.9167 - loss: 0.1625 - val_accuracy: 1.0000 - val_loss: 0.0467\n",
      "Epoch 77/150\n",
      "12/12 - 0s - 9ms/step - accuracy: 0.9361 - loss: 0.1597 - val_accuracy: 1.0000 - val_loss: 0.0491\n",
      "Epoch 78/150\n",
      "12/12 - 0s - 9ms/step - accuracy: 0.9389 - loss: 0.1735 - val_accuracy: 1.0000 - val_loss: 0.0483\n",
      "Epoch 79/150\n",
      "12/12 - 0s - 14ms/step - accuracy: 0.9306 - loss: 0.1679 - val_accuracy: 1.0000 - val_loss: 0.0484\n",
      "Epoch 80/150\n",
      "12/12 - 0s - 10ms/step - accuracy: 0.9250 - loss: 0.1741 - val_accuracy: 1.0000 - val_loss: 0.0492\n",
      "Epoch 81/150\n",
      "12/12 - 0s - 9ms/step - accuracy: 0.9389 - loss: 0.1627 - val_accuracy: 1.0000 - val_loss: 0.0499\n",
      "Epoch 82/150\n",
      "12/12 - 0s - 9ms/step - accuracy: 0.9361 - loss: 0.1556 - val_accuracy: 1.0000 - val_loss: 0.0462\n",
      "Epoch 83/150\n",
      "12/12 - 0s - 14ms/step - accuracy: 0.9250 - loss: 0.1642 - val_accuracy: 1.0000 - val_loss: 0.0502\n",
      "Epoch 84/150\n",
      "12/12 - 0s - 13ms/step - accuracy: 0.9333 - loss: 0.1557 - val_accuracy: 1.0000 - val_loss: 0.0452\n",
      "Epoch 85/150\n",
      "12/12 - 0s - 9ms/step - accuracy: 0.9389 - loss: 0.1487 - val_accuracy: 1.0000 - val_loss: 0.0480\n",
      "Epoch 86/150\n",
      "12/12 - 0s - 13ms/step - accuracy: 0.9306 - loss: 0.1627 - val_accuracy: 1.0000 - val_loss: 0.0461\n",
      "Epoch 87/150\n",
      "12/12 - 0s - 14ms/step - accuracy: 0.9472 - loss: 0.1596 - val_accuracy: 1.0000 - val_loss: 0.0461\n",
      "Epoch 88/150\n",
      "12/12 - 0s - 9ms/step - accuracy: 0.9361 - loss: 0.1470 - val_accuracy: 1.0000 - val_loss: 0.0445\n",
      "Epoch 89/150\n",
      "12/12 - 0s - 13ms/step - accuracy: 0.9333 - loss: 0.1550 - val_accuracy: 1.0000 - val_loss: 0.0429\n",
      "Epoch 90/150\n",
      "12/12 - 0s - 9ms/step - accuracy: 0.9361 - loss: 0.1438 - val_accuracy: 1.0000 - val_loss: 0.0438\n",
      "Epoch 91/150\n",
      "12/12 - 0s - 14ms/step - accuracy: 0.9444 - loss: 0.1472 - val_accuracy: 1.0000 - val_loss: 0.0433\n",
      "Epoch 92/150\n",
      "12/12 - 0s - 13ms/step - accuracy: 0.9389 - loss: 0.1489 - val_accuracy: 1.0000 - val_loss: 0.0485\n",
      "Epoch 93/150\n",
      "12/12 - 0s - 13ms/step - accuracy: 0.9333 - loss: 0.1583 - val_accuracy: 1.0000 - val_loss: 0.0424\n",
      "Epoch 94/150\n",
      "12/12 - 0s - 10ms/step - accuracy: 0.9194 - loss: 0.1600 - val_accuracy: 1.0000 - val_loss: 0.0414\n",
      "Epoch 95/150\n",
      "12/12 - 0s - 8ms/step - accuracy: 0.9389 - loss: 0.1472 - val_accuracy: 1.0000 - val_loss: 0.0436\n",
      "Epoch 96/150\n",
      "12/12 - 0s - 9ms/step - accuracy: 0.9194 - loss: 0.1538 - val_accuracy: 1.0000 - val_loss: 0.0452\n",
      "Epoch 97/150\n",
      "12/12 - 0s - 9ms/step - accuracy: 0.9361 - loss: 0.1690 - val_accuracy: 1.0000 - val_loss: 0.0459\n",
      "Epoch 98/150\n",
      "12/12 - 0s - 13ms/step - accuracy: 0.9444 - loss: 0.1489 - val_accuracy: 1.0000 - val_loss: 0.0424\n",
      "Epoch 99/150\n",
      "12/12 - 0s - 9ms/step - accuracy: 0.9389 - loss: 0.1544 - val_accuracy: 1.0000 - val_loss: 0.0423\n",
      "Epoch 100/150\n",
      "12/12 - 0s - 9ms/step - accuracy: 0.9417 - loss: 0.1507 - val_accuracy: 1.0000 - val_loss: 0.0472\n",
      "Epoch 101/150\n",
      "12/12 - 0s - 9ms/step - accuracy: 0.9361 - loss: 0.1522 - val_accuracy: 1.0000 - val_loss: 0.0420\n",
      "Epoch 102/150\n",
      "12/12 - 0s - 13ms/step - accuracy: 0.9472 - loss: 0.1414 - val_accuracy: 1.0000 - val_loss: 0.0450\n",
      "Epoch 103/150\n",
      "12/12 - 0s - 9ms/step - accuracy: 0.9389 - loss: 0.1467 - val_accuracy: 1.0000 - val_loss: 0.0443\n",
      "Epoch 104/150\n",
      "12/12 - 0s - 9ms/step - accuracy: 0.9333 - loss: 0.1546 - val_accuracy: 1.0000 - val_loss: 0.0433\n",
      "Epoch 105/150\n",
      "12/12 - 0s - 14ms/step - accuracy: 0.9361 - loss: 0.1479 - val_accuracy: 1.0000 - val_loss: 0.0436\n",
      "Epoch 106/150\n",
      "12/12 - 0s - 8ms/step - accuracy: 0.9278 - loss: 0.1623 - val_accuracy: 1.0000 - val_loss: 0.0461\n",
      "Epoch 107/150\n",
      "12/12 - 0s - 12ms/step - accuracy: 0.9389 - loss: 0.1416 - val_accuracy: 1.0000 - val_loss: 0.0403\n",
      "Epoch 108/150\n",
      "12/12 - 0s - 15ms/step - accuracy: 0.9389 - loss: 0.1488 - val_accuracy: 1.0000 - val_loss: 0.0426\n",
      "Epoch 109/150\n",
      "12/12 - 0s - 12ms/step - accuracy: 0.9500 - loss: 0.1403 - val_accuracy: 1.0000 - val_loss: 0.0400\n",
      "Epoch 110/150\n",
      "12/12 - 0s - 13ms/step - accuracy: 0.9361 - loss: 0.1428 - val_accuracy: 1.0000 - val_loss: 0.0448\n",
      "Epoch 111/150\n",
      "12/12 - 0s - 9ms/step - accuracy: 0.9417 - loss: 0.1422 - val_accuracy: 1.0000 - val_loss: 0.0399\n",
      "Epoch 112/150\n",
      "12/12 - 0s - 10ms/step - accuracy: 0.9417 - loss: 0.1493 - val_accuracy: 1.0000 - val_loss: 0.0418\n",
      "Epoch 113/150\n",
      "12/12 - 0s - 10ms/step - accuracy: 0.9417 - loss: 0.1518 - val_accuracy: 1.0000 - val_loss: 0.0409\n",
      "Epoch 114/150\n",
      "12/12 - 0s - 9ms/step - accuracy: 0.9361 - loss: 0.1488 - val_accuracy: 1.0000 - val_loss: 0.0444\n",
      "Epoch 115/150\n",
      "12/12 - 0s - 9ms/step - accuracy: 0.9444 - loss: 0.1427 - val_accuracy: 1.0000 - val_loss: 0.0419\n",
      "Epoch 116/150\n",
      "12/12 - 0s - 14ms/step - accuracy: 0.9472 - loss: 0.1403 - val_accuracy: 1.0000 - val_loss: 0.0455\n",
      "Epoch 117/150\n",
      "12/12 - 0s - 12ms/step - accuracy: 0.9306 - loss: 0.1622 - val_accuracy: 1.0000 - val_loss: 0.0417\n",
      "Epoch 118/150\n",
      "12/12 - 0s - 9ms/step - accuracy: 0.9361 - loss: 0.1548 - val_accuracy: 1.0000 - val_loss: 0.0439\n",
      "Epoch 119/150\n",
      "12/12 - 0s - 9ms/step - accuracy: 0.9333 - loss: 0.1659 - val_accuracy: 1.0000 - val_loss: 0.0434\n",
      "Epoch 120/150\n",
      "12/12 - 0s - 10ms/step - accuracy: 0.9361 - loss: 0.1355 - val_accuracy: 1.0000 - val_loss: 0.0449\n",
      "Epoch 121/150\n",
      "12/12 - 0s - 13ms/step - accuracy: 0.9389 - loss: 0.1385 - val_accuracy: 1.0000 - val_loss: 0.0479\n",
      "Epoch 122/150\n",
      "12/12 - 0s - 17ms/step - accuracy: 0.9306 - loss: 0.1629 - val_accuracy: 1.0000 - val_loss: 0.0378\n",
      "Epoch 123/150\n",
      "12/12 - 0s - 9ms/step - accuracy: 0.9417 - loss: 0.1409 - val_accuracy: 1.0000 - val_loss: 0.0427\n",
      "Epoch 124/150\n",
      "12/12 - 0s - 10ms/step - accuracy: 0.9444 - loss: 0.1395 - val_accuracy: 1.0000 - val_loss: 0.0414\n",
      "Epoch 125/150\n",
      "12/12 - 0s - 13ms/step - accuracy: 0.9417 - loss: 0.1435 - val_accuracy: 1.0000 - val_loss: 0.0389\n",
      "Epoch 126/150\n",
      "12/12 - 0s - 10ms/step - accuracy: 0.9472 - loss: 0.1437 - val_accuracy: 1.0000 - val_loss: 0.0378\n",
      "Epoch 127/150\n",
      "12/12 - 0s - 8ms/step - accuracy: 0.9389 - loss: 0.1441 - val_accuracy: 1.0000 - val_loss: 0.0458\n",
      "Epoch 128/150\n",
      "12/12 - 0s - 16ms/step - accuracy: 0.9417 - loss: 0.1409 - val_accuracy: 1.0000 - val_loss: 0.0404\n",
      "Epoch 129/150\n",
      "12/12 - 0s - 10ms/step - accuracy: 0.9333 - loss: 0.1494 - val_accuracy: 1.0000 - val_loss: 0.0370\n",
      "Epoch 130/150\n",
      "12/12 - 0s - 10ms/step - accuracy: 0.9472 - loss: 0.1380 - val_accuracy: 1.0000 - val_loss: 0.0382\n",
      "Epoch 131/150\n",
      "12/12 - 0s - 13ms/step - accuracy: 0.9389 - loss: 0.1416 - val_accuracy: 1.0000 - val_loss: 0.0353\n",
      "Epoch 132/150\n",
      "12/12 - 0s - 10ms/step - accuracy: 0.9500 - loss: 0.1384 - val_accuracy: 1.0000 - val_loss: 0.0417\n",
      "Epoch 133/150\n",
      "12/12 - 0s - 14ms/step - accuracy: 0.9361 - loss: 0.1381 - val_accuracy: 1.0000 - val_loss: 0.0378\n",
      "Epoch 134/150\n",
      "12/12 - 0s - 9ms/step - accuracy: 0.9417 - loss: 0.1365 - val_accuracy: 1.0000 - val_loss: 0.0352\n",
      "Epoch 135/150\n",
      "12/12 - 0s - 12ms/step - accuracy: 0.9500 - loss: 0.1403 - val_accuracy: 1.0000 - val_loss: 0.0356\n",
      "Epoch 136/150\n",
      "12/12 - 0s - 15ms/step - accuracy: 0.9417 - loss: 0.1499 - val_accuracy: 1.0000 - val_loss: 0.0389\n",
      "Epoch 137/150\n",
      "12/12 - 0s - 9ms/step - accuracy: 0.9444 - loss: 0.1485 - val_accuracy: 0.9750 - val_loss: 0.0522\n",
      "Epoch 138/150\n",
      "12/12 - 0s - 8ms/step - accuracy: 0.9500 - loss: 0.1277 - val_accuracy: 1.0000 - val_loss: 0.0338\n",
      "Epoch 139/150\n",
      "12/12 - 0s - 16ms/step - accuracy: 0.9528 - loss: 0.1253 - val_accuracy: 0.9750 - val_loss: 0.0488\n",
      "Epoch 140/150\n",
      "12/12 - 0s - 9ms/step - accuracy: 0.9389 - loss: 0.1443 - val_accuracy: 1.0000 - val_loss: 0.0343\n",
      "Epoch 141/150\n",
      "12/12 - 0s - 14ms/step - accuracy: 0.9389 - loss: 0.1427 - val_accuracy: 1.0000 - val_loss: 0.0315\n",
      "Epoch 142/150\n",
      "12/12 - 0s - 9ms/step - accuracy: 0.9417 - loss: 0.1472 - val_accuracy: 1.0000 - val_loss: 0.0364\n",
      "Epoch 143/150\n",
      "12/12 - 0s - 16ms/step - accuracy: 0.9389 - loss: 0.1414 - val_accuracy: 1.0000 - val_loss: 0.0366\n",
      "Epoch 144/150\n",
      "12/12 - 0s - 10ms/step - accuracy: 0.9444 - loss: 0.1390 - val_accuracy: 1.0000 - val_loss: 0.0358\n",
      "Epoch 145/150\n",
      "12/12 - 0s - 13ms/step - accuracy: 0.9472 - loss: 0.1244 - val_accuracy: 1.0000 - val_loss: 0.0334\n",
      "Epoch 146/150\n",
      "12/12 - 0s - 9ms/step - accuracy: 0.9389 - loss: 0.1292 - val_accuracy: 1.0000 - val_loss: 0.0352\n",
      "Epoch 147/150\n",
      "12/12 - 0s - 9ms/step - accuracy: 0.9361 - loss: 0.1424 - val_accuracy: 1.0000 - val_loss: 0.0327\n",
      "Epoch 148/150\n",
      "12/12 - 0s - 10ms/step - accuracy: 0.9389 - loss: 0.1415 - val_accuracy: 1.0000 - val_loss: 0.0390\n",
      "Epoch 149/150\n",
      "12/12 - 0s - 13ms/step - accuracy: 0.9417 - loss: 0.1451 - val_accuracy: 1.0000 - val_loss: 0.0388\n",
      "Epoch 150/150\n",
      "12/12 - 0s - 9ms/step - accuracy: 0.9472 - loss: 0.1303 - val_accuracy: 1.0000 - val_loss: 0.0314\n"
     ]
    }
   ],
   "source": [
    "history2 = model2.fit(X_train_norm, y_train, epochs=150, batch_size=32, validation_split=0.1, verbose=2)"
   ]
  },
  {
   "cell_type": "code",
   "execution_count": 43,
   "metadata": {
    "colab": {
     "base_uri": "https://localhost:8080/",
     "height": 472
    },
    "id": "Xjkpn7bras6J",
    "outputId": "61d831da-ac63-4418-a338-918dbeb0ca52"
   },
   "outputs": [
    {
     "data": {
      "image/png": "[encoded data removed]",
      "text/plain": [
       "<Figure size 640x480 with 1 Axes>"
      ]
     },
     "metadata": {},
     "output_type": "display_data"
    }
   ],
   "source": [
    "plt.plot(history2.history['accuracy'])\n",
    "plt.plot(history2.history['val_accuracy'])\n",
    "plt.title('Accuracy vs Epochs')\n",
    "plt.ylabel('Accuracy')\n",
    "plt.xlabel('Epoch')\n",
    "plt.legend(['Train', 'Validation'], loc='lower right')\n",
    "plt.show()"
   ]
  },
  {
   "cell_type": "code",
   "execution_count": 44,
   "metadata": {
    "colab": {
     "base_uri": "https://localhost:8080/",
     "height": 500
    },
    "id": "4ht2TjJgas87",
    "outputId": "fc4ee881-2fcd-4336-985d-f800c953641a"
   },
   "outputs": [
    {
     "data": {
      "image/png": "[encoded data removed]",
      "text/plain": [
       "<Figure size 640x480 with 1 Axes>"
      ]
     },
     "metadata": {},
     "output_type": "display_data"
    }
   ],
   "source": [
    "plot(history2,'loss')"
   ]
  },
  {
   "cell_type": "code",
   "execution_count": 45,
   "metadata": {
    "colab": {
     "base_uri": "https://localhost:8080/",
     "height": 106
    },
    "id": "zU68NvpMn4b2",
    "outputId": "54ee720d-5033-4033-ccc5-22ee45f1521e"
   },
   "outputs": [
    {
     "name": "stdout",
     "output_type": "stream",
     "text": [
      "\u001b[1m13/13\u001b[0m \u001b[32m━━━━━━━━━━━━━━━━━━━━\u001b[0m\u001b[37m\u001b[0m \u001b[1m0s\u001b[0m 6ms/step\n"
     ]
    },
    {
     "data": {
      "text/html": [
       "<div>\n",
       "<style scoped>\n",
       "    .dataframe tbody tr th:only-of-type {\n",
       "        vertical-align: middle;\n",
       "    }\n",
       "\n",
       "    .dataframe tbody tr th {\n",
       "        vertical-align: top;\n",
       "    }\n",
       "\n",
       "    .dataframe thead th {\n",
       "        text-align: right;\n",
       "    }\n",
       "</style>\n",
       "<table border=\"1\" class=\"dataframe\">\n",
       "  <thead>\n",
       "    <tr style=\"text-align: right;\">\n",
       "      <th></th>\n",
       "      <th>Accuracy</th>\n",
       "      <th>Recall</th>\n",
       "      <th>Precision</th>\n",
       "      <th>F1 Score</th>\n",
       "    </tr>\n",
       "  </thead>\n",
       "  <tbody>\n",
       "    <tr>\n",
       "      <th>0</th>\n",
       "      <td>0.9575</td>\n",
       "      <td>0.9575</td>\n",
       "      <td>0.957399</td>\n",
       "      <td>0.957084</td>\n",
       "    </tr>\n",
       "  </tbody>\n",
       "</table>\n",
       "</div>"
      ],
      "text/plain": [
       "   Accuracy  Recall  Precision  F1 Score\n",
       "0    0.9575  0.9575   0.957399  0.957084"
      ]
     },
     "execution_count": 45,
     "metadata": {},
     "output_type": "execute_result"
    }
   ],
   "source": [
    "model_2_train_perf = model_performance_classification(model2, X_train_norm, y_train)\n",
    "model_2_train_perf"
   ]
  },
  {
   "cell_type": "markdown",
   "metadata": {
    "id": "vxYQ6lDmipsv"
   },
   "source": [
    "# Model 3 (Adam + Dropout of 0.1)"
   ]
  },
  {
   "cell_type": "code",
   "execution_count": 46,
   "metadata": {
    "id": "DqPUyWihas_M"
   },
   "outputs": [],
   "source": [
    "# clears the current Keras session, resetting all layers and models previously created, freeing up memory and resources.\n",
    "tf.keras.backend.clear_session()"
   ]
  },
  {
   "cell_type": "code",
   "execution_count": 47,
   "metadata": {
    "id": "zOuqBxKpatB0"
   },
   "outputs": [],
   "source": [
    "# Fixing the seed for random number generators\n",
    "np.random.seed(42)\n",
    "\n",
    "import random\n",
    "random.seed(42)\n",
    "\n",
    "tf.random.set_seed(42)"
   ]
  },
  {
   "cell_type": "code",
   "execution_count": 48,
   "metadata": {
    "id": "kjY9TQpEjEpo"
   },
   "outputs": [
    {
     "name": "stderr",
     "output_type": "stream",
     "text": [
      "C:\\Users\\gbegb\\AppData\\Roaming\\Python\\Python312\\site-packages\\keras\\src\\layers\\core\\dense.py:87: UserWarning: Do not pass an `input_shape`/`input_dim` argument to a layer. When using Sequential models, prefer using an `Input(shape)` object as the first layer in the model instead.\n",
      "  super().__init__(activity_regularizer=activity_regularizer, **kwargs)\n"
     ]
    }
   ],
   "source": [
    "model3 = Sequential()\n",
    "model3.add(Dense(128, activation='tanh', input_shape=(7,)))\n",
    "model3.add(Dropout(0.1))\n",
    "model3.add(Dense(64, activation='tanh'))\n",
    "model3.add(Dropout(0.1))\n",
    "model3.add(Dense(32, activation='tanh'))\n",
    "model3.add(Dense(1, activation='sigmoid'))"
   ]
  },
  {
   "cell_type": "code",
   "execution_count": 49,
   "metadata": {
    "colab": {
     "base_uri": "https://localhost:8080/",
     "height": 346
    },
    "id": "PATR0G88jEtb",
    "outputId": "efb62b0a-cd77-49e1-a6ec-961b16cc5c05"
   },
   "outputs": [
    {
     "data": {
      "text/html": [
       "<pre style=\"white-space:pre;overflow-x:auto;line-height:normal;font-family:Menlo,'DejaVu Sans Mono',consolas,'Courier New',monospace\"><span style=\"font-weight: bold\">Model: \"sequential\"</span>\n",
       "</pre>\n"
      ],
      "text/plain": [
       "\u001b[1mModel: \"sequential\"\u001b[0m\n"
      ]
     },
     "metadata": {},
     "output_type": "display_data"
    },
    {
     "data": {
      "text/html": [
       "<pre style=\"white-space:pre;overflow-x:auto;line-height:normal;font-family:Menlo,'DejaVu Sans Mono',consolas,'Courier New',monospace\">┏━━━━━━━━━━━━━━━━━━━━━━━━━━━━━━━━━━━━━━┳━━━━━━━━━━━━━━━━━━━━━━━━━━━━━┳━━━━━━━━━━━━━━━━━┓\n",
       "┃<span style=\"font-weight: bold\"> Layer (type)                         </span>┃<span style=\"font-weight: bold\"> Output Shape                </span>┃<span style=\"font-weight: bold\">         Param # </span>┃\n",
       "┡━━━━━━━━━━━━━━━━━━━━━━━━━━━━━━━━━━━━━━╇━━━━━━━━━━━━━━━━━━━━━━━━━━━━━╇━━━━━━━━━━━━━━━━━┩\n",
       "│ dense (<span style=\"color: #0087ff; text-decoration-color: #0087ff\">Dense</span>)                        │ (<span style=\"color: #00d7ff; text-decoration-color: #00d7ff\">None</span>, <span style=\"color: #00af00; text-decoration-color: #00af00\">128</span>)                 │           <span style=\"color: #00af00; text-decoration-color: #00af00\">1,024</span> │\n",
       "├──────────────────────────────────────┼─────────────────────────────┼─────────────────┤\n",
       "│ dropout (<span style=\"color: #0087ff; text-decoration-color: #0087ff\">Dropout</span>)                    │ (<span style=\"color: #00d7ff; text-decoration-color: #00d7ff\">None</span>, <span style=\"color: #00af00; text-decoration-color: #00af00\">128</span>)                 │               <span style=\"color: #00af00; text-decoration-color: #00af00\">0</span> │\n",
       "├──────────────────────────────────────┼─────────────────────────────┼─────────────────┤\n",
       "│ dense_1 (<span style=\"color: #0087ff; text-decoration-color: #0087ff\">Dense</span>)                      │ (<span style=\"color: #00d7ff; text-decoration-color: #00d7ff\">None</span>, <span style=\"color: #00af00; text-decoration-color: #00af00\">64</span>)                  │           <span style=\"color: #00af00; text-decoration-color: #00af00\">8,256</span> │\n",
       "├──────────────────────────────────────┼─────────────────────────────┼─────────────────┤\n",
       "│ dropout_1 (<span style=\"color: #0087ff; text-decoration-color: #0087ff\">Dropout</span>)                  │ (<span style=\"color: #00d7ff; text-decoration-color: #00d7ff\">None</span>, <span style=\"color: #00af00; text-decoration-color: #00af00\">64</span>)                  │               <span style=\"color: #00af00; text-decoration-color: #00af00\">0</span> │\n",
       "├──────────────────────────────────────┼─────────────────────────────┼─────────────────┤\n",
       "│ dense_2 (<span style=\"color: #0087ff; text-decoration-color: #0087ff\">Dense</span>)                      │ (<span style=\"color: #00d7ff; text-decoration-color: #00d7ff\">None</span>, <span style=\"color: #00af00; text-decoration-color: #00af00\">32</span>)                  │           <span style=\"color: #00af00; text-decoration-color: #00af00\">2,080</span> │\n",
       "├──────────────────────────────────────┼─────────────────────────────┼─────────────────┤\n",
       "│ dense_3 (<span style=\"color: #0087ff; text-decoration-color: #0087ff\">Dense</span>)                      │ (<span style=\"color: #00d7ff; text-decoration-color: #00d7ff\">None</span>, <span style=\"color: #00af00; text-decoration-color: #00af00\">1</span>)                   │              <span style=\"color: #00af00; text-decoration-color: #00af00\">33</span> │\n",
       "└──────────────────────────────────────┴─────────────────────────────┴─────────────────┘\n",
       "</pre>\n"
      ],
      "text/plain": [
       "┏━━━━━━━━━━━━━━━━━━━━━━━━━━━━━━━━━━━━━━┳━━━━━━━━━━━━━━━━━━━━━━━━━━━━━┳━━━━━━━━━━━━━━━━━┓\n",
       "┃\u001b[1m \u001b[0m\u001b[1mLayer (type)                        \u001b[0m\u001b[1m \u001b[0m┃\u001b[1m \u001b[0m\u001b[1mOutput Shape               \u001b[0m\u001b[1m \u001b[0m┃\u001b[1m \u001b[0m\u001b[1m        Param #\u001b[0m\u001b[1m \u001b[0m┃\n",
       "┡━━━━━━━━━━━━━━━━━━━━━━━━━━━━━━━━━━━━━━╇━━━━━━━━━━━━━━━━━━━━━━━━━━━━━╇━━━━━━━━━━━━━━━━━┩\n",
       "│ dense (\u001b[38;5;33mDense\u001b[0m)                        │ (\u001b[38;5;45mNone\u001b[0m, \u001b[38;5;34m128\u001b[0m)                 │           \u001b[38;5;34m1,024\u001b[0m │\n",
       "├──────────────────────────────────────┼─────────────────────────────┼─────────────────┤\n",
       "│ dropout (\u001b[38;5;33mDropout\u001b[0m)                    │ (\u001b[38;5;45mNone\u001b[0m, \u001b[38;5;34m128\u001b[0m)                 │               \u001b[38;5;34m0\u001b[0m │\n",
       "├──────────────────────────────────────┼─────────────────────────────┼─────────────────┤\n",
       "│ dense_1 (\u001b[38;5;33mDense\u001b[0m)                      │ (\u001b[38;5;45mNone\u001b[0m, \u001b[38;5;34m64\u001b[0m)                  │           \u001b[38;5;34m8,256\u001b[0m │\n",
       "├──────────────────────────────────────┼─────────────────────────────┼─────────────────┤\n",
       "│ dropout_1 (\u001b[38;5;33mDropout\u001b[0m)                  │ (\u001b[38;5;45mNone\u001b[0m, \u001b[38;5;34m64\u001b[0m)                  │               \u001b[38;5;34m0\u001b[0m │\n",
       "├──────────────────────────────────────┼─────────────────────────────┼─────────────────┤\n",
       "│ dense_2 (\u001b[38;5;33mDense\u001b[0m)                      │ (\u001b[38;5;45mNone\u001b[0m, \u001b[38;5;34m32\u001b[0m)                  │           \u001b[38;5;34m2,080\u001b[0m │\n",
       "├──────────────────────────────────────┼─────────────────────────────┼─────────────────┤\n",
       "│ dense_3 (\u001b[38;5;33mDense\u001b[0m)                      │ (\u001b[38;5;45mNone\u001b[0m, \u001b[38;5;34m1\u001b[0m)                   │              \u001b[38;5;34m33\u001b[0m │\n",
       "└──────────────────────────────────────┴─────────────────────────────┴─────────────────┘\n"
      ]
     },
     "metadata": {},
     "output_type": "display_data"
    },
    {
     "data": {
      "text/html": [
       "<pre style=\"white-space:pre;overflow-x:auto;line-height:normal;font-family:Menlo,'DejaVu Sans Mono',consolas,'Courier New',monospace\"><span style=\"font-weight: bold\"> Total params: </span><span style=\"color: #00af00; text-decoration-color: #00af00\">11,393</span> (44.50 KB)\n",
       "</pre>\n"
      ],
      "text/plain": [
       "\u001b[1m Total params: \u001b[0m\u001b[38;5;34m11,393\u001b[0m (44.50 KB)\n"
      ]
     },
     "metadata": {},
     "output_type": "display_data"
    },
    {
     "data": {
      "text/html": [
       "<pre style=\"white-space:pre;overflow-x:auto;line-height:normal;font-family:Menlo,'DejaVu Sans Mono',consolas,'Courier New',monospace\"><span style=\"font-weight: bold\"> Trainable params: </span><span style=\"color: #00af00; text-decoration-color: #00af00\">11,393</span> (44.50 KB)\n",
       "</pre>\n"
      ],
      "text/plain": [
       "\u001b[1m Trainable params: \u001b[0m\u001b[38;5;34m11,393\u001b[0m (44.50 KB)\n"
      ]
     },
     "metadata": {},
     "output_type": "display_data"
    },
    {
     "data": {
      "text/html": [
       "<pre style=\"white-space:pre;overflow-x:auto;line-height:normal;font-family:Menlo,'DejaVu Sans Mono',consolas,'Courier New',monospace\"><span style=\"font-weight: bold\"> Non-trainable params: </span><span style=\"color: #00af00; text-decoration-color: #00af00\">0</span> (0.00 B)\n",
       "</pre>\n"
      ],
      "text/plain": [
       "\u001b[1m Non-trainable params: \u001b[0m\u001b[38;5;34m0\u001b[0m (0.00 B)\n"
      ]
     },
     "metadata": {},
     "output_type": "display_data"
    }
   ],
   "source": [
    "model3.compile(loss = 'binary_crossentropy', optimizer='adam', metrics=['accuracy'])\n",
    "model3.summary()"
   ]
  },
  {
   "cell_type": "code",
   "execution_count": 50,
   "metadata": {
    "colab": {
     "base_uri": "https://localhost:8080/"
    },
    "id": "JT6Nk7a6jEwk",
    "outputId": "26d5a014-2985-40c5-99fe-1222b0a38933"
   },
   "outputs": [
    {
     "name": "stdout",
     "output_type": "stream",
     "text": [
      "Epoch 1/100\n",
      "12/12 - 4s - 296ms/step - accuracy: 0.6694 - loss: 0.6441 - val_accuracy: 0.7250 - val_loss: 0.5926\n",
      "Epoch 2/100\n",
      "12/12 - 0s - 12ms/step - accuracy: 0.6972 - loss: 0.5760 - val_accuracy: 0.7750 - val_loss: 0.4981\n",
      "Epoch 3/100\n",
      "12/12 - 0s - 13ms/step - accuracy: 0.7278 - loss: 0.5096 - val_accuracy: 0.8000 - val_loss: 0.4419\n",
      "Epoch 4/100\n",
      "12/12 - 0s - 10ms/step - accuracy: 0.7722 - loss: 0.4720 - val_accuracy: 0.8000 - val_loss: 0.3856\n",
      "Epoch 5/100\n",
      "12/12 - 0s - 14ms/step - accuracy: 0.7861 - loss: 0.4285 - val_accuracy: 0.8500 - val_loss: 0.3283\n",
      "Epoch 6/100\n",
      "12/12 - 0s - 14ms/step - accuracy: 0.8444 - loss: 0.3862 - val_accuracy: 0.8750 - val_loss: 0.2892\n",
      "Epoch 7/100\n",
      "12/12 - 0s - 9ms/step - accuracy: 0.8472 - loss: 0.3634 - val_accuracy: 0.8750 - val_loss: 0.2479\n",
      "Epoch 8/100\n",
      "12/12 - 0s - 11ms/step - accuracy: 0.8667 - loss: 0.3323 - val_accuracy: 0.9250 - val_loss: 0.2131\n",
      "Epoch 9/100\n",
      "12/12 - 0s - 14ms/step - accuracy: 0.8750 - loss: 0.3132 - val_accuracy: 0.9750 - val_loss: 0.1847\n",
      "Epoch 10/100\n",
      "12/12 - 0s - 8ms/step - accuracy: 0.8694 - loss: 0.2858 - val_accuracy: 0.9750 - val_loss: 0.1652\n",
      "Epoch 11/100\n",
      "12/12 - 0s - 10ms/step - accuracy: 0.8889 - loss: 0.2640 - val_accuracy: 0.9750 - val_loss: 0.1506\n",
      "Epoch 12/100\n",
      "12/12 - 0s - 15ms/step - accuracy: 0.8750 - loss: 0.2738 - val_accuracy: 0.9750 - val_loss: 0.1379\n",
      "Epoch 13/100\n",
      "12/12 - 0s - 10ms/step - accuracy: 0.8917 - loss: 0.2572 - val_accuracy: 0.9750 - val_loss: 0.1204\n",
      "Epoch 14/100\n",
      "12/12 - 0s - 9ms/step - accuracy: 0.8917 - loss: 0.2335 - val_accuracy: 1.0000 - val_loss: 0.1102\n",
      "Epoch 15/100\n",
      "12/12 - 0s - 16ms/step - accuracy: 0.9028 - loss: 0.2282 - val_accuracy: 1.0000 - val_loss: 0.1060\n",
      "Epoch 16/100\n",
      "12/12 - 0s - 10ms/step - accuracy: 0.9000 - loss: 0.2326 - val_accuracy: 1.0000 - val_loss: 0.1016\n",
      "Epoch 17/100\n",
      "12/12 - 0s - 9ms/step - accuracy: 0.9083 - loss: 0.2288 - val_accuracy: 1.0000 - val_loss: 0.0901\n",
      "Epoch 18/100\n",
      "12/12 - 0s - 15ms/step - accuracy: 0.9056 - loss: 0.2135 - val_accuracy: 1.0000 - val_loss: 0.0873\n",
      "Epoch 19/100\n",
      "12/12 - 0s - 14ms/step - accuracy: 0.9028 - loss: 0.2166 - val_accuracy: 1.0000 - val_loss: 0.0844\n",
      "Epoch 20/100\n",
      "12/12 - 0s - 11ms/step - accuracy: 0.9028 - loss: 0.2177 - val_accuracy: 1.0000 - val_loss: 0.0899\n",
      "Epoch 21/100\n",
      "12/12 - 0s - 12ms/step - accuracy: 0.9028 - loss: 0.2135 - val_accuracy: 1.0000 - val_loss: 0.0790\n",
      "Epoch 22/100\n",
      "12/12 - 0s - 10ms/step - accuracy: 0.9000 - loss: 0.2119 - val_accuracy: 1.0000 - val_loss: 0.0856\n",
      "Epoch 23/100\n",
      "12/12 - 0s - 10ms/step - accuracy: 0.9111 - loss: 0.1942 - val_accuracy: 1.0000 - val_loss: 0.0704\n",
      "Epoch 24/100\n",
      "12/12 - 0s - 9ms/step - accuracy: 0.9194 - loss: 0.2005 - val_accuracy: 1.0000 - val_loss: 0.0755\n",
      "Epoch 25/100\n",
      "12/12 - 0s - 9ms/step - accuracy: 0.9111 - loss: 0.1934 - val_accuracy: 1.0000 - val_loss: 0.0665\n",
      "Epoch 26/100\n",
      "12/12 - 0s - 10ms/step - accuracy: 0.9139 - loss: 0.2005 - val_accuracy: 1.0000 - val_loss: 0.0681\n",
      "Epoch 27/100\n",
      "12/12 - 0s - 10ms/step - accuracy: 0.9250 - loss: 0.1856 - val_accuracy: 1.0000 - val_loss: 0.0584\n",
      "Epoch 28/100\n",
      "12/12 - 0s - 10ms/step - accuracy: 0.9278 - loss: 0.1829 - val_accuracy: 1.0000 - val_loss: 0.0654\n",
      "Epoch 29/100\n",
      "12/12 - 0s - 9ms/step - accuracy: 0.9278 - loss: 0.1834 - val_accuracy: 1.0000 - val_loss: 0.0606\n",
      "Epoch 30/100\n",
      "12/12 - 0s - 9ms/step - accuracy: 0.9194 - loss: 0.1917 - val_accuracy: 1.0000 - val_loss: 0.0616\n",
      "Epoch 31/100\n",
      "12/12 - 0s - 14ms/step - accuracy: 0.9139 - loss: 0.1894 - val_accuracy: 1.0000 - val_loss: 0.0533\n",
      "Epoch 32/100\n",
      "12/12 - 0s - 11ms/step - accuracy: 0.9194 - loss: 0.1789 - val_accuracy: 1.0000 - val_loss: 0.0575\n",
      "Epoch 33/100\n",
      "12/12 - 0s - 13ms/step - accuracy: 0.9194 - loss: 0.1838 - val_accuracy: 1.0000 - val_loss: 0.0631\n",
      "Epoch 34/100\n",
      "12/12 - 0s - 13ms/step - accuracy: 0.9222 - loss: 0.1850 - val_accuracy: 1.0000 - val_loss: 0.0587\n",
      "Epoch 35/100\n",
      "12/12 - 0s - 11ms/step - accuracy: 0.9250 - loss: 0.1914 - val_accuracy: 1.0000 - val_loss: 0.0536\n",
      "Epoch 36/100\n",
      "12/12 - 0s - 10ms/step - accuracy: 0.9278 - loss: 0.1789 - val_accuracy: 1.0000 - val_loss: 0.0506\n",
      "Epoch 37/100\n",
      "12/12 - 0s - 16ms/step - accuracy: 0.9167 - loss: 0.1823 - val_accuracy: 1.0000 - val_loss: 0.0589\n",
      "Epoch 38/100\n",
      "12/12 - 0s - 11ms/step - accuracy: 0.9250 - loss: 0.1877 - val_accuracy: 1.0000 - val_loss: 0.0542\n",
      "Epoch 39/100\n",
      "12/12 - 0s - 13ms/step - accuracy: 0.9028 - loss: 0.1920 - val_accuracy: 1.0000 - val_loss: 0.0509\n",
      "Epoch 40/100\n",
      "12/12 - 0s - 13ms/step - accuracy: 0.9139 - loss: 0.1797 - val_accuracy: 1.0000 - val_loss: 0.0538\n",
      "Epoch 41/100\n",
      "12/12 - 0s - 9ms/step - accuracy: 0.9194 - loss: 0.1778 - val_accuracy: 1.0000 - val_loss: 0.0554\n",
      "Epoch 42/100\n",
      "12/12 - 0s - 9ms/step - accuracy: 0.9222 - loss: 0.1946 - val_accuracy: 1.0000 - val_loss: 0.0566\n",
      "Epoch 43/100\n",
      "12/12 - 0s - 13ms/step - accuracy: 0.9278 - loss: 0.1954 - val_accuracy: 1.0000 - val_loss: 0.0651\n",
      "Epoch 44/100\n",
      "12/12 - 0s - 13ms/step - accuracy: 0.9111 - loss: 0.1960 - val_accuracy: 1.0000 - val_loss: 0.0504\n",
      "Epoch 45/100\n",
      "12/12 - 0s - 10ms/step - accuracy: 0.9306 - loss: 0.1772 - val_accuracy: 1.0000 - val_loss: 0.0509\n",
      "Epoch 46/100\n",
      "12/12 - 0s - 9ms/step - accuracy: 0.9222 - loss: 0.1662 - val_accuracy: 1.0000 - val_loss: 0.0509\n",
      "Epoch 47/100\n",
      "12/12 - 0s - 10ms/step - accuracy: 0.9306 - loss: 0.1694 - val_accuracy: 1.0000 - val_loss: 0.0536\n",
      "Epoch 48/100\n",
      "12/12 - 0s - 9ms/step - accuracy: 0.9222 - loss: 0.1824 - val_accuracy: 1.0000 - val_loss: 0.0522\n",
      "Epoch 49/100\n",
      "12/12 - 0s - 13ms/step - accuracy: 0.9250 - loss: 0.1733 - val_accuracy: 1.0000 - val_loss: 0.0527\n",
      "Epoch 50/100\n",
      "12/12 - 0s - 9ms/step - accuracy: 0.9361 - loss: 0.1803 - val_accuracy: 1.0000 - val_loss: 0.0540\n",
      "Epoch 51/100\n",
      "12/12 - 0s - 10ms/step - accuracy: 0.9167 - loss: 0.1925 - val_accuracy: 1.0000 - val_loss: 0.0475\n",
      "Epoch 52/100\n",
      "12/12 - 0s - 9ms/step - accuracy: 0.9222 - loss: 0.1753 - val_accuracy: 1.0000 - val_loss: 0.0493\n",
      "Epoch 53/100\n",
      "12/12 - 0s - 14ms/step - accuracy: 0.9167 - loss: 0.1748 - val_accuracy: 1.0000 - val_loss: 0.0541\n",
      "Epoch 54/100\n",
      "12/12 - 0s - 13ms/step - accuracy: 0.9278 - loss: 0.1658 - val_accuracy: 1.0000 - val_loss: 0.0539\n",
      "Epoch 55/100\n",
      "12/12 - 0s - 15ms/step - accuracy: 0.9167 - loss: 0.1820 - val_accuracy: 1.0000 - val_loss: 0.0549\n",
      "Epoch 56/100\n",
      "12/12 - 0s - 13ms/step - accuracy: 0.9167 - loss: 0.1887 - val_accuracy: 1.0000 - val_loss: 0.0462\n",
      "Epoch 57/100\n",
      "12/12 - 0s - 9ms/step - accuracy: 0.9250 - loss: 0.1644 - val_accuracy: 1.0000 - val_loss: 0.0491\n",
      "Epoch 58/100\n",
      "12/12 - 0s - 9ms/step - accuracy: 0.9194 - loss: 0.1792 - val_accuracy: 1.0000 - val_loss: 0.0498\n",
      "Epoch 59/100\n",
      "12/12 - 0s - 12ms/step - accuracy: 0.9278 - loss: 0.1707 - val_accuracy: 1.0000 - val_loss: 0.0512\n",
      "Epoch 60/100\n",
      "12/12 - 0s - 7ms/step - accuracy: 0.9306 - loss: 0.1723 - val_accuracy: 1.0000 - val_loss: 0.0495\n",
      "Epoch 61/100\n",
      "12/12 - 0s - 14ms/step - accuracy: 0.9306 - loss: 0.1580 - val_accuracy: 1.0000 - val_loss: 0.0509\n",
      "Epoch 62/100\n",
      "12/12 - 0s - 13ms/step - accuracy: 0.9250 - loss: 0.1726 - val_accuracy: 1.0000 - val_loss: 0.0476\n",
      "Epoch 63/100\n",
      "12/12 - 0s - 13ms/step - accuracy: 0.9333 - loss: 0.1670 - val_accuracy: 1.0000 - val_loss: 0.0500\n",
      "Epoch 64/100\n",
      "12/12 - 0s - 9ms/step - accuracy: 0.9250 - loss: 0.1793 - val_accuracy: 1.0000 - val_loss: 0.0533\n",
      "Epoch 65/100\n",
      "12/12 - 0s - 9ms/step - accuracy: 0.9361 - loss: 0.1626 - val_accuracy: 1.0000 - val_loss: 0.0466\n",
      "Epoch 66/100\n",
      "12/12 - 0s - 15ms/step - accuracy: 0.9250 - loss: 0.1715 - val_accuracy: 1.0000 - val_loss: 0.0471\n",
      "Epoch 67/100\n",
      "12/12 - 0s - 8ms/step - accuracy: 0.9194 - loss: 0.1727 - val_accuracy: 1.0000 - val_loss: 0.0506\n",
      "Epoch 68/100\n",
      "12/12 - 0s - 10ms/step - accuracy: 0.9250 - loss: 0.1701 - val_accuracy: 1.0000 - val_loss: 0.0529\n",
      "Epoch 69/100\n",
      "12/12 - 0s - 10ms/step - accuracy: 0.9250 - loss: 0.1916 - val_accuracy: 1.0000 - val_loss: 0.0444\n",
      "Epoch 70/100\n",
      "12/12 - 0s - 9ms/step - accuracy: 0.9278 - loss: 0.1580 - val_accuracy: 1.0000 - val_loss: 0.0440\n",
      "Epoch 71/100\n",
      "12/12 - 0s - 8ms/step - accuracy: 0.9222 - loss: 0.1657 - val_accuracy: 1.0000 - val_loss: 0.0505\n",
      "Epoch 72/100\n",
      "12/12 - 0s - 9ms/step - accuracy: 0.9306 - loss: 0.1729 - val_accuracy: 1.0000 - val_loss: 0.0536\n",
      "Epoch 73/100\n",
      "12/12 - 0s - 13ms/step - accuracy: 0.9111 - loss: 0.1810 - val_accuracy: 1.0000 - val_loss: 0.0443\n",
      "Epoch 74/100\n",
      "12/12 - 0s - 9ms/step - accuracy: 0.9250 - loss: 0.1686 - val_accuracy: 1.0000 - val_loss: 0.0485\n",
      "Epoch 75/100\n",
      "12/12 - 0s - 9ms/step - accuracy: 0.9250 - loss: 0.1708 - val_accuracy: 1.0000 - val_loss: 0.0472\n",
      "Epoch 76/100\n",
      "12/12 - 0s - 9ms/step - accuracy: 0.9250 - loss: 0.1720 - val_accuracy: 1.0000 - val_loss: 0.0485\n",
      "Epoch 77/100\n",
      "12/12 - 0s - 9ms/step - accuracy: 0.9194 - loss: 0.1692 - val_accuracy: 1.0000 - val_loss: 0.0506\n",
      "Epoch 78/100\n",
      "12/12 - 0s - 8ms/step - accuracy: 0.9222 - loss: 0.1746 - val_accuracy: 1.0000 - val_loss: 0.0445\n",
      "Epoch 79/100\n",
      "12/12 - 0s - 8ms/step - accuracy: 0.9278 - loss: 0.1706 - val_accuracy: 1.0000 - val_loss: 0.0522\n",
      "Epoch 80/100\n",
      "12/12 - 0s - 12ms/step - accuracy: 0.9278 - loss: 0.1776 - val_accuracy: 1.0000 - val_loss: 0.0459\n",
      "Epoch 81/100\n",
      "12/12 - 0s - 9ms/step - accuracy: 0.9306 - loss: 0.1604 - val_accuracy: 1.0000 - val_loss: 0.0452\n",
      "Epoch 82/100\n",
      "12/12 - 0s - 9ms/step - accuracy: 0.9306 - loss: 0.1615 - val_accuracy: 1.0000 - val_loss: 0.0473\n",
      "Epoch 83/100\n",
      "12/12 - 0s - 14ms/step - accuracy: 0.9167 - loss: 0.1678 - val_accuracy: 1.0000 - val_loss: 0.0451\n",
      "Epoch 84/100\n",
      "12/12 - 0s - 9ms/step - accuracy: 0.9333 - loss: 0.1655 - val_accuracy: 1.0000 - val_loss: 0.0465\n",
      "Epoch 85/100\n",
      "12/12 - 0s - 9ms/step - accuracy: 0.9250 - loss: 0.1654 - val_accuracy: 1.0000 - val_loss: 0.0454\n",
      "Epoch 86/100\n",
      "12/12 - 0s - 14ms/step - accuracy: 0.9194 - loss: 0.1706 - val_accuracy: 1.0000 - val_loss: 0.0478\n",
      "Epoch 87/100\n",
      "12/12 - 0s - 10ms/step - accuracy: 0.9278 - loss: 0.1655 - val_accuracy: 1.0000 - val_loss: 0.0439\n",
      "Epoch 88/100\n",
      "12/12 - 0s - 14ms/step - accuracy: 0.9333 - loss: 0.1581 - val_accuracy: 1.0000 - val_loss: 0.0435\n",
      "Epoch 89/100\n",
      "12/12 - 0s - 10ms/step - accuracy: 0.9278 - loss: 0.1562 - val_accuracy: 1.0000 - val_loss: 0.0449\n",
      "Epoch 90/100\n",
      "12/12 - 0s - 13ms/step - accuracy: 0.9111 - loss: 0.1689 - val_accuracy: 1.0000 - val_loss: 0.0505\n",
      "Epoch 91/100\n",
      "12/12 - 0s - 9ms/step - accuracy: 0.9333 - loss: 0.1687 - val_accuracy: 1.0000 - val_loss: 0.0470\n",
      "Epoch 92/100\n",
      "12/12 - 0s - 14ms/step - accuracy: 0.9333 - loss: 0.1604 - val_accuracy: 1.0000 - val_loss: 0.0440\n",
      "Epoch 93/100\n",
      "12/12 - 0s - 13ms/step - accuracy: 0.9194 - loss: 0.1620 - val_accuracy: 1.0000 - val_loss: 0.0439\n",
      "Epoch 94/100\n",
      "12/12 - 0s - 9ms/step - accuracy: 0.9333 - loss: 0.1620 - val_accuracy: 1.0000 - val_loss: 0.0458\n",
      "Epoch 95/100\n",
      "12/12 - 0s - 10ms/step - accuracy: 0.9278 - loss: 0.1733 - val_accuracy: 1.0000 - val_loss: 0.0410\n",
      "Epoch 96/100\n",
      "12/12 - 0s - 9ms/step - accuracy: 0.9250 - loss: 0.1580 - val_accuracy: 1.0000 - val_loss: 0.0416\n",
      "Epoch 97/100\n",
      "12/12 - 0s - 12ms/step - accuracy: 0.9278 - loss: 0.1620 - val_accuracy: 1.0000 - val_loss: 0.0478\n",
      "Epoch 98/100\n",
      "12/12 - 0s - 13ms/step - accuracy: 0.9194 - loss: 0.1711 - val_accuracy: 1.0000 - val_loss: 0.0434\n",
      "Epoch 99/100\n",
      "12/12 - 0s - 9ms/step - accuracy: 0.9278 - loss: 0.1580 - val_accuracy: 1.0000 - val_loss: 0.0454\n",
      "Epoch 100/100\n",
      "12/12 - 0s - 9ms/step - accuracy: 0.9222 - loss: 0.1600 - val_accuracy: 1.0000 - val_loss: 0.0468\n"
     ]
    }
   ],
   "source": [
    "history_3 = model3.fit(X_train_norm,\n",
    "                    y_train,\n",
    "                    validation_split=0.1,\n",
    "                    epochs=100,\n",
    "                    verbose=2)"
   ]
  },
  {
   "cell_type": "code",
   "execution_count": 51,
   "metadata": {
    "colab": {
     "base_uri": "https://localhost:8080/",
     "height": 472
    },
    "id": "FbsbeepNjEzl",
    "outputId": "4525c313-b3f7-40f5-eca4-804679020006"
   },
   "outputs": [
    {
     "data": {
      "image/png": "[encoded data removed]",
      "text/plain": [
       "<Figure size 640x480 with 1 Axes>"
      ]
     },
     "metadata": {},
     "output_type": "display_data"
    }
   ],
   "source": [
    "plt.plot(history_3.history['accuracy'])\n",
    "plt.plot(history_3.history['val_accuracy'])\n",
    "plt.title('Accuracy vs Epochs')\n",
    "plt.ylabel('Accuracy')\n",
    "plt.xlabel('Epoch')\n",
    "plt.legend(['Train', 'Validation'], loc='lower right')\n",
    "plt.show()"
   ]
  },
  {
   "cell_type": "code",
   "execution_count": 52,
   "metadata": {
    "colab": {
     "base_uri": "https://localhost:8080/",
     "height": 500
    },
    "id": "BRl1n352rje8",
    "outputId": "7f09449d-28bb-4ed6-bb88-6dd28da7fbd8"
   },
   "outputs": [
    {
     "data": {
      "image/png": "[encoded data removed]",
      "text/plain": [
       "<Figure size 640x480 with 1 Axes>"
      ]
     },
     "metadata": {},
     "output_type": "display_data"
    }
   ],
   "source": [
    "plot(history_3,'loss')"
   ]
  },
  {
   "cell_type": "code",
   "execution_count": 53,
   "metadata": {
    "colab": {
     "base_uri": "https://localhost:8080/",
     "height": 106
    },
    "id": "qnNxieO0od1n",
    "outputId": "b830e74e-3f3a-47e9-ceba-e54053cb8868"
   },
   "outputs": [
    {
     "name": "stdout",
     "output_type": "stream",
     "text": [
      "\u001b[1m13/13\u001b[0m \u001b[32m━━━━━━━━━━━━━━━━━━━━\u001b[0m\u001b[37m\u001b[0m \u001b[1m0s\u001b[0m 8ms/step\n"
     ]
    },
    {
     "data": {
      "text/html": [
       "<div>\n",
       "<style scoped>\n",
       "    .dataframe tbody tr th:only-of-type {\n",
       "        vertical-align: middle;\n",
       "    }\n",
       "\n",
       "    .dataframe tbody tr th {\n",
       "        vertical-align: top;\n",
       "    }\n",
       "\n",
       "    .dataframe thead th {\n",
       "        text-align: right;\n",
       "    }\n",
       "</style>\n",
       "<table border=\"1\" class=\"dataframe\">\n",
       "  <thead>\n",
       "    <tr style=\"text-align: right;\">\n",
       "      <th></th>\n",
       "      <th>Accuracy</th>\n",
       "      <th>Recall</th>\n",
       "      <th>Precision</th>\n",
       "      <th>F1 Score</th>\n",
       "    </tr>\n",
       "  </thead>\n",
       "  <tbody>\n",
       "    <tr>\n",
       "      <th>0</th>\n",
       "      <td>0.94</td>\n",
       "      <td>0.94</td>\n",
       "      <td>0.940467</td>\n",
       "      <td>0.938754</td>\n",
       "    </tr>\n",
       "  </tbody>\n",
       "</table>\n",
       "</div>"
      ],
      "text/plain": [
       "   Accuracy  Recall  Precision  F1 Score\n",
       "0      0.94    0.94   0.940467  0.938754"
      ]
     },
     "execution_count": 53,
     "metadata": {},
     "output_type": "execute_result"
    }
   ],
   "source": [
    "model_3_train_perf = model_performance_classification(model3, X_train_norm, y_train)\n",
    "model_3_train_perf"
   ]
  },
  {
   "cell_type": "markdown",
   "metadata": {
    "id": "pPOSb4LWl9-u"
   },
   "source": [
    "# Model 4 (Feed forward with three hidden layer and lr)"
   ]
  },
  {
   "cell_type": "code",
   "execution_count": 54,
   "metadata": {
    "id": "YnxgkpXwqm8n"
   },
   "outputs": [],
   "source": [
    "# clears the current Keras session, resetting all layers and models previously created, freeing up memory and resources.\n",
    "tf.keras.backend.clear_session()"
   ]
  },
  {
   "cell_type": "code",
   "execution_count": 55,
   "metadata": {
    "colab": {
     "base_uri": "https://localhost:8080/",
     "height": 346
    },
    "id": "a_6NWwzXjcc6",
    "outputId": "ca9a7f3b-3d85-4b19-e6b9-1d45d0bd97e9"
   },
   "outputs": [
    {
     "name": "stderr",
     "output_type": "stream",
     "text": [
      "C:\\Users\\gbegb\\AppData\\Roaming\\Python\\Python312\\site-packages\\keras\\src\\layers\\core\\dense.py:87: UserWarning: Do not pass an `input_shape`/`input_dim` argument to a layer. When using Sequential models, prefer using an `Input(shape)` object as the first layer in the model instead.\n",
      "  super().__init__(activity_regularizer=activity_regularizer, **kwargs)\n"
     ]
    },
    {
     "data": {
      "text/html": [
       "<pre style=\"white-space:pre;overflow-x:auto;line-height:normal;font-family:Menlo,'DejaVu Sans Mono',consolas,'Courier New',monospace\"><span style=\"font-weight: bold\">Model: \"sequential\"</span>\n",
       "</pre>\n"
      ],
      "text/plain": [
       "\u001b[1mModel: \"sequential\"\u001b[0m\n"
      ]
     },
     "metadata": {},
     "output_type": "display_data"
    },
    {
     "data": {
      "text/html": [
       "<pre style=\"white-space:pre;overflow-x:auto;line-height:normal;font-family:Menlo,'DejaVu Sans Mono',consolas,'Courier New',monospace\">┏━━━━━━━━━━━━━━━━━━━━━━━━━━━━━━━━━━━━━━┳━━━━━━━━━━━━━━━━━━━━━━━━━━━━━┳━━━━━━━━━━━━━━━━━┓\n",
       "┃<span style=\"font-weight: bold\"> Layer (type)                         </span>┃<span style=\"font-weight: bold\"> Output Shape                </span>┃<span style=\"font-weight: bold\">         Param # </span>┃\n",
       "┡━━━━━━━━━━━━━━━━━━━━━━━━━━━━━━━━━━━━━━╇━━━━━━━━━━━━━━━━━━━━━━━━━━━━━╇━━━━━━━━━━━━━━━━━┩\n",
       "│ dense (<span style=\"color: #0087ff; text-decoration-color: #0087ff\">Dense</span>)                        │ (<span style=\"color: #00d7ff; text-decoration-color: #00d7ff\">None</span>, <span style=\"color: #00af00; text-decoration-color: #00af00\">128</span>)                 │           <span style=\"color: #00af00; text-decoration-color: #00af00\">1,024</span> │\n",
       "├──────────────────────────────────────┼─────────────────────────────┼─────────────────┤\n",
       "│ dropout (<span style=\"color: #0087ff; text-decoration-color: #0087ff\">Dropout</span>)                    │ (<span style=\"color: #00d7ff; text-decoration-color: #00d7ff\">None</span>, <span style=\"color: #00af00; text-decoration-color: #00af00\">128</span>)                 │               <span style=\"color: #00af00; text-decoration-color: #00af00\">0</span> │\n",
       "├──────────────────────────────────────┼─────────────────────────────┼─────────────────┤\n",
       "│ dense_1 (<span style=\"color: #0087ff; text-decoration-color: #0087ff\">Dense</span>)                      │ (<span style=\"color: #00d7ff; text-decoration-color: #00d7ff\">None</span>, <span style=\"color: #00af00; text-decoration-color: #00af00\">64</span>)                  │           <span style=\"color: #00af00; text-decoration-color: #00af00\">8,256</span> │\n",
       "├──────────────────────────────────────┼─────────────────────────────┼─────────────────┤\n",
       "│ dropout_1 (<span style=\"color: #0087ff; text-decoration-color: #0087ff\">Dropout</span>)                  │ (<span style=\"color: #00d7ff; text-decoration-color: #00d7ff\">None</span>, <span style=\"color: #00af00; text-decoration-color: #00af00\">64</span>)                  │               <span style=\"color: #00af00; text-decoration-color: #00af00\">0</span> │\n",
       "├──────────────────────────────────────┼─────────────────────────────┼─────────────────┤\n",
       "│ dense_2 (<span style=\"color: #0087ff; text-decoration-color: #0087ff\">Dense</span>)                      │ (<span style=\"color: #00d7ff; text-decoration-color: #00d7ff\">None</span>, <span style=\"color: #00af00; text-decoration-color: #00af00\">32</span>)                  │           <span style=\"color: #00af00; text-decoration-color: #00af00\">2,080</span> │\n",
       "├──────────────────────────────────────┼─────────────────────────────┼─────────────────┤\n",
       "│ dense_3 (<span style=\"color: #0087ff; text-decoration-color: #0087ff\">Dense</span>)                      │ (<span style=\"color: #00d7ff; text-decoration-color: #00d7ff\">None</span>, <span style=\"color: #00af00; text-decoration-color: #00af00\">1</span>)                   │              <span style=\"color: #00af00; text-decoration-color: #00af00\">33</span> │\n",
       "└──────────────────────────────────────┴─────────────────────────────┴─────────────────┘\n",
       "</pre>\n"
      ],
      "text/plain": [
       "┏━━━━━━━━━━━━━━━━━━━━━━━━━━━━━━━━━━━━━━┳━━━━━━━━━━━━━━━━━━━━━━━━━━━━━┳━━━━━━━━━━━━━━━━━┓\n",
       "┃\u001b[1m \u001b[0m\u001b[1mLayer (type)                        \u001b[0m\u001b[1m \u001b[0m┃\u001b[1m \u001b[0m\u001b[1mOutput Shape               \u001b[0m\u001b[1m \u001b[0m┃\u001b[1m \u001b[0m\u001b[1m        Param #\u001b[0m\u001b[1m \u001b[0m┃\n",
       "┡━━━━━━━━━━━━━━━━━━━━━━━━━━━━━━━━━━━━━━╇━━━━━━━━━━━━━━━━━━━━━━━━━━━━━╇━━━━━━━━━━━━━━━━━┩\n",
       "│ dense (\u001b[38;5;33mDense\u001b[0m)                        │ (\u001b[38;5;45mNone\u001b[0m, \u001b[38;5;34m128\u001b[0m)                 │           \u001b[38;5;34m1,024\u001b[0m │\n",
       "├──────────────────────────────────────┼─────────────────────────────┼─────────────────┤\n",
       "│ dropout (\u001b[38;5;33mDropout\u001b[0m)                    │ (\u001b[38;5;45mNone\u001b[0m, \u001b[38;5;34m128\u001b[0m)                 │               \u001b[38;5;34m0\u001b[0m │\n",
       "├──────────────────────────────────────┼─────────────────────────────┼─────────────────┤\n",
       "│ dense_1 (\u001b[38;5;33mDense\u001b[0m)                      │ (\u001b[38;5;45mNone\u001b[0m, \u001b[38;5;34m64\u001b[0m)                  │           \u001b[38;5;34m8,256\u001b[0m │\n",
       "├──────────────────────────────────────┼─────────────────────────────┼─────────────────┤\n",
       "│ dropout_1 (\u001b[38;5;33mDropout\u001b[0m)                  │ (\u001b[38;5;45mNone\u001b[0m, \u001b[38;5;34m64\u001b[0m)                  │               \u001b[38;5;34m0\u001b[0m │\n",
       "├──────────────────────────────────────┼─────────────────────────────┼─────────────────┤\n",
       "│ dense_2 (\u001b[38;5;33mDense\u001b[0m)                      │ (\u001b[38;5;45mNone\u001b[0m, \u001b[38;5;34m32\u001b[0m)                  │           \u001b[38;5;34m2,080\u001b[0m │\n",
       "├──────────────────────────────────────┼─────────────────────────────┼─────────────────┤\n",
       "│ dense_3 (\u001b[38;5;33mDense\u001b[0m)                      │ (\u001b[38;5;45mNone\u001b[0m, \u001b[38;5;34m1\u001b[0m)                   │              \u001b[38;5;34m33\u001b[0m │\n",
       "└──────────────────────────────────────┴─────────────────────────────┴─────────────────┘\n"
      ]
     },
     "metadata": {},
     "output_type": "display_data"
    },
    {
     "data": {
      "text/html": [
       "<pre style=\"white-space:pre;overflow-x:auto;line-height:normal;font-family:Menlo,'DejaVu Sans Mono',consolas,'Courier New',monospace\"><span style=\"font-weight: bold\"> Total params: </span><span style=\"color: #00af00; text-decoration-color: #00af00\">11,393</span> (44.50 KB)\n",
       "</pre>\n"
      ],
      "text/plain": [
       "\u001b[1m Total params: \u001b[0m\u001b[38;5;34m11,393\u001b[0m (44.50 KB)\n"
      ]
     },
     "metadata": {},
     "output_type": "display_data"
    },
    {
     "data": {
      "text/html": [
       "<pre style=\"white-space:pre;overflow-x:auto;line-height:normal;font-family:Menlo,'DejaVu Sans Mono',consolas,'Courier New',monospace\"><span style=\"font-weight: bold\"> Trainable params: </span><span style=\"color: #00af00; text-decoration-color: #00af00\">11,393</span> (44.50 KB)\n",
       "</pre>\n"
      ],
      "text/plain": [
       "\u001b[1m Trainable params: \u001b[0m\u001b[38;5;34m11,393\u001b[0m (44.50 KB)\n"
      ]
     },
     "metadata": {},
     "output_type": "display_data"
    },
    {
     "data": {
      "text/html": [
       "<pre style=\"white-space:pre;overflow-x:auto;line-height:normal;font-family:Menlo,'DejaVu Sans Mono',consolas,'Courier New',monospace\"><span style=\"font-weight: bold\"> Non-trainable params: </span><span style=\"color: #00af00; text-decoration-color: #00af00\">0</span> (0.00 B)\n",
       "</pre>\n"
      ],
      "text/plain": [
       "\u001b[1m Non-trainable params: \u001b[0m\u001b[38;5;34m0\u001b[0m (0.00 B)\n"
      ]
     },
     "metadata": {},
     "output_type": "display_data"
    }
   ],
   "source": [
    "model4 = Sequential()\n",
    "model4.add(Dense(128, activation='relu', input_dim=X_train.shape[1]))\n",
    "model4.add(Dropout(0.1))\n",
    "model4.add(Dense(64, activation='relu'))\n",
    "model4.add(Dropout(0.1))\n",
    "model4.add(Dense(32, activation='relu'))\n",
    "model4.add(Dense(1, activation='sigmoid'))\n",
    "model4.compile(loss = 'binary_crossentropy', optimizer='adam', metrics=['accuracy'])\n",
    "model4.summary()"
   ]
  },
  {
   "cell_type": "code",
   "execution_count": 56,
   "metadata": {
    "colab": {
     "base_uri": "https://localhost:8080/"
    },
    "id": "plVG60Thjcgm",
    "outputId": "3eaabbf2-1905-4b63-a037-d0c10d4a458f"
   },
   "outputs": [
    {
     "name": "stdout",
     "output_type": "stream",
     "text": [
      "Epoch 1/100\n",
      "12/12 - 3s - 291ms/step - accuracy: 0.7139 - loss: 0.6481 - val_accuracy: 0.7250 - val_loss: 0.6125\n",
      "Epoch 2/100\n",
      "12/12 - 0s - 10ms/step - accuracy: 0.7139 - loss: 0.5911 - val_accuracy: 0.7250 - val_loss: 0.5343\n",
      "Epoch 3/100\n",
      "12/12 - 0s - 9ms/step - accuracy: 0.7556 - loss: 0.5183 - val_accuracy: 0.8250 - val_loss: 0.4532\n",
      "Epoch 4/100\n",
      "12/12 - 0s - 13ms/step - accuracy: 0.8028 - loss: 0.4515 - val_accuracy: 0.8750 - val_loss: 0.3803\n",
      "Epoch 5/100\n",
      "12/12 - 0s - 10ms/step - accuracy: 0.8639 - loss: 0.3876 - val_accuracy: 0.8750 - val_loss: 0.3144\n",
      "Epoch 6/100\n",
      "12/12 - 0s - 14ms/step - accuracy: 0.8833 - loss: 0.3434 - val_accuracy: 0.9250 - val_loss: 0.2506\n",
      "Epoch 7/100\n",
      "12/12 - 0s - 9ms/step - accuracy: 0.9167 - loss: 0.2905 - val_accuracy: 0.9500 - val_loss: 0.2091\n",
      "Epoch 8/100\n",
      "12/12 - 0s - 9ms/step - accuracy: 0.9056 - loss: 0.2753 - val_accuracy: 0.9500 - val_loss: 0.1834\n",
      "Epoch 9/100\n",
      "12/12 - 0s - 13ms/step - accuracy: 0.8972 - loss: 0.2751 - val_accuracy: 0.9500 - val_loss: 0.1458\n",
      "Epoch 10/100\n",
      "12/12 - 0s - 10ms/step - accuracy: 0.9167 - loss: 0.2153 - val_accuracy: 0.9500 - val_loss: 0.1282\n",
      "Epoch 11/100\n",
      "12/12 - 0s - 10ms/step - accuracy: 0.9028 - loss: 0.2397 - val_accuracy: 0.9750 - val_loss: 0.1293\n",
      "Epoch 12/100\n",
      "12/12 - 0s - 15ms/step - accuracy: 0.9278 - loss: 0.2250 - val_accuracy: 0.9750 - val_loss: 0.1130\n",
      "Epoch 13/100\n",
      "12/12 - 0s - 10ms/step - accuracy: 0.9250 - loss: 0.2062 - val_accuracy: 0.9750 - val_loss: 0.1061\n",
      "Epoch 14/100\n",
      "12/12 - 0s - 9ms/step - accuracy: 0.9000 - loss: 0.2151 - val_accuracy: 0.9750 - val_loss: 0.0928\n",
      "Epoch 15/100\n",
      "12/12 - 0s - 9ms/step - accuracy: 0.9306 - loss: 0.1933 - val_accuracy: 0.9750 - val_loss: 0.0904\n",
      "Epoch 16/100\n",
      "12/12 - 0s - 10ms/step - accuracy: 0.9167 - loss: 0.2022 - val_accuracy: 1.0000 - val_loss: 0.0838\n",
      "Epoch 17/100\n",
      "12/12 - 0s - 10ms/step - accuracy: 0.9111 - loss: 0.2089 - val_accuracy: 1.0000 - val_loss: 0.0817\n",
      "Epoch 18/100\n",
      "12/12 - 0s - 12ms/step - accuracy: 0.9056 - loss: 0.2151 - val_accuracy: 1.0000 - val_loss: 0.0803\n",
      "Epoch 19/100\n",
      "12/12 - 0s - 8ms/step - accuracy: 0.9056 - loss: 0.2076 - val_accuracy: 1.0000 - val_loss: 0.0846\n",
      "Epoch 20/100\n",
      "12/12 - 0s - 14ms/step - accuracy: 0.9167 - loss: 0.1990 - val_accuracy: 1.0000 - val_loss: 0.0738\n",
      "Epoch 21/100\n",
      "12/12 - 0s - 13ms/step - accuracy: 0.9333 - loss: 0.1928 - val_accuracy: 1.0000 - val_loss: 0.0739\n",
      "Epoch 22/100\n",
      "12/12 - 0s - 10ms/step - accuracy: 0.9167 - loss: 0.2023 - val_accuracy: 1.0000 - val_loss: 0.0677\n",
      "Epoch 23/100\n",
      "12/12 - 0s - 13ms/step - accuracy: 0.9250 - loss: 0.1934 - val_accuracy: 1.0000 - val_loss: 0.0665\n",
      "Epoch 24/100\n",
      "12/12 - 0s - 10ms/step - accuracy: 0.9306 - loss: 0.1925 - val_accuracy: 1.0000 - val_loss: 0.0680\n",
      "Epoch 25/100\n",
      "12/12 - 0s - 10ms/step - accuracy: 0.9139 - loss: 0.1950 - val_accuracy: 1.0000 - val_loss: 0.0652\n",
      "Epoch 26/100\n",
      "12/12 - 0s - 13ms/step - accuracy: 0.9278 - loss: 0.1755 - val_accuracy: 1.0000 - val_loss: 0.0631\n",
      "Epoch 27/100\n",
      "12/12 - 0s - 14ms/step - accuracy: 0.9278 - loss: 0.1742 - val_accuracy: 1.0000 - val_loss: 0.0613\n",
      "Epoch 28/100\n",
      "12/12 - 0s - 9ms/step - accuracy: 0.9250 - loss: 0.1822 - val_accuracy: 1.0000 - val_loss: 0.0588\n",
      "Epoch 29/100\n",
      "12/12 - 0s - 13ms/step - accuracy: 0.9250 - loss: 0.1790 - val_accuracy: 1.0000 - val_loss: 0.0574\n",
      "Epoch 30/100\n",
      "12/12 - 0s - 11ms/step - accuracy: 0.9278 - loss: 0.1652 - val_accuracy: 1.0000 - val_loss: 0.0596\n",
      "Epoch 31/100\n",
      "12/12 - 0s - 11ms/step - accuracy: 0.9306 - loss: 0.1890 - val_accuracy: 1.0000 - val_loss: 0.0556\n",
      "Epoch 32/100\n",
      "12/12 - 0s - 11ms/step - accuracy: 0.9194 - loss: 0.1848 - val_accuracy: 1.0000 - val_loss: 0.0574\n",
      "Epoch 33/100\n",
      "12/12 - 0s - 9ms/step - accuracy: 0.9278 - loss: 0.1954 - val_accuracy: 1.0000 - val_loss: 0.0557\n",
      "Epoch 34/100\n",
      "12/12 - 0s - 10ms/step - accuracy: 0.9306 - loss: 0.1700 - val_accuracy: 1.0000 - val_loss: 0.0557\n",
      "Epoch 35/100\n",
      "12/12 - 0s - 15ms/step - accuracy: 0.9417 - loss: 0.1639 - val_accuracy: 1.0000 - val_loss: 0.0549\n",
      "Epoch 36/100\n",
      "12/12 - 0s - 14ms/step - accuracy: 0.9333 - loss: 0.1790 - val_accuracy: 1.0000 - val_loss: 0.0581\n",
      "Epoch 37/100\n",
      "12/12 - 0s - 9ms/step - accuracy: 0.9222 - loss: 0.1816 - val_accuracy: 1.0000 - val_loss: 0.0550\n",
      "Epoch 38/100\n",
      "12/12 - 0s - 9ms/step - accuracy: 0.9250 - loss: 0.1857 - val_accuracy: 1.0000 - val_loss: 0.0565\n",
      "Epoch 39/100\n",
      "12/12 - 0s - 13ms/step - accuracy: 0.9250 - loss: 0.1888 - val_accuracy: 1.0000 - val_loss: 0.0600\n",
      "Epoch 40/100\n",
      "12/12 - 0s - 10ms/step - accuracy: 0.9222 - loss: 0.1797 - val_accuracy: 1.0000 - val_loss: 0.0544\n",
      "Epoch 41/100\n",
      "12/12 - 0s - 15ms/step - accuracy: 0.9306 - loss: 0.1721 - val_accuracy: 1.0000 - val_loss: 0.0537\n",
      "Epoch 42/100\n",
      "12/12 - 0s - 10ms/step - accuracy: 0.9389 - loss: 0.1684 - val_accuracy: 1.0000 - val_loss: 0.0579\n",
      "Epoch 43/100\n",
      "12/12 - 0s - 11ms/step - accuracy: 0.9278 - loss: 0.1733 - val_accuracy: 1.0000 - val_loss: 0.0518\n",
      "Epoch 44/100\n",
      "12/12 - 0s - 10ms/step - accuracy: 0.9278 - loss: 0.1631 - val_accuracy: 1.0000 - val_loss: 0.0539\n",
      "Epoch 45/100\n",
      "12/12 - 0s - 9ms/step - accuracy: 0.9222 - loss: 0.1723 - val_accuracy: 1.0000 - val_loss: 0.0500\n",
      "Epoch 46/100\n",
      "12/12 - 0s - 14ms/step - accuracy: 0.9278 - loss: 0.1613 - val_accuracy: 1.0000 - val_loss: 0.0472\n",
      "Epoch 47/100\n",
      "12/12 - 0s - 13ms/step - accuracy: 0.9361 - loss: 0.1592 - val_accuracy: 1.0000 - val_loss: 0.0463\n",
      "Epoch 48/100\n",
      "12/12 - 0s - 11ms/step - accuracy: 0.9389 - loss: 0.1608 - val_accuracy: 1.0000 - val_loss: 0.0448\n",
      "Epoch 49/100\n",
      "12/12 - 0s - 9ms/step - accuracy: 0.9278 - loss: 0.1646 - val_accuracy: 1.0000 - val_loss: 0.0447\n",
      "Epoch 50/100\n",
      "12/12 - 0s - 13ms/step - accuracy: 0.9333 - loss: 0.1652 - val_accuracy: 1.0000 - val_loss: 0.0428\n",
      "Epoch 51/100\n",
      "12/12 - 0s - 14ms/step - accuracy: 0.9333 - loss: 0.1714 - val_accuracy: 1.0000 - val_loss: 0.0425\n",
      "Epoch 52/100\n",
      "12/12 - 0s - 12ms/step - accuracy: 0.9278 - loss: 0.1565 - val_accuracy: 1.0000 - val_loss: 0.0441\n",
      "Epoch 53/100\n",
      "12/12 - 0s - 9ms/step - accuracy: 0.9417 - loss: 0.1545 - val_accuracy: 1.0000 - val_loss: 0.0412\n",
      "Epoch 54/100\n",
      "12/12 - 0s - 9ms/step - accuracy: 0.9417 - loss: 0.1557 - val_accuracy: 1.0000 - val_loss: 0.0399\n",
      "Epoch 55/100\n",
      "12/12 - 0s - 10ms/step - accuracy: 0.9361 - loss: 0.1668 - val_accuracy: 1.0000 - val_loss: 0.0437\n",
      "Epoch 56/100\n",
      "12/12 - 0s - 9ms/step - accuracy: 0.9333 - loss: 0.1659 - val_accuracy: 1.0000 - val_loss: 0.0409\n",
      "Epoch 57/100\n",
      "12/12 - 0s - 10ms/step - accuracy: 0.9333 - loss: 0.1581 - val_accuracy: 1.0000 - val_loss: 0.0412\n",
      "Epoch 58/100\n",
      "12/12 - 0s - 13ms/step - accuracy: 0.9472 - loss: 0.1555 - val_accuracy: 1.0000 - val_loss: 0.0398\n",
      "Epoch 59/100\n",
      "12/12 - 0s - 13ms/step - accuracy: 0.9389 - loss: 0.1337 - val_accuracy: 1.0000 - val_loss: 0.0403\n",
      "Epoch 60/100\n",
      "12/12 - 0s - 9ms/step - accuracy: 0.9333 - loss: 0.1745 - val_accuracy: 1.0000 - val_loss: 0.0393\n",
      "Epoch 61/100\n",
      "12/12 - 0s - 9ms/step - accuracy: 0.9333 - loss: 0.1546 - val_accuracy: 1.0000 - val_loss: 0.0406\n",
      "Epoch 62/100\n",
      "12/12 - 0s - 8ms/step - accuracy: 0.9222 - loss: 0.1577 - val_accuracy: 1.0000 - val_loss: 0.0436\n",
      "Epoch 63/100\n",
      "12/12 - 0s - 17ms/step - accuracy: 0.9417 - loss: 0.1616 - val_accuracy: 1.0000 - val_loss: 0.0399\n",
      "Epoch 64/100\n",
      "12/12 - 0s - 22ms/step - accuracy: 0.9417 - loss: 0.1521 - val_accuracy: 1.0000 - val_loss: 0.0420\n",
      "Epoch 65/100\n",
      "12/12 - 0s - 14ms/step - accuracy: 0.9250 - loss: 0.1579 - val_accuracy: 1.0000 - val_loss: 0.0422\n",
      "Epoch 66/100\n",
      "12/12 - 0s - 9ms/step - accuracy: 0.9389 - loss: 0.1476 - val_accuracy: 1.0000 - val_loss: 0.0432\n",
      "Epoch 67/100\n",
      "12/12 - 0s - 14ms/step - accuracy: 0.9472 - loss: 0.1629 - val_accuracy: 1.0000 - val_loss: 0.0388\n",
      "Epoch 68/100\n",
      "12/12 - 0s - 9ms/step - accuracy: 0.9333 - loss: 0.1547 - val_accuracy: 1.0000 - val_loss: 0.0405\n",
      "Epoch 69/100\n",
      "12/12 - 0s - 13ms/step - accuracy: 0.9417 - loss: 0.1628 - val_accuracy: 1.0000 - val_loss: 0.0419\n",
      "Epoch 70/100\n",
      "12/12 - 0s - 9ms/step - accuracy: 0.9472 - loss: 0.1544 - val_accuracy: 1.0000 - val_loss: 0.0412\n",
      "Epoch 71/100\n",
      "12/12 - 0s - 15ms/step - accuracy: 0.9389 - loss: 0.1533 - val_accuracy: 1.0000 - val_loss: 0.0423\n",
      "Epoch 72/100\n",
      "12/12 - 0s - 10ms/step - accuracy: 0.9306 - loss: 0.1650 - val_accuracy: 1.0000 - val_loss: 0.0409\n",
      "Epoch 73/100\n",
      "12/12 - 0s - 9ms/step - accuracy: 0.9194 - loss: 0.1668 - val_accuracy: 1.0000 - val_loss: 0.0389\n",
      "Epoch 74/100\n",
      "12/12 - 0s - 14ms/step - accuracy: 0.9500 - loss: 0.1429 - val_accuracy: 1.0000 - val_loss: 0.0427\n",
      "Epoch 75/100\n",
      "12/12 - 0s - 14ms/step - accuracy: 0.9278 - loss: 0.1584 - val_accuracy: 1.0000 - val_loss: 0.0465\n",
      "Epoch 76/100\n",
      "12/12 - 0s - 9ms/step - accuracy: 0.9417 - loss: 0.1490 - val_accuracy: 1.0000 - val_loss: 0.0393\n",
      "Epoch 77/100\n",
      "12/12 - 0s - 10ms/step - accuracy: 0.9389 - loss: 0.1546 - val_accuracy: 1.0000 - val_loss: 0.0378\n",
      "Epoch 78/100\n",
      "12/12 - 0s - 9ms/step - accuracy: 0.9444 - loss: 0.1456 - val_accuracy: 1.0000 - val_loss: 0.0381\n",
      "Epoch 79/100\n",
      "12/12 - 0s - 9ms/step - accuracy: 0.9500 - loss: 0.1396 - val_accuracy: 1.0000 - val_loss: 0.0390\n",
      "Epoch 80/100\n",
      "12/12 - 0s - 15ms/step - accuracy: 0.9472 - loss: 0.1415 - val_accuracy: 1.0000 - val_loss: 0.0379\n",
      "Epoch 81/100\n",
      "12/12 - 0s - 9ms/step - accuracy: 0.9417 - loss: 0.1389 - val_accuracy: 1.0000 - val_loss: 0.0371\n",
      "Epoch 82/100\n",
      "12/12 - 0s - 8ms/step - accuracy: 0.9278 - loss: 0.1573 - val_accuracy: 1.0000 - val_loss: 0.0357\n",
      "Epoch 83/100\n",
      "12/12 - 0s - 9ms/step - accuracy: 0.9250 - loss: 0.1549 - val_accuracy: 1.0000 - val_loss: 0.0355\n",
      "Epoch 84/100\n",
      "12/12 - 0s - 9ms/step - accuracy: 0.9500 - loss: 0.1405 - val_accuracy: 1.0000 - val_loss: 0.0403\n",
      "Epoch 85/100\n",
      "12/12 - 0s - 9ms/step - accuracy: 0.9389 - loss: 0.1478 - val_accuracy: 1.0000 - val_loss: 0.0362\n",
      "Epoch 86/100\n",
      "12/12 - 0s - 8ms/step - accuracy: 0.9472 - loss: 0.1456 - val_accuracy: 1.0000 - val_loss: 0.0354\n",
      "Epoch 87/100\n",
      "12/12 - 0s - 10ms/step - accuracy: 0.9444 - loss: 0.1409 - val_accuracy: 1.0000 - val_loss: 0.0395\n",
      "Epoch 88/100\n",
      "12/12 - 0s - 9ms/step - accuracy: 0.9389 - loss: 0.1388 - val_accuracy: 1.0000 - val_loss: 0.0330\n",
      "Epoch 89/100\n",
      "12/12 - 0s - 9ms/step - accuracy: 0.9333 - loss: 0.1471 - val_accuracy: 1.0000 - val_loss: 0.0312\n",
      "Epoch 90/100\n",
      "12/12 - 0s - 9ms/step - accuracy: 0.9417 - loss: 0.1351 - val_accuracy: 1.0000 - val_loss: 0.0301\n",
      "Epoch 91/100\n",
      "12/12 - 0s - 8ms/step - accuracy: 0.9500 - loss: 0.1333 - val_accuracy: 1.0000 - val_loss: 0.0342\n",
      "Epoch 92/100\n",
      "12/12 - 0s - 14ms/step - accuracy: 0.9361 - loss: 0.1445 - val_accuracy: 1.0000 - val_loss: 0.0316\n",
      "Epoch 93/100\n",
      "12/12 - 0s - 9ms/step - accuracy: 0.9389 - loss: 0.1512 - val_accuracy: 1.0000 - val_loss: 0.0333\n",
      "Epoch 94/100\n",
      "12/12 - 0s - 13ms/step - accuracy: 0.9389 - loss: 0.1464 - val_accuracy: 1.0000 - val_loss: 0.0319\n",
      "Epoch 95/100\n",
      "12/12 - 0s - 14ms/step - accuracy: 0.9417 - loss: 0.1377 - val_accuracy: 1.0000 - val_loss: 0.0335\n",
      "Epoch 96/100\n",
      "12/12 - 0s - 15ms/step - accuracy: 0.9444 - loss: 0.1488 - val_accuracy: 1.0000 - val_loss: 0.0336\n",
      "Epoch 97/100\n",
      "12/12 - 0s - 11ms/step - accuracy: 0.9361 - loss: 0.1403 - val_accuracy: 1.0000 - val_loss: 0.0365\n",
      "Epoch 98/100\n",
      "12/12 - 0s - 10ms/step - accuracy: 0.9361 - loss: 0.1369 - val_accuracy: 1.0000 - val_loss: 0.0380\n",
      "Epoch 99/100\n",
      "12/12 - 0s - 10ms/step - accuracy: 0.9444 - loss: 0.1383 - val_accuracy: 1.0000 - val_loss: 0.0306\n",
      "Epoch 100/100\n",
      "12/12 - 0s - 9ms/step - accuracy: 0.9528 - loss: 0.1242 - val_accuracy: 1.0000 - val_loss: 0.0322\n"
     ]
    }
   ],
   "source": [
    "history_4 = model4.fit(X_train_norm,\n",
    "                    y_train,\n",
    "                    validation_split=0.1,\n",
    "                    epochs=100,\n",
    "                    verbose=2)"
   ]
  },
  {
   "cell_type": "code",
   "execution_count": 57,
   "metadata": {
    "colab": {
     "base_uri": "https://localhost:8080/",
     "height": 472
    },
    "id": "R-Edw-PIjcoP",
    "outputId": "6f351b16-992e-420b-96c4-6e7793603b23"
   },
   "outputs": [
    {
     "data": {
      "image/png": "[encoded data removed]",
      "text/plain": [
       "<Figure size 640x480 with 1 Axes>"
      ]
     },
     "metadata": {},
     "output_type": "display_data"
    }
   ],
   "source": [
    "plt.plot(history_4.history['accuracy'])\n",
    "plt.plot(history_4.history['val_accuracy'])\n",
    "plt.title('Accuracy vs Epochs')\n",
    "plt.ylabel('Accuracy')\n",
    "plt.xlabel('Epoch')\n",
    "plt.legend(['Train', 'Validation'], loc='lower right')\n",
    "plt.show()"
   ]
  },
  {
   "cell_type": "code",
   "execution_count": 58,
   "metadata": {
    "colab": {
     "base_uri": "https://localhost:8080/",
     "height": 500
    },
    "id": "oEE7BRWEjc4K",
    "outputId": "f611ba56-21dd-4497-9672-40748655fff3"
   },
   "outputs": [
    {
     "data": {
      "image/png": "[encoded data removed]",
      "text/plain": [
       "<Figure size 640x480 with 1 Axes>"
      ]
     },
     "metadata": {},
     "output_type": "display_data"
    }
   ],
   "source": [
    "plot(history_4,'loss')"
   ]
  },
  {
   "cell_type": "code",
   "execution_count": 59,
   "metadata": {
    "colab": {
     "base_uri": "https://localhost:8080/",
     "height": 106
    },
    "id": "lg4we9lWjczc",
    "outputId": "6b9014a0-1dac-4e63-ef8f-f924482342c0"
   },
   "outputs": [
    {
     "name": "stdout",
     "output_type": "stream",
     "text": [
      "\u001b[1m13/13\u001b[0m \u001b[32m━━━━━━━━━━━━━━━━━━━━\u001b[0m\u001b[37m\u001b[0m \u001b[1m0s\u001b[0m 8ms/step\n"
     ]
    },
    {
     "data": {
      "text/html": [
       "<div>\n",
       "<style scoped>\n",
       "    .dataframe tbody tr th:only-of-type {\n",
       "        vertical-align: middle;\n",
       "    }\n",
       "\n",
       "    .dataframe tbody tr th {\n",
       "        vertical-align: top;\n",
       "    }\n",
       "\n",
       "    .dataframe thead th {\n",
       "        text-align: right;\n",
       "    }\n",
       "</style>\n",
       "<table border=\"1\" class=\"dataframe\">\n",
       "  <thead>\n",
       "    <tr style=\"text-align: right;\">\n",
       "      <th></th>\n",
       "      <th>Accuracy</th>\n",
       "      <th>Recall</th>\n",
       "      <th>Precision</th>\n",
       "      <th>F1 Score</th>\n",
       "    </tr>\n",
       "  </thead>\n",
       "  <tbody>\n",
       "    <tr>\n",
       "      <th>0</th>\n",
       "      <td>0.9475</td>\n",
       "      <td>0.9475</td>\n",
       "      <td>0.948061</td>\n",
       "      <td>0.946496</td>\n",
       "    </tr>\n",
       "  </tbody>\n",
       "</table>\n",
       "</div>"
      ],
      "text/plain": [
       "   Accuracy  Recall  Precision  F1 Score\n",
       "0    0.9475  0.9475   0.948061  0.946496"
      ]
     },
     "execution_count": 59,
     "metadata": {},
     "output_type": "execute_result"
    }
   ],
   "source": [
    "model_4_train_perf = model_performance_classification(model4, X_train_norm, y_train)\n",
    "model_4_train_perf"
   ]
  },
  {
   "cell_type": "markdown",
   "metadata": {
    "id": "D9_PzRasrrAW"
   },
   "source": [
    "# Model 5 (four hidden layers Neural Network)"
   ]
  },
  {
   "cell_type": "code",
   "execution_count": 60,
   "metadata": {
    "id": "MU9jneH5tjPd"
   },
   "outputs": [],
   "source": [
    "# Clearing the backend\n",
    "from tensorflow.keras import backend"
   ]
  },
  {
   "cell_type": "code",
   "execution_count": 61,
   "metadata": {
    "colab": {
     "base_uri": "https://localhost:8080/",
     "height": 450
    },
    "id": "h4QMH3cErrJ9",
    "outputId": "13e294be-5fd2-4586-d595-cb3262577036"
   },
   "outputs": [
    {
     "name": "stderr",
     "output_type": "stream",
     "text": [
      "C:\\Users\\gbegb\\AppData\\Roaming\\Python\\Python312\\site-packages\\keras\\src\\layers\\core\\dense.py:87: UserWarning: Do not pass an `input_shape`/`input_dim` argument to a layer. When using Sequential models, prefer using an `Input(shape)` object as the first layer in the model instead.\n",
      "  super().__init__(activity_regularizer=activity_regularizer, **kwargs)\n"
     ]
    },
    {
     "data": {
      "text/html": [
       "<pre style=\"white-space:pre;overflow-x:auto;line-height:normal;font-family:Menlo,'DejaVu Sans Mono',consolas,'Courier New',monospace\"><span style=\"font-weight: bold\">Model: \"sequential_1\"</span>\n",
       "</pre>\n"
      ],
      "text/plain": [
       "\u001b[1mModel: \"sequential_1\"\u001b[0m\n"
      ]
     },
     "metadata": {},
     "output_type": "display_data"
    },
    {
     "data": {
      "text/html": [
       "<pre style=\"white-space:pre;overflow-x:auto;line-height:normal;font-family:Menlo,'DejaVu Sans Mono',consolas,'Courier New',monospace\">┏━━━━━━━━━━━━━━━━━━━━━━━━━━━━━━━━━━━━━━┳━━━━━━━━━━━━━━━━━━━━━━━━━━━━━┳━━━━━━━━━━━━━━━━━┓\n",
       "┃<span style=\"font-weight: bold\"> Layer (type)                         </span>┃<span style=\"font-weight: bold\"> Output Shape                </span>┃<span style=\"font-weight: bold\">         Param # </span>┃\n",
       "┡━━━━━━━━━━━━━━━━━━━━━━━━━━━━━━━━━━━━━━╇━━━━━━━━━━━━━━━━━━━━━━━━━━━━━╇━━━━━━━━━━━━━━━━━┩\n",
       "│ dense_4 (<span style=\"color: #0087ff; text-decoration-color: #0087ff\">Dense</span>)                      │ (<span style=\"color: #00d7ff; text-decoration-color: #00d7ff\">None</span>, <span style=\"color: #00af00; text-decoration-color: #00af00\">256</span>)                 │           <span style=\"color: #00af00; text-decoration-color: #00af00\">2,048</span> │\n",
       "├──────────────────────────────────────┼─────────────────────────────┼─────────────────┤\n",
       "│ dropout_2 (<span style=\"color: #0087ff; text-decoration-color: #0087ff\">Dropout</span>)                  │ (<span style=\"color: #00d7ff; text-decoration-color: #00d7ff\">None</span>, <span style=\"color: #00af00; text-decoration-color: #00af00\">256</span>)                 │               <span style=\"color: #00af00; text-decoration-color: #00af00\">0</span> │\n",
       "├──────────────────────────────────────┼─────────────────────────────┼─────────────────┤\n",
       "│ dense_5 (<span style=\"color: #0087ff; text-decoration-color: #0087ff\">Dense</span>)                      │ (<span style=\"color: #00d7ff; text-decoration-color: #00d7ff\">None</span>, <span style=\"color: #00af00; text-decoration-color: #00af00\">128</span>)                 │          <span style=\"color: #00af00; text-decoration-color: #00af00\">32,896</span> │\n",
       "├──────────────────────────────────────┼─────────────────────────────┼─────────────────┤\n",
       "│ dropout_3 (<span style=\"color: #0087ff; text-decoration-color: #0087ff\">Dropout</span>)                  │ (<span style=\"color: #00d7ff; text-decoration-color: #00d7ff\">None</span>, <span style=\"color: #00af00; text-decoration-color: #00af00\">128</span>)                 │               <span style=\"color: #00af00; text-decoration-color: #00af00\">0</span> │\n",
       "├──────────────────────────────────────┼─────────────────────────────┼─────────────────┤\n",
       "│ dense_6 (<span style=\"color: #0087ff; text-decoration-color: #0087ff\">Dense</span>)                      │ (<span style=\"color: #00d7ff; text-decoration-color: #00d7ff\">None</span>, <span style=\"color: #00af00; text-decoration-color: #00af00\">64</span>)                  │           <span style=\"color: #00af00; text-decoration-color: #00af00\">8,256</span> │\n",
       "├──────────────────────────────────────┼─────────────────────────────┼─────────────────┤\n",
       "│ dropout_4 (<span style=\"color: #0087ff; text-decoration-color: #0087ff\">Dropout</span>)                  │ (<span style=\"color: #00d7ff; text-decoration-color: #00d7ff\">None</span>, <span style=\"color: #00af00; text-decoration-color: #00af00\">64</span>)                  │               <span style=\"color: #00af00; text-decoration-color: #00af00\">0</span> │\n",
       "├──────────────────────────────────────┼─────────────────────────────┼─────────────────┤\n",
       "│ dense_7 (<span style=\"color: #0087ff; text-decoration-color: #0087ff\">Dense</span>)                      │ (<span style=\"color: #00d7ff; text-decoration-color: #00d7ff\">None</span>, <span style=\"color: #00af00; text-decoration-color: #00af00\">32</span>)                  │           <span style=\"color: #00af00; text-decoration-color: #00af00\">2,080</span> │\n",
       "├──────────────────────────────────────┼─────────────────────────────┼─────────────────┤\n",
       "│ dense_8 (<span style=\"color: #0087ff; text-decoration-color: #0087ff\">Dense</span>)                      │ (<span style=\"color: #00d7ff; text-decoration-color: #00d7ff\">None</span>, <span style=\"color: #00af00; text-decoration-color: #00af00\">1</span>)                   │              <span style=\"color: #00af00; text-decoration-color: #00af00\">33</span> │\n",
       "└──────────────────────────────────────┴─────────────────────────────┴─────────────────┘\n",
       "</pre>\n"
      ],
      "text/plain": [
       "┏━━━━━━━━━━━━━━━━━━━━━━━━━━━━━━━━━━━━━━┳━━━━━━━━━━━━━━━━━━━━━━━━━━━━━┳━━━━━━━━━━━━━━━━━┓\n",
       "┃\u001b[1m \u001b[0m\u001b[1mLayer (type)                        \u001b[0m\u001b[1m \u001b[0m┃\u001b[1m \u001b[0m\u001b[1mOutput Shape               \u001b[0m\u001b[1m \u001b[0m┃\u001b[1m \u001b[0m\u001b[1m        Param #\u001b[0m\u001b[1m \u001b[0m┃\n",
       "┡━━━━━━━━━━━━━━━━━━━━━━━━━━━━━━━━━━━━━━╇━━━━━━━━━━━━━━━━━━━━━━━━━━━━━╇━━━━━━━━━━━━━━━━━┩\n",
       "│ dense_4 (\u001b[38;5;33mDense\u001b[0m)                      │ (\u001b[38;5;45mNone\u001b[0m, \u001b[38;5;34m256\u001b[0m)                 │           \u001b[38;5;34m2,048\u001b[0m │\n",
       "├──────────────────────────────────────┼─────────────────────────────┼─────────────────┤\n",
       "│ dropout_2 (\u001b[38;5;33mDropout\u001b[0m)                  │ (\u001b[38;5;45mNone\u001b[0m, \u001b[38;5;34m256\u001b[0m)                 │               \u001b[38;5;34m0\u001b[0m │\n",
       "├──────────────────────────────────────┼─────────────────────────────┼─────────────────┤\n",
       "│ dense_5 (\u001b[38;5;33mDense\u001b[0m)                      │ (\u001b[38;5;45mNone\u001b[0m, \u001b[38;5;34m128\u001b[0m)                 │          \u001b[38;5;34m32,896\u001b[0m │\n",
       "├──────────────────────────────────────┼─────────────────────────────┼─────────────────┤\n",
       "│ dropout_3 (\u001b[38;5;33mDropout\u001b[0m)                  │ (\u001b[38;5;45mNone\u001b[0m, \u001b[38;5;34m128\u001b[0m)                 │               \u001b[38;5;34m0\u001b[0m │\n",
       "├──────────────────────────────────────┼─────────────────────────────┼─────────────────┤\n",
       "│ dense_6 (\u001b[38;5;33mDense\u001b[0m)                      │ (\u001b[38;5;45mNone\u001b[0m, \u001b[38;5;34m64\u001b[0m)                  │           \u001b[38;5;34m8,256\u001b[0m │\n",
       "├──────────────────────────────────────┼─────────────────────────────┼─────────────────┤\n",
       "│ dropout_4 (\u001b[38;5;33mDropout\u001b[0m)                  │ (\u001b[38;5;45mNone\u001b[0m, \u001b[38;5;34m64\u001b[0m)                  │               \u001b[38;5;34m0\u001b[0m │\n",
       "├──────────────────────────────────────┼─────────────────────────────┼─────────────────┤\n",
       "│ dense_7 (\u001b[38;5;33mDense\u001b[0m)                      │ (\u001b[38;5;45mNone\u001b[0m, \u001b[38;5;34m32\u001b[0m)                  │           \u001b[38;5;34m2,080\u001b[0m │\n",
       "├──────────────────────────────────────┼─────────────────────────────┼─────────────────┤\n",
       "│ dense_8 (\u001b[38;5;33mDense\u001b[0m)                      │ (\u001b[38;5;45mNone\u001b[0m, \u001b[38;5;34m1\u001b[0m)                   │              \u001b[38;5;34m33\u001b[0m │\n",
       "└──────────────────────────────────────┴─────────────────────────────┴─────────────────┘\n"
      ]
     },
     "metadata": {},
     "output_type": "display_data"
    },
    {
     "data": {
      "text/html": [
       "<pre style=\"white-space:pre;overflow-x:auto;line-height:normal;font-family:Menlo,'DejaVu Sans Mono',consolas,'Courier New',monospace\"><span style=\"font-weight: bold\"> Total params: </span><span style=\"color: #00af00; text-decoration-color: #00af00\">45,313</span> (177.00 KB)\n",
       "</pre>\n"
      ],
      "text/plain": [
       "\u001b[1m Total params: \u001b[0m\u001b[38;5;34m45,313\u001b[0m (177.00 KB)\n"
      ]
     },
     "metadata": {},
     "output_type": "display_data"
    },
    {
     "data": {
      "text/html": [
       "<pre style=\"white-space:pre;overflow-x:auto;line-height:normal;font-family:Menlo,'DejaVu Sans Mono',consolas,'Courier New',monospace\"><span style=\"font-weight: bold\"> Trainable params: </span><span style=\"color: #00af00; text-decoration-color: #00af00\">45,313</span> (177.00 KB)\n",
       "</pre>\n"
      ],
      "text/plain": [
       "\u001b[1m Trainable params: \u001b[0m\u001b[38;5;34m45,313\u001b[0m (177.00 KB)\n"
      ]
     },
     "metadata": {},
     "output_type": "display_data"
    },
    {
     "data": {
      "text/html": [
       "<pre style=\"white-space:pre;overflow-x:auto;line-height:normal;font-family:Menlo,'DejaVu Sans Mono',consolas,'Courier New',monospace\"><span style=\"font-weight: bold\"> Non-trainable params: </span><span style=\"color: #00af00; text-decoration-color: #00af00\">0</span> (0.00 B)\n",
       "</pre>\n"
      ],
      "text/plain": [
       "\u001b[1m Non-trainable params: \u001b[0m\u001b[38;5;34m0\u001b[0m (0.00 B)\n"
      ]
     },
     "metadata": {},
     "output_type": "display_data"
    }
   ],
   "source": [
    "model5 = Sequential()\n",
    "model5.add(Dense(256, activation='tanh', input_dim=X_train.shape[1]))\n",
    "model5.add(Dropout(0.1))\n",
    "model5.add(Dense(128, activation='tanh'))\n",
    "model5.add(Dropout(0.1))\n",
    "model5.add(Dense(64, activation='tanh'))\n",
    "model5.add(Dropout(0.1))\n",
    "model5.add(Dense(32, activation='tanh'))\n",
    "model5.add(Dense(1, activation='sigmoid'))\n",
    "\n",
    "opt = tf.keras.optimizers.Adam(learning_rate=0.001)\n",
    "model5.compile(loss = 'binary_crossentropy', optimizer=opt, metrics=['accuracy'])\n",
    "model5.summary()"
   ]
  },
  {
   "cell_type": "code",
   "execution_count": 62,
   "metadata": {
    "colab": {
     "base_uri": "https://localhost:8080/"
    },
    "id": "_GtxE3g6rrM_",
    "outputId": "85a11e9f-f909-45f3-dbd9-66e1c672bf2e"
   },
   "outputs": [
    {
     "name": "stdout",
     "output_type": "stream",
     "text": [
      "Epoch 1/200\n",
      "12/12 - 4s - 365ms/step - accuracy: 0.6611 - loss: 0.6135 - val_accuracy: 0.7250 - val_loss: 0.5644\n",
      "Epoch 2/200\n",
      "12/12 - 0s - 13ms/step - accuracy: 0.7222 - loss: 0.5338 - val_accuracy: 0.7250 - val_loss: 0.4632\n",
      "Epoch 3/200\n",
      "12/12 - 0s - 10ms/step - accuracy: 0.7444 - loss: 0.4924 - val_accuracy: 0.8750 - val_loss: 0.3514\n",
      "Epoch 4/200\n",
      "12/12 - 0s - 11ms/step - accuracy: 0.8000 - loss: 0.4245 - val_accuracy: 0.9000 - val_loss: 0.2997\n",
      "Epoch 5/200\n",
      "12/12 - 0s - 14ms/step - accuracy: 0.8389 - loss: 0.3695 - val_accuracy: 0.9000 - val_loss: 0.2692\n",
      "Epoch 6/200\n",
      "12/12 - 0s - 11ms/step - accuracy: 0.8417 - loss: 0.3541 - val_accuracy: 0.9000 - val_loss: 0.2475\n",
      "Epoch 7/200\n",
      "12/12 - 0s - 11ms/step - accuracy: 0.8556 - loss: 0.3348 - val_accuracy: 0.9000 - val_loss: 0.2210\n",
      "Epoch 8/200\n",
      "12/12 - 0s - 11ms/step - accuracy: 0.8583 - loss: 0.3253 - val_accuracy: 0.9000 - val_loss: 0.1829\n",
      "Epoch 9/200\n",
      "12/12 - 0s - 11ms/step - accuracy: 0.8778 - loss: 0.2826 - val_accuracy: 0.9250 - val_loss: 0.1596\n",
      "Epoch 10/200\n",
      "12/12 - 0s - 11ms/step - accuracy: 0.8667 - loss: 0.2710 - val_accuracy: 0.9250 - val_loss: 0.1582\n",
      "Epoch 11/200\n",
      "12/12 - 0s - 13ms/step - accuracy: 0.8722 - loss: 0.2643 - val_accuracy: 0.9500 - val_loss: 0.1298\n",
      "Epoch 12/200\n",
      "12/12 - 0s - 13ms/step - accuracy: 0.9000 - loss: 0.2247 - val_accuracy: 1.0000 - val_loss: 0.1067\n",
      "Epoch 13/200\n",
      "12/12 - 0s - 11ms/step - accuracy: 0.8972 - loss: 0.2071 - val_accuracy: 1.0000 - val_loss: 0.0948\n",
      "Epoch 14/200\n",
      "12/12 - 0s - 10ms/step - accuracy: 0.8972 - loss: 0.2054 - val_accuracy: 1.0000 - val_loss: 0.0976\n",
      "Epoch 15/200\n",
      "12/12 - 0s - 10ms/step - accuracy: 0.9056 - loss: 0.1970 - val_accuracy: 0.9500 - val_loss: 0.1049\n",
      "Epoch 16/200\n",
      "12/12 - 0s - 10ms/step - accuracy: 0.9000 - loss: 0.2120 - val_accuracy: 0.9500 - val_loss: 0.1099\n",
      "Epoch 17/200\n",
      "12/12 - 0s - 12ms/step - accuracy: 0.9000 - loss: 0.2170 - val_accuracy: 0.9500 - val_loss: 0.1003\n",
      "Epoch 18/200\n",
      "12/12 - 0s - 12ms/step - accuracy: 0.9111 - loss: 0.2117 - val_accuracy: 0.9750 - val_loss: 0.0946\n",
      "Epoch 19/200\n",
      "12/12 - 0s - 11ms/step - accuracy: 0.9028 - loss: 0.2105 - val_accuracy: 0.9250 - val_loss: 0.1061\n",
      "Epoch 20/200\n",
      "12/12 - 0s - 11ms/step - accuracy: 0.8972 - loss: 0.2205 - val_accuracy: 0.9750 - val_loss: 0.0850\n",
      "Epoch 21/200\n",
      "12/12 - 0s - 11ms/step - accuracy: 0.9056 - loss: 0.1989 - val_accuracy: 0.9500 - val_loss: 0.0983\n",
      "Epoch 22/200\n",
      "12/12 - 0s - 13ms/step - accuracy: 0.8889 - loss: 0.2271 - val_accuracy: 1.0000 - val_loss: 0.0703\n",
      "Epoch 23/200\n",
      "12/12 - 0s - 11ms/step - accuracy: 0.9083 - loss: 0.2003 - val_accuracy: 1.0000 - val_loss: 0.0655\n",
      "Epoch 24/200\n",
      "12/12 - 0s - 10ms/step - accuracy: 0.9222 - loss: 0.1810 - val_accuracy: 1.0000 - val_loss: 0.0669\n",
      "Epoch 25/200\n",
      "12/12 - 0s - 13ms/step - accuracy: 0.9222 - loss: 0.1869 - val_accuracy: 1.0000 - val_loss: 0.0626\n",
      "Epoch 26/200\n",
      "12/12 - 0s - 11ms/step - accuracy: 0.9278 - loss: 0.1881 - val_accuracy: 1.0000 - val_loss: 0.0626\n",
      "Epoch 27/200\n",
      "12/12 - 0s - 11ms/step - accuracy: 0.9250 - loss: 0.1949 - val_accuracy: 1.0000 - val_loss: 0.0593\n",
      "Epoch 28/200\n",
      "12/12 - 0s - 9ms/step - accuracy: 0.9222 - loss: 0.1893 - val_accuracy: 1.0000 - val_loss: 0.0557\n",
      "Epoch 29/200\n",
      "12/12 - 0s - 10ms/step - accuracy: 0.9167 - loss: 0.1841 - val_accuracy: 1.0000 - val_loss: 0.0657\n",
      "Epoch 30/200\n",
      "12/12 - 0s - 10ms/step - accuracy: 0.9222 - loss: 0.1799 - val_accuracy: 1.0000 - val_loss: 0.0563\n",
      "Epoch 31/200\n",
      "12/12 - 0s - 15ms/step - accuracy: 0.9250 - loss: 0.1829 - val_accuracy: 1.0000 - val_loss: 0.0532\n",
      "Epoch 32/200\n",
      "12/12 - 0s - 10ms/step - accuracy: 0.9389 - loss: 0.1795 - val_accuracy: 1.0000 - val_loss: 0.0599\n",
      "Epoch 33/200\n",
      "12/12 - 0s - 14ms/step - accuracy: 0.9222 - loss: 0.1762 - val_accuracy: 1.0000 - val_loss: 0.0571\n",
      "Epoch 34/200\n",
      "12/12 - 0s - 14ms/step - accuracy: 0.9333 - loss: 0.1713 - val_accuracy: 0.9750 - val_loss: 0.0614\n",
      "Epoch 35/200\n",
      "12/12 - 0s - 12ms/step - accuracy: 0.9306 - loss: 0.1679 - val_accuracy: 1.0000 - val_loss: 0.0534\n",
      "Epoch 36/200\n",
      "12/12 - 0s - 11ms/step - accuracy: 0.9278 - loss: 0.1558 - val_accuracy: 0.9750 - val_loss: 0.0714\n",
      "Epoch 37/200\n",
      "12/12 - 0s - 15ms/step - accuracy: 0.9222 - loss: 0.1773 - val_accuracy: 0.9500 - val_loss: 0.0944\n",
      "Epoch 38/200\n",
      "12/12 - 0s - 11ms/step - accuracy: 0.9278 - loss: 0.1833 - val_accuracy: 1.0000 - val_loss: 0.0588\n",
      "Epoch 39/200\n",
      "12/12 - 0s - 11ms/step - accuracy: 0.9194 - loss: 0.1749 - val_accuracy: 1.0000 - val_loss: 0.0479\n",
      "Epoch 40/200\n",
      "12/12 - 0s - 14ms/step - accuracy: 0.9278 - loss: 0.1591 - val_accuracy: 1.0000 - val_loss: 0.0549\n",
      "Epoch 41/200\n",
      "12/12 - 0s - 13ms/step - accuracy: 0.9361 - loss: 0.1506 - val_accuracy: 1.0000 - val_loss: 0.0475\n",
      "Epoch 42/200\n",
      "12/12 - 0s - 12ms/step - accuracy: 0.9333 - loss: 0.1587 - val_accuracy: 0.9750 - val_loss: 0.0586\n",
      "Epoch 43/200\n",
      "12/12 - 0s - 11ms/step - accuracy: 0.9361 - loss: 0.1549 - val_accuracy: 0.9750 - val_loss: 0.0754\n",
      "Epoch 44/200\n",
      "12/12 - 0s - 11ms/step - accuracy: 0.9278 - loss: 0.1795 - val_accuracy: 1.0000 - val_loss: 0.0565\n",
      "Epoch 45/200\n",
      "12/12 - 0s - 15ms/step - accuracy: 0.9389 - loss: 0.1504 - val_accuracy: 1.0000 - val_loss: 0.0517\n",
      "Epoch 46/200\n",
      "12/12 - 0s - 10ms/step - accuracy: 0.9389 - loss: 0.1546 - val_accuracy: 1.0000 - val_loss: 0.0526\n",
      "Epoch 47/200\n",
      "12/12 - 0s - 11ms/step - accuracy: 0.9361 - loss: 0.1515 - val_accuracy: 0.9750 - val_loss: 0.0623\n",
      "Epoch 48/200\n",
      "12/12 - 0s - 11ms/step - accuracy: 0.9417 - loss: 0.1519 - val_accuracy: 0.9750 - val_loss: 0.0651\n",
      "Epoch 49/200\n",
      "12/12 - 0s - 12ms/step - accuracy: 0.9333 - loss: 0.1694 - val_accuracy: 0.9750 - val_loss: 0.0596\n",
      "Epoch 50/200\n",
      "12/12 - 0s - 11ms/step - accuracy: 0.9361 - loss: 0.1646 - val_accuracy: 1.0000 - val_loss: 0.0491\n",
      "Epoch 51/200\n",
      "12/12 - 0s - 11ms/step - accuracy: 0.9444 - loss: 0.1427 - val_accuracy: 0.9750 - val_loss: 0.0624\n",
      "Epoch 52/200\n",
      "12/12 - 0s - 13ms/step - accuracy: 0.9361 - loss: 0.1420 - val_accuracy: 0.9750 - val_loss: 0.0790\n",
      "Epoch 53/200\n",
      "12/12 - 0s - 14ms/step - accuracy: 0.9167 - loss: 0.1638 - val_accuracy: 0.9750 - val_loss: 0.0768\n",
      "Epoch 54/200\n",
      "12/12 - 0s - 10ms/step - accuracy: 0.9361 - loss: 0.1744 - val_accuracy: 0.9500 - val_loss: 0.0834\n",
      "Epoch 55/200\n",
      "12/12 - 0s - 16ms/step - accuracy: 0.9333 - loss: 0.1711 - val_accuracy: 0.9750 - val_loss: 0.0569\n",
      "Epoch 56/200\n",
      "12/12 - 0s - 9ms/step - accuracy: 0.9306 - loss: 0.1553 - val_accuracy: 1.0000 - val_loss: 0.0464\n",
      "Epoch 57/200\n",
      "12/12 - 0s - 11ms/step - accuracy: 0.9389 - loss: 0.1423 - val_accuracy: 0.9750 - val_loss: 0.0690\n",
      "Epoch 58/200\n",
      "12/12 - 0s - 14ms/step - accuracy: 0.9278 - loss: 0.1687 - val_accuracy: 0.9750 - val_loss: 0.1019\n",
      "Epoch 59/200\n",
      "12/12 - 0s - 10ms/step - accuracy: 0.9222 - loss: 0.1795 - val_accuracy: 0.9750 - val_loss: 0.0777\n",
      "Epoch 60/200\n",
      "12/12 - 0s - 10ms/step - accuracy: 0.9389 - loss: 0.1555 - val_accuracy: 1.0000 - val_loss: 0.0509\n",
      "Epoch 61/200\n",
      "12/12 - 0s - 10ms/step - accuracy: 0.9444 - loss: 0.1431 - val_accuracy: 0.9750 - val_loss: 0.0494\n",
      "Epoch 62/200\n",
      "12/12 - 0s - 14ms/step - accuracy: 0.9361 - loss: 0.1398 - val_accuracy: 0.9750 - val_loss: 0.0508\n",
      "Epoch 63/200\n",
      "12/12 - 0s - 14ms/step - accuracy: 0.9417 - loss: 0.1389 - val_accuracy: 0.9750 - val_loss: 0.0759\n",
      "Epoch 64/200\n",
      "12/12 - 0s - 11ms/step - accuracy: 0.9389 - loss: 0.1555 - val_accuracy: 0.9750 - val_loss: 0.0887\n",
      "Epoch 65/200\n",
      "12/12 - 0s - 14ms/step - accuracy: 0.9444 - loss: 0.1466 - val_accuracy: 0.9750 - val_loss: 0.0755\n",
      "Epoch 66/200\n",
      "12/12 - 0s - 14ms/step - accuracy: 0.9333 - loss: 0.1562 - val_accuracy: 0.9500 - val_loss: 0.1133\n",
      "Epoch 67/200\n",
      "12/12 - 0s - 13ms/step - accuracy: 0.9306 - loss: 0.1657 - val_accuracy: 0.9750 - val_loss: 0.0638\n",
      "Epoch 68/200\n",
      "12/12 - 0s - 11ms/step - accuracy: 0.9389 - loss: 0.1387 - val_accuracy: 0.9750 - val_loss: 0.0776\n",
      "Epoch 69/200\n",
      "12/12 - 0s - 9ms/step - accuracy: 0.9444 - loss: 0.1448 - val_accuracy: 1.0000 - val_loss: 0.0450\n",
      "Epoch 70/200\n",
      "12/12 - 0s - 10ms/step - accuracy: 0.9306 - loss: 0.1516 - val_accuracy: 0.9750 - val_loss: 0.0876\n",
      "Epoch 71/200\n",
      "12/12 - 0s - 10ms/step - accuracy: 0.9250 - loss: 0.1541 - val_accuracy: 0.9500 - val_loss: 0.0932\n",
      "Epoch 72/200\n",
      "12/12 - 0s - 14ms/step - accuracy: 0.9389 - loss: 0.1597 - val_accuracy: 0.9750 - val_loss: 0.0921\n",
      "Epoch 73/200\n",
      "12/12 - 0s - 10ms/step - accuracy: 0.9278 - loss: 0.1661 - val_accuracy: 0.9750 - val_loss: 0.0733\n",
      "Epoch 74/200\n",
      "12/12 - 0s - 10ms/step - accuracy: 0.9333 - loss: 0.1548 - val_accuracy: 0.9750 - val_loss: 0.0677\n",
      "Epoch 75/200\n",
      "12/12 - 0s - 14ms/step - accuracy: 0.9389 - loss: 0.1355 - val_accuracy: 1.0000 - val_loss: 0.0557\n",
      "Epoch 76/200\n",
      "12/12 - 0s - 13ms/step - accuracy: 0.9444 - loss: 0.1341 - val_accuracy: 0.9750 - val_loss: 0.0574\n",
      "Epoch 77/200\n",
      "12/12 - 0s - 15ms/step - accuracy: 0.9389 - loss: 0.1353 - val_accuracy: 0.9750 - val_loss: 0.0681\n",
      "Epoch 78/200\n",
      "12/12 - 0s - 10ms/step - accuracy: 0.9472 - loss: 0.1330 - val_accuracy: 0.9750 - val_loss: 0.0674\n",
      "Epoch 79/200\n",
      "12/12 - 0s - 10ms/step - accuracy: 0.9333 - loss: 0.1399 - val_accuracy: 0.9750 - val_loss: 0.0783\n",
      "Epoch 80/200\n",
      "12/12 - 0s - 10ms/step - accuracy: 0.9417 - loss: 0.1472 - val_accuracy: 1.0000 - val_loss: 0.0572\n",
      "Epoch 81/200\n",
      "12/12 - 0s - 10ms/step - accuracy: 0.9361 - loss: 0.1314 - val_accuracy: 0.9750 - val_loss: 0.0680\n",
      "Epoch 82/200\n",
      "12/12 - 0s - 10ms/step - accuracy: 0.9333 - loss: 0.1471 - val_accuracy: 0.9750 - val_loss: 0.1066\n",
      "Epoch 83/200\n",
      "12/12 - 0s - 14ms/step - accuracy: 0.9389 - loss: 0.1483 - val_accuracy: 0.9750 - val_loss: 0.0904\n",
      "Epoch 84/200\n",
      "12/12 - 0s - 10ms/step - accuracy: 0.9417 - loss: 0.1298 - val_accuracy: 1.0000 - val_loss: 0.0525\n",
      "Epoch 85/200\n",
      "12/12 - 0s - 16ms/step - accuracy: 0.9472 - loss: 0.1312 - val_accuracy: 1.0000 - val_loss: 0.0504\n",
      "Epoch 86/200\n",
      "12/12 - 0s - 14ms/step - accuracy: 0.9361 - loss: 0.1515 - val_accuracy: 0.9500 - val_loss: 0.1555\n",
      "Epoch 87/200\n",
      "12/12 - 0s - 15ms/step - accuracy: 0.9306 - loss: 0.1662 - val_accuracy: 0.9750 - val_loss: 0.0998\n",
      "Epoch 88/200\n",
      "12/12 - 0s - 10ms/step - accuracy: 0.9361 - loss: 0.1466 - val_accuracy: 1.0000 - val_loss: 0.0607\n",
      "Epoch 89/200\n",
      "12/12 - 0s - 10ms/step - accuracy: 0.9500 - loss: 0.1307 - val_accuracy: 0.9750 - val_loss: 0.1030\n",
      "Epoch 90/200\n",
      "12/12 - 0s - 10ms/step - accuracy: 0.9361 - loss: 0.1493 - val_accuracy: 0.9500 - val_loss: 0.0815\n",
      "Epoch 91/200\n",
      "12/12 - 0s - 10ms/step - accuracy: 0.9417 - loss: 0.1317 - val_accuracy: 0.9750 - val_loss: 0.0652\n",
      "Epoch 92/200\n",
      "12/12 - 0s - 10ms/step - accuracy: 0.9444 - loss: 0.1469 - val_accuracy: 0.9500 - val_loss: 0.1002\n",
      "Epoch 93/200\n",
      "12/12 - 0s - 10ms/step - accuracy: 0.9389 - loss: 0.1366 - val_accuracy: 0.9750 - val_loss: 0.0901\n",
      "Epoch 94/200\n",
      "12/12 - 0s - 10ms/step - accuracy: 0.9444 - loss: 0.1399 - val_accuracy: 0.9750 - val_loss: 0.0732\n",
      "Epoch 95/200\n",
      "12/12 - 0s - 10ms/step - accuracy: 0.9389 - loss: 0.1335 - val_accuracy: 0.9750 - val_loss: 0.0860\n",
      "Epoch 96/200\n",
      "12/12 - 0s - 10ms/step - accuracy: 0.9472 - loss: 0.1324 - val_accuracy: 0.9750 - val_loss: 0.0782\n",
      "Epoch 97/200\n",
      "12/12 - 0s - 10ms/step - accuracy: 0.9361 - loss: 0.1429 - val_accuracy: 0.9750 - val_loss: 0.0755\n",
      "Epoch 98/200\n",
      "12/12 - 0s - 13ms/step - accuracy: 0.9361 - loss: 0.1554 - val_accuracy: 0.9500 - val_loss: 0.0845\n",
      "Epoch 99/200\n",
      "12/12 - 0s - 10ms/step - accuracy: 0.9444 - loss: 0.1339 - val_accuracy: 0.9750 - val_loss: 0.0695\n",
      "Epoch 100/200\n",
      "12/12 - 0s - 10ms/step - accuracy: 0.9472 - loss: 0.1212 - val_accuracy: 0.9500 - val_loss: 0.0727\n",
      "Epoch 101/200\n",
      "12/12 - 0s - 13ms/step - accuracy: 0.9417 - loss: 0.1284 - val_accuracy: 0.9750 - val_loss: 0.0603\n",
      "Epoch 102/200\n",
      "12/12 - 0s - 9ms/step - accuracy: 0.9472 - loss: 0.1181 - val_accuracy: 0.9750 - val_loss: 0.0733\n",
      "Epoch 103/200\n",
      "12/12 - 0s - 10ms/step - accuracy: 0.9389 - loss: 0.1362 - val_accuracy: 0.9750 - val_loss: 0.0783\n",
      "Epoch 104/200\n",
      "12/12 - 0s - 10ms/step - accuracy: 0.9444 - loss: 0.1232 - val_accuracy: 0.9750 - val_loss: 0.0678\n",
      "Epoch 105/200\n",
      "12/12 - 0s - 10ms/step - accuracy: 0.9278 - loss: 0.1543 - val_accuracy: 0.9500 - val_loss: 0.1491\n",
      "Epoch 106/200\n",
      "12/12 - 0s - 9ms/step - accuracy: 0.9333 - loss: 0.1548 - val_accuracy: 0.9500 - val_loss: 0.0817\n",
      "Epoch 107/200\n",
      "12/12 - 0s - 14ms/step - accuracy: 0.9417 - loss: 0.1357 - val_accuracy: 0.9500 - val_loss: 0.0748\n",
      "Epoch 108/200\n",
      "12/12 - 0s - 9ms/step - accuracy: 0.9528 - loss: 0.1174 - val_accuracy: 0.9500 - val_loss: 0.0638\n",
      "Epoch 109/200\n",
      "12/12 - 0s - 14ms/step - accuracy: 0.9472 - loss: 0.1300 - val_accuracy: 0.9500 - val_loss: 0.0975\n",
      "Epoch 110/200\n",
      "12/12 - 0s - 11ms/step - accuracy: 0.9444 - loss: 0.1370 - val_accuracy: 0.9500 - val_loss: 0.0802\n",
      "Epoch 111/200\n",
      "12/12 - 0s - 10ms/step - accuracy: 0.9444 - loss: 0.1340 - val_accuracy: 0.9750 - val_loss: 0.0649\n",
      "Epoch 112/200\n",
      "12/12 - 0s - 13ms/step - accuracy: 0.9444 - loss: 0.1408 - val_accuracy: 0.9500 - val_loss: 0.0880\n",
      "Epoch 113/200\n",
      "12/12 - 0s - 10ms/step - accuracy: 0.9528 - loss: 0.1308 - val_accuracy: 0.9500 - val_loss: 0.0686\n",
      "Epoch 114/200\n",
      "12/12 - 0s - 14ms/step - accuracy: 0.9444 - loss: 0.1300 - val_accuracy: 0.9750 - val_loss: 0.0596\n",
      "Epoch 115/200\n",
      "12/12 - 0s - 11ms/step - accuracy: 0.9444 - loss: 0.1224 - val_accuracy: 0.9500 - val_loss: 0.0983\n",
      "Epoch 116/200\n",
      "12/12 - 0s - 14ms/step - accuracy: 0.9444 - loss: 0.1315 - val_accuracy: 1.0000 - val_loss: 0.0452\n",
      "Epoch 117/200\n",
      "12/12 - 0s - 10ms/step - accuracy: 0.9444 - loss: 0.1296 - val_accuracy: 0.9500 - val_loss: 0.0976\n",
      "Epoch 118/200\n",
      "12/12 - 0s - 9ms/step - accuracy: 0.9556 - loss: 0.1284 - val_accuracy: 1.0000 - val_loss: 0.0506\n",
      "Epoch 119/200\n",
      "12/12 - 0s - 13ms/step - accuracy: 0.9444 - loss: 0.1261 - val_accuracy: 0.9750 - val_loss: 0.0612\n",
      "Epoch 120/200\n",
      "12/12 - 0s - 11ms/step - accuracy: 0.9583 - loss: 0.1205 - val_accuracy: 0.9750 - val_loss: 0.0791\n",
      "Epoch 121/200\n",
      "12/12 - 0s - 10ms/step - accuracy: 0.9583 - loss: 0.1212 - val_accuracy: 0.9500 - val_loss: 0.0619\n",
      "Epoch 122/200\n",
      "12/12 - 0s - 10ms/step - accuracy: 0.9528 - loss: 0.1120 - val_accuracy: 0.9500 - val_loss: 0.0817\n",
      "Epoch 123/200\n",
      "12/12 - 0s - 14ms/step - accuracy: 0.9472 - loss: 0.1334 - val_accuracy: 0.9750 - val_loss: 0.0897\n",
      "Epoch 124/200\n",
      "12/12 - 0s - 10ms/step - accuracy: 0.9500 - loss: 0.1270 - val_accuracy: 0.9500 - val_loss: 0.0791\n",
      "Epoch 125/200\n",
      "12/12 - 0s - 10ms/step - accuracy: 0.9611 - loss: 0.1202 - val_accuracy: 0.9500 - val_loss: 0.0716\n",
      "Epoch 126/200\n",
      "12/12 - 0s - 10ms/step - accuracy: 0.9556 - loss: 0.1118 - val_accuracy: 0.9500 - val_loss: 0.0604\n",
      "Epoch 127/200\n",
      "12/12 - 0s - 11ms/step - accuracy: 0.9444 - loss: 0.1319 - val_accuracy: 0.9500 - val_loss: 0.0805\n",
      "Epoch 128/200\n",
      "12/12 - 0s - 13ms/step - accuracy: 0.9500 - loss: 0.1230 - val_accuracy: 1.0000 - val_loss: 0.0476\n",
      "Epoch 129/200\n",
      "12/12 - 0s - 14ms/step - accuracy: 0.9500 - loss: 0.1158 - val_accuracy: 0.9500 - val_loss: 0.0827\n",
      "Epoch 130/200\n",
      "12/12 - 0s - 10ms/step - accuracy: 0.9556 - loss: 0.1186 - val_accuracy: 0.9750 - val_loss: 0.0779\n",
      "Epoch 131/200\n",
      "12/12 - 0s - 10ms/step - accuracy: 0.9528 - loss: 0.1300 - val_accuracy: 0.9500 - val_loss: 0.1051\n",
      "Epoch 132/200\n",
      "12/12 - 0s - 10ms/step - accuracy: 0.9500 - loss: 0.1275 - val_accuracy: 0.9500 - val_loss: 0.0756\n",
      "Epoch 133/200\n",
      "12/12 - 0s - 10ms/step - accuracy: 0.9556 - loss: 0.1241 - val_accuracy: 1.0000 - val_loss: 0.0505\n",
      "Epoch 134/200\n",
      "12/12 - 0s - 15ms/step - accuracy: 0.9556 - loss: 0.1263 - val_accuracy: 0.9750 - val_loss: 0.0792\n",
      "Epoch 135/200\n",
      "12/12 - 0s - 12ms/step - accuracy: 0.9417 - loss: 0.1311 - val_accuracy: 1.0000 - val_loss: 0.0553\n",
      "Epoch 136/200\n",
      "12/12 - 0s - 12ms/step - accuracy: 0.9528 - loss: 0.1198 - val_accuracy: 0.9500 - val_loss: 0.0724\n",
      "Epoch 137/200\n",
      "12/12 - 0s - 12ms/step - accuracy: 0.9500 - loss: 0.1223 - val_accuracy: 0.9750 - val_loss: 0.0595\n",
      "Epoch 138/200\n",
      "12/12 - 0s - 12ms/step - accuracy: 0.9417 - loss: 0.1344 - val_accuracy: 0.9500 - val_loss: 0.0897\n",
      "Epoch 139/200\n",
      "12/12 - 0s - 13ms/step - accuracy: 0.9528 - loss: 0.1185 - val_accuracy: 0.9500 - val_loss: 0.0696\n",
      "Epoch 140/200\n",
      "12/12 - 0s - 11ms/step - accuracy: 0.9528 - loss: 0.1115 - val_accuracy: 0.9500 - val_loss: 0.0788\n",
      "Epoch 141/200\n",
      "12/12 - 0s - 16ms/step - accuracy: 0.9444 - loss: 0.1264 - val_accuracy: 0.9750 - val_loss: 0.0648\n",
      "Epoch 142/200\n",
      "12/12 - 0s - 13ms/step - accuracy: 0.9500 - loss: 0.1253 - val_accuracy: 0.9250 - val_loss: 0.1428\n",
      "Epoch 143/200\n",
      "12/12 - 0s - 13ms/step - accuracy: 0.9417 - loss: 0.1406 - val_accuracy: 0.9750 - val_loss: 0.0666\n",
      "Epoch 144/200\n",
      "12/12 - 0s - 12ms/step - accuracy: 0.9556 - loss: 0.1179 - val_accuracy: 0.9750 - val_loss: 0.0840\n",
      "Epoch 145/200\n",
      "12/12 - 0s - 12ms/step - accuracy: 0.9556 - loss: 0.1229 - val_accuracy: 0.9750 - val_loss: 0.0565\n",
      "Epoch 146/200\n",
      "12/12 - 0s - 11ms/step - accuracy: 0.9583 - loss: 0.1184 - val_accuracy: 0.9500 - val_loss: 0.0688\n",
      "Epoch 147/200\n",
      "12/12 - 0s - 13ms/step - accuracy: 0.9528 - loss: 0.1113 - val_accuracy: 0.9500 - val_loss: 0.0897\n",
      "Epoch 148/200\n",
      "12/12 - 0s - 10ms/step - accuracy: 0.9583 - loss: 0.1079 - val_accuracy: 0.9750 - val_loss: 0.0514\n",
      "Epoch 149/200\n",
      "12/12 - 0s - 10ms/step - accuracy: 0.9500 - loss: 0.1252 - val_accuracy: 0.9250 - val_loss: 0.1267\n",
      "Epoch 150/200\n",
      "12/12 - 0s - 14ms/step - accuracy: 0.9444 - loss: 0.1359 - val_accuracy: 0.9750 - val_loss: 0.0622\n",
      "Epoch 151/200\n",
      "12/12 - 0s - 16ms/step - accuracy: 0.9500 - loss: 0.1237 - val_accuracy: 0.9500 - val_loss: 0.0690\n",
      "Epoch 152/200\n",
      "12/12 - 0s - 13ms/step - accuracy: 0.9611 - loss: 0.1153 - val_accuracy: 0.9500 - val_loss: 0.0873\n",
      "Epoch 153/200\n",
      "12/12 - 0s - 12ms/step - accuracy: 0.9500 - loss: 0.1105 - val_accuracy: 0.9500 - val_loss: 0.1022\n",
      "Epoch 154/200\n",
      "12/12 - 0s - 10ms/step - accuracy: 0.9444 - loss: 0.1234 - val_accuracy: 0.9500 - val_loss: 0.0861\n",
      "Epoch 155/200\n",
      "12/12 - 0s - 11ms/step - accuracy: 0.9611 - loss: 0.1128 - val_accuracy: 0.9750 - val_loss: 0.0662\n",
      "Epoch 156/200\n",
      "12/12 - 0s - 11ms/step - accuracy: 0.9556 - loss: 0.1117 - val_accuracy: 0.9750 - val_loss: 0.0576\n",
      "Epoch 157/200\n",
      "12/12 - 0s - 10ms/step - accuracy: 0.9611 - loss: 0.1043 - val_accuracy: 0.9750 - val_loss: 0.0808\n",
      "Epoch 158/200\n",
      "12/12 - 0s - 11ms/step - accuracy: 0.9444 - loss: 0.1273 - val_accuracy: 0.9750 - val_loss: 0.0707\n",
      "Epoch 159/200\n",
      "12/12 - 0s - 14ms/step - accuracy: 0.9500 - loss: 0.1129 - val_accuracy: 0.9500 - val_loss: 0.0677\n",
      "Epoch 160/200\n",
      "12/12 - 0s - 14ms/step - accuracy: 0.9472 - loss: 0.1106 - val_accuracy: 0.9500 - val_loss: 0.0926\n",
      "Epoch 161/200\n",
      "12/12 - 0s - 11ms/step - accuracy: 0.9528 - loss: 0.1184 - val_accuracy: 0.9750 - val_loss: 0.0656\n",
      "Epoch 162/200\n",
      "12/12 - 0s - 14ms/step - accuracy: 0.9556 - loss: 0.1196 - val_accuracy: 0.9500 - val_loss: 0.0720\n",
      "Epoch 163/200\n",
      "12/12 - 0s - 13ms/step - accuracy: 0.9556 - loss: 0.1086 - val_accuracy: 0.9500 - val_loss: 0.0731\n",
      "Epoch 164/200\n",
      "12/12 - 0s - 10ms/step - accuracy: 0.9500 - loss: 0.1107 - val_accuracy: 1.0000 - val_loss: 0.0547\n",
      "Epoch 165/200\n",
      "12/12 - 0s - 10ms/step - accuracy: 0.9639 - loss: 0.1108 - val_accuracy: 0.9250 - val_loss: 0.1377\n",
      "Epoch 166/200\n",
      "12/12 - 0s - 11ms/step - accuracy: 0.9500 - loss: 0.1268 - val_accuracy: 0.9750 - val_loss: 0.0781\n",
      "Epoch 167/200\n",
      "12/12 - 0s - 14ms/step - accuracy: 0.9472 - loss: 0.1163 - val_accuracy: 0.9750 - val_loss: 0.0744\n",
      "Epoch 168/200\n",
      "12/12 - 0s - 14ms/step - accuracy: 0.9528 - loss: 0.1076 - val_accuracy: 0.9500 - val_loss: 0.0745\n",
      "Epoch 169/200\n",
      "12/12 - 0s - 10ms/step - accuracy: 0.9611 - loss: 0.1006 - val_accuracy: 0.9750 - val_loss: 0.0664\n",
      "Epoch 170/200\n",
      "12/12 - 0s - 10ms/step - accuracy: 0.9583 - loss: 0.1112 - val_accuracy: 0.9750 - val_loss: 0.0627\n",
      "Epoch 171/200\n",
      "12/12 - 0s - 9ms/step - accuracy: 0.9639 - loss: 0.0986 - val_accuracy: 0.9750 - val_loss: 0.0655\n",
      "Epoch 172/200\n",
      "12/12 - 0s - 12ms/step - accuracy: 0.9528 - loss: 0.1082 - val_accuracy: 1.0000 - val_loss: 0.0495\n",
      "Epoch 173/200\n",
      "12/12 - 0s - 12ms/step - accuracy: 0.9583 - loss: 0.1071 - val_accuracy: 0.9750 - val_loss: 0.0648\n",
      "Epoch 174/200\n",
      "12/12 - 0s - 10ms/step - accuracy: 0.9583 - loss: 0.1174 - val_accuracy: 0.9750 - val_loss: 0.0666\n",
      "Epoch 175/200\n",
      "12/12 - 0s - 10ms/step - accuracy: 0.9583 - loss: 0.0986 - val_accuracy: 0.9500 - val_loss: 0.0896\n",
      "Epoch 176/200\n",
      "12/12 - 0s - 10ms/step - accuracy: 0.9583 - loss: 0.1081 - val_accuracy: 0.9500 - val_loss: 0.1053\n",
      "Epoch 177/200\n",
      "12/12 - 0s - 13ms/step - accuracy: 0.9444 - loss: 0.1206 - val_accuracy: 0.9500 - val_loss: 0.0756\n",
      "Epoch 178/200\n",
      "12/12 - 0s - 12ms/step - accuracy: 0.9528 - loss: 0.1133 - val_accuracy: 0.9750 - val_loss: 0.0880\n",
      "Epoch 179/200\n",
      "12/12 - 0s - 10ms/step - accuracy: 0.9444 - loss: 0.1200 - val_accuracy: 0.9750 - val_loss: 0.0571\n",
      "Epoch 180/200\n",
      "12/12 - 0s - 13ms/step - accuracy: 0.9500 - loss: 0.1125 - val_accuracy: 0.9750 - val_loss: 0.0875\n",
      "Epoch 181/200\n",
      "12/12 - 0s - 12ms/step - accuracy: 0.9528 - loss: 0.1161 - val_accuracy: 0.9500 - val_loss: 0.0628\n",
      "Epoch 182/200\n",
      "12/12 - 0s - 10ms/step - accuracy: 0.9556 - loss: 0.1043 - val_accuracy: 0.9750 - val_loss: 0.0563\n",
      "Epoch 183/200\n",
      "12/12 - 0s - 14ms/step - accuracy: 0.9444 - loss: 0.1196 - val_accuracy: 0.9500 - val_loss: 0.0914\n",
      "Epoch 184/200\n",
      "12/12 - 0s - 15ms/step - accuracy: 0.9583 - loss: 0.1095 - val_accuracy: 0.9750 - val_loss: 0.0852\n",
      "Epoch 185/200\n",
      "12/12 - 0s - 10ms/step - accuracy: 0.9583 - loss: 0.1166 - val_accuracy: 0.9750 - val_loss: 0.0639\n",
      "Epoch 186/200\n",
      "12/12 - 0s - 18ms/step - accuracy: 0.9528 - loss: 0.1043 - val_accuracy: 0.9500 - val_loss: 0.0950\n",
      "Epoch 187/200\n",
      "12/12 - 0s - 13ms/step - accuracy: 0.9528 - loss: 0.1208 - val_accuracy: 0.9250 - val_loss: 0.0897\n",
      "Epoch 188/200\n",
      "12/12 - 0s - 10ms/step - accuracy: 0.9583 - loss: 0.1104 - val_accuracy: 0.9750 - val_loss: 0.0659\n",
      "Epoch 189/200\n",
      "12/12 - 0s - 10ms/step - accuracy: 0.9556 - loss: 0.1075 - val_accuracy: 1.0000 - val_loss: 0.0558\n",
      "Epoch 190/200\n",
      "12/12 - 0s - 16ms/step - accuracy: 0.9583 - loss: 0.1020 - val_accuracy: 0.9750 - val_loss: 0.0736\n",
      "Epoch 191/200\n",
      "12/12 - 0s - 11ms/step - accuracy: 0.9528 - loss: 0.1150 - val_accuracy: 0.9750 - val_loss: 0.0775\n",
      "Epoch 192/200\n",
      "12/12 - 0s - 11ms/step - accuracy: 0.9556 - loss: 0.1061 - val_accuracy: 0.9750 - val_loss: 0.0633\n",
      "Epoch 193/200\n",
      "12/12 - 0s - 11ms/step - accuracy: 0.9528 - loss: 0.1130 - val_accuracy: 0.9250 - val_loss: 0.1451\n",
      "Epoch 194/200\n",
      "12/12 - 0s - 10ms/step - accuracy: 0.9444 - loss: 0.1465 - val_accuracy: 0.9750 - val_loss: 0.0584\n",
      "Epoch 195/200\n",
      "12/12 - 0s - 14ms/step - accuracy: 0.9528 - loss: 0.1192 - val_accuracy: 0.9750 - val_loss: 0.0840\n",
      "Epoch 196/200\n",
      "12/12 - 0s - 10ms/step - accuracy: 0.9417 - loss: 0.1154 - val_accuracy: 0.9500 - val_loss: 0.0608\n",
      "Epoch 197/200\n",
      "12/12 - 0s - 10ms/step - accuracy: 0.9528 - loss: 0.1194 - val_accuracy: 0.9750 - val_loss: 0.0768\n",
      "Epoch 198/200\n",
      "12/12 - 0s - 13ms/step - accuracy: 0.9500 - loss: 0.1112 - val_accuracy: 0.9750 - val_loss: 0.0687\n",
      "Epoch 199/200\n",
      "12/12 - 0s - 10ms/step - accuracy: 0.9500 - loss: 0.1164 - val_accuracy: 0.9500 - val_loss: 0.0724\n",
      "Epoch 200/200\n",
      "12/12 - 0s - 10ms/step - accuracy: 0.9472 - loss: 0.1092 - val_accuracy: 0.9750 - val_loss: 0.0470\n"
     ]
    }
   ],
   "source": [
    "history_5 = model5.fit(X_train_norm,\n",
    "                    y_train,\n",
    "                    validation_split=0.1,\n",
    "                    epochs=200,\n",
    "                    verbose=2)"
   ]
  },
  {
   "cell_type": "code",
   "execution_count": 63,
   "metadata": {
    "colab": {
     "base_uri": "https://localhost:8080/",
     "height": 472
    },
    "id": "1mEDmNFdrrPy",
    "outputId": "e82e0c88-8148-4e0a-9909-b3a494c4f407"
   },
   "outputs": [
    {
     "data": {
      "image/png": "[encoded data removed]",
      "text/plain": [
       "<Figure size 640x480 with 1 Axes>"
      ]
     },
     "metadata": {},
     "output_type": "display_data"
    }
   ],
   "source": [
    "plt.plot(history_5.history['accuracy'])\n",
    "plt.plot(history_5.history['val_accuracy'])\n",
    "plt.title('Accuracy vs Epochs')\n",
    "plt.ylabel('Accuracy')\n",
    "plt.xlabel('Epoch')\n",
    "plt.legend(['Train', 'Validation'], loc='lower right')\n",
    "plt.show()"
   ]
  },
  {
   "cell_type": "code",
   "execution_count": 64,
   "metadata": {
    "colab": {
     "base_uri": "https://localhost:8080/",
     "height": 500
    },
    "id": "O4GJGXForrSx",
    "outputId": "e0bb125e-dd13-4c2f-945f-29b978555929"
   },
   "outputs": [
    {
     "data": {
      "image/png": "[encoded data removed]",
      "text/plain": [
       "<Figure size 640x480 with 1 Axes>"
      ]
     },
     "metadata": {},
     "output_type": "display_data"
    }
   ],
   "source": [
    "plot(history_5,'loss')"
   ]
  },
  {
   "cell_type": "code",
   "execution_count": 65,
   "metadata": {
    "colab": {
     "base_uri": "https://localhost:8080/",
     "height": 106
    },
    "id": "mbWYDN3OrrVj",
    "outputId": "316c911b-2bb8-41f1-e0cc-fa0e23f75d85"
   },
   "outputs": [
    {
     "name": "stdout",
     "output_type": "stream",
     "text": [
      "\u001b[1m13/13\u001b[0m \u001b[32m━━━━━━━━━━━━━━━━━━━━\u001b[0m\u001b[37m\u001b[0m \u001b[1m0s\u001b[0m 2ms/step \n"
     ]
    },
    {
     "data": {
      "text/html": [
       "<div>\n",
       "<style scoped>\n",
       "    .dataframe tbody tr th:only-of-type {\n",
       "        vertical-align: middle;\n",
       "    }\n",
       "\n",
       "    .dataframe tbody tr th {\n",
       "        vertical-align: top;\n",
       "    }\n",
       "\n",
       "    .dataframe thead th {\n",
       "        text-align: right;\n",
       "    }\n",
       "</style>\n",
       "<table border=\"1\" class=\"dataframe\">\n",
       "  <thead>\n",
       "    <tr style=\"text-align: right;\">\n",
       "      <th></th>\n",
       "      <th>Accuracy</th>\n",
       "      <th>Recall</th>\n",
       "      <th>Precision</th>\n",
       "      <th>F1 Score</th>\n",
       "    </tr>\n",
       "  </thead>\n",
       "  <tbody>\n",
       "    <tr>\n",
       "      <th>0</th>\n",
       "      <td>0.9475</td>\n",
       "      <td>0.9475</td>\n",
       "      <td>0.948061</td>\n",
       "      <td>0.946496</td>\n",
       "    </tr>\n",
       "  </tbody>\n",
       "</table>\n",
       "</div>"
      ],
      "text/plain": [
       "   Accuracy  Recall  Precision  F1 Score\n",
       "0    0.9475  0.9475   0.948061  0.946496"
      ]
     },
     "execution_count": 65,
     "metadata": {},
     "output_type": "execute_result"
    }
   ],
   "source": [
    "model_5_train_perf = model_performance_classification(model4, X_train_norm, y_train)\n",
    "model_5_train_perf"
   ]
  },
  {
   "cell_type": "markdown",
   "metadata": {
    "id": "q2xY66lbwnpn"
   },
   "source": [
    "## Model Performance Comparison and Final Model Selection"
   ]
  },
  {
   "cell_type": "code",
   "execution_count": 66,
   "metadata": {
    "id": "SqKcMsaqrrYc"
   },
   "outputs": [],
   "source": [
    "# training performance comparison\n",
    "\n",
    "models_train_comp_df = pd.concat(\n",
    "    [\n",
    "        model_train_perf.T,\n",
    "        model_2_train_perf.T,\n",
    "        model_3_train_perf.T,\n",
    "        model_4_train_perf.T,\n",
    "        model_5_train_perf.T\n",
    "    ],\n",
    "    axis=1,\n",
    ")\n",
    "models_train_comp_df.columns = [\n",
    "    \"Neural Network (Adamax, No Regularization)\",\n",
    "    \"Neural Network (Adam, dropout [0.2,0.1])\",\n",
    "    \"Neural Network (Adam, dropout [0.1])\",\n",
    "    \"Neural Network (Adam, dropout [0.1,0.1])\",\n",
    "    \"Neural Network (Adam, dropout [0.1,0.1,0.1])\"\n",
    "]"
   ]
  },
  {
   "cell_type": "code",
   "execution_count": 67,
   "metadata": {
    "colab": {
     "base_uri": "https://localhost:8080/",
     "height": 175
    },
    "id": "YK4Z1UD1rrai",
    "outputId": "97d390bf-ad59-4e25-db83-a285f7a1a1d7"
   },
   "outputs": [
    {
     "data": {
      "text/html": [
       "<div>\n",
       "<style scoped>\n",
       "    .dataframe tbody tr th:only-of-type {\n",
       "        vertical-align: middle;\n",
       "    }\n",
       "\n",
       "    .dataframe tbody tr th {\n",
       "        vertical-align: top;\n",
       "    }\n",
       "\n",
       "    .dataframe thead th {\n",
       "        text-align: right;\n",
       "    }\n",
       "</style>\n",
       "<table border=\"1\" class=\"dataframe\">\n",
       "  <thead>\n",
       "    <tr style=\"text-align: right;\">\n",
       "      <th></th>\n",
       "      <th>Neural Network (Adamax, No Regularization)</th>\n",
       "      <th>Neural Network (Adam, dropout [0.2,0.1])</th>\n",
       "      <th>Neural Network (Adam, dropout [0.1])</th>\n",
       "      <th>Neural Network (Adam, dropout [0.1,0.1])</th>\n",
       "      <th>Neural Network (Adam, dropout [0.1,0.1,0.1])</th>\n",
       "    </tr>\n",
       "  </thead>\n",
       "  <tbody>\n",
       "    <tr>\n",
       "      <th>Accuracy</th>\n",
       "      <td>0.925000</td>\n",
       "      <td>0.957500</td>\n",
       "      <td>0.940000</td>\n",
       "      <td>0.947500</td>\n",
       "      <td>0.947500</td>\n",
       "    </tr>\n",
       "    <tr>\n",
       "      <th>Recall</th>\n",
       "      <td>0.925000</td>\n",
       "      <td>0.957500</td>\n",
       "      <td>0.940000</td>\n",
       "      <td>0.947500</td>\n",
       "      <td>0.947500</td>\n",
       "    </tr>\n",
       "    <tr>\n",
       "      <th>Precision</th>\n",
       "      <td>0.924285</td>\n",
       "      <td>0.957399</td>\n",
       "      <td>0.940467</td>\n",
       "      <td>0.948061</td>\n",
       "      <td>0.948061</td>\n",
       "    </tr>\n",
       "    <tr>\n",
       "      <th>F1 Score</th>\n",
       "      <td>0.923924</td>\n",
       "      <td>0.957084</td>\n",
       "      <td>0.938754</td>\n",
       "      <td>0.946496</td>\n",
       "      <td>0.946496</td>\n",
       "    </tr>\n",
       "  </tbody>\n",
       "</table>\n",
       "</div>"
      ],
      "text/plain": [
       "           Neural Network (Adamax, No Regularization)  \\\n",
       "Accuracy                                     0.925000   \n",
       "Recall                                       0.925000   \n",
       "Precision                                    0.924285   \n",
       "F1 Score                                     0.923924   \n",
       "\n",
       "           Neural Network (Adam, dropout [0.2,0.1])  \\\n",
       "Accuracy                                   0.957500   \n",
       "Recall                                     0.957500   \n",
       "Precision                                  0.957399   \n",
       "F1 Score                                   0.957084   \n",
       "\n",
       "           Neural Network (Adam, dropout [0.1])  \\\n",
       "Accuracy                               0.940000   \n",
       "Recall                                 0.940000   \n",
       "Precision                              0.940467   \n",
       "F1 Score                               0.938754   \n",
       "\n",
       "           Neural Network (Adam, dropout [0.1,0.1])  \\\n",
       "Accuracy                                   0.947500   \n",
       "Recall                                     0.947500   \n",
       "Precision                                  0.948061   \n",
       "F1 Score                                   0.946496   \n",
       "\n",
       "           Neural Network (Adam, dropout [0.1,0.1,0.1])  \n",
       "Accuracy                                       0.947500  \n",
       "Recall                                         0.947500  \n",
       "Precision                                      0.948061  \n",
       "F1 Score                                       0.946496  "
      ]
     },
     "execution_count": 67,
     "metadata": {},
     "output_type": "execute_result"
    }
   ],
   "source": [
    "models_train_comp_df"
   ]
  },
  {
   "cell_type": "markdown",
   "metadata": {
    "id": "GSMlKxfQzQ8u"
   },
   "source": [
    "### **Model evaluation on the test data**"
   ]
  },
  {
   "cell_type": "code",
   "execution_count": 68,
   "metadata": {
    "colab": {
     "base_uri": "https://localhost:8080/"
    },
    "id": "KA_4anLPzRrb",
    "outputId": "cb6b15c1-8592-4565-b0d6-6c31d9afe999"
   },
   "outputs": [
    {
     "name": "stdout",
     "output_type": "stream",
     "text": [
      "\u001b[1m4/4\u001b[0m \u001b[32m━━━━━━━━━━━━━━━━━━━━\u001b[0m\u001b[37m\u001b[0m \u001b[1m0s\u001b[0m 8ms/step - accuracy: 0.9314 - loss: 0.1820 \n",
      "\u001b[1m4/4\u001b[0m \u001b[32m━━━━━━━━━━━━━━━━━━━━\u001b[0m\u001b[37m\u001b[0m \u001b[1m0s\u001b[0m 10ms/step\n"
     ]
    }
   ],
   "source": [
    "model2.evaluate(X_test_norm, y_test, verbose = 1)\n",
    "test_pred = np.round(model2.predict(X_test_norm))"
   ]
  },
  {
   "cell_type": "markdown",
   "metadata": {
    "id": "cjQMB1B6z8Jp"
   },
   "source": [
    "The test accuracy is coming out to be 93% which implies that our model is able to replicate the performance from the train and validation data on the test (unseen) data."
   ]
  },
  {
   "cell_type": "code",
   "execution_count": 69,
   "metadata": {
    "colab": {
     "base_uri": "https://localhost:8080/",
     "height": 626
    },
    "id": "_-OH-Vhyrrdt",
    "outputId": "318b8838-271a-4764-8cbe-3ec98f623643"
   },
   "outputs": [
    {
     "name": "stdout",
     "output_type": "stream",
     "text": [
      "              precision    recall  f1-score   support\n",
      "\n",
      "           0       0.93      0.97      0.95        72\n",
      "           1       0.92      0.82      0.87        28\n",
      "\n",
      "    accuracy                           0.93       100\n",
      "   macro avg       0.93      0.90      0.91       100\n",
      "weighted avg       0.93      0.93      0.93       100\n",
      "\n"
     ]
    },
    {
     "data": {
      "image/png": "[encoded data removed]",
      "text/plain": [
       "<Figure size 800x500 with 2 Axes>"
      ]
     },
     "metadata": {},
     "output_type": "display_data"
    }
   ],
   "source": [
    "from sklearn.metrics import classification_report\n",
    "from sklearn.metrics import confusion_matrix\n",
    "\n",
    "print(classification_report(y_test, test_pred))\n",
    "cm = confusion_matrix(y_test, test_pred)\n",
    "plt.figure(figsize=(8,5))\n",
    "sns.heatmap(cm, annot=True,  fmt='.0f',xticklabels=['Not Admitted', 'Admitted'], yticklabels=['Not Admitted', 'Admitted'])\n",
    "plt.ylabel('Actual')\n",
    "plt.xlabel('Predicted')\n",
    "plt.show()"
   ]
  },
  {
   "cell_type": "markdown",
   "metadata": {
    "id": "nG1o06iz0kiq"
   },
   "source": [
    "**Observations:**\n",
    "\n",
    "- The confusion matrix shows that the model can identify the majority of students who would get admission and who won't get admission to UCLA.\n",
    "- The classification report shows that all the metrics except recall & f1-score for class 1 are above 90%, which is good."
   ]
  },
  {
   "cell_type": "markdown",
   "metadata": {},
   "source": [
    "#### Saving the model for Production Deployment"
   ]
  },
  {
   "cell_type": "code",
   "execution_count": 70,
   "metadata": {
    "id": "L05xYP9i1Mnl"
   },
   "outputs": [],
   "source": [
    "import pickle"
   ]
  },
  {
   "cell_type": "code",
   "execution_count": 71,
   "metadata": {
    "id": "JU6KgZGg1M3J"
   },
   "outputs": [],
   "source": [
    "pickle.dump(model2, open('model.pkl','wb'))"
   ]
  }
 ],
 "metadata": {
  "colab": {
   "provenance": []
  },
  "kernelspec": {
   "display_name": "Python 3 (ipykernel)",
   "language": "python",
   "name": "python3"
  },
  "language_info": {
   "codemirror_mode": {
    "name": "ipython",
    "version": 3
   },
   "file_extension": ".py",
   "mimetype": "text/x-python",
   "name": "python",
   "nbconvert_exporter": "python",
   "pygments_lexer": "ipython3",
   "version": "3.12.4"
  }
 },
 "nbformat": 4,
 "nbformat_minor": 4
}
